{
 "cells": [
  {
   "cell_type": "code",
   "execution_count": 1,
   "id": "1ec66916",
   "metadata": {
    "ExecuteTime": {
     "end_time": "2024-01-21T08:30:47.073192Z",
     "start_time": "2024-01-21T08:30:46.748191Z"
    }
   },
   "outputs": [],
   "source": [
    "import pandas as pd"
   ]
  },
  {
   "cell_type": "code",
   "execution_count": 2,
   "id": "b0c13e91",
   "metadata": {
    "ExecuteTime": {
     "end_time": "2024-01-21T08:31:44.843839Z",
     "start_time": "2024-01-21T08:31:02.508567Z"
    }
   },
   "outputs": [],
   "source": [
    "# Download protein interactions for Homo sapiens \n",
    "# from (https://irefindex.vib.be/wiki/index.php/README_MITAB2.6_for_iRefIndex_20.0)\n",
    "# (this is where funcoup takes protein interactions info from)\n",
    "pins = pd.read_csv('C:/Users/angel/Desktop/Applied Bioinformatics/Thesis/pleiotropy/data/9606.mitab.08-28-2023.txt', sep = '\\t')"
   ]
  },
  {
   "cell_type": "code",
   "execution_count": 3,
   "id": "1fdebb5d",
   "metadata": {
    "ExecuteTime": {
     "end_time": "2024-01-21T08:31:45.704974Z",
     "start_time": "2024-01-21T08:31:45.694357Z"
    }
   },
   "outputs": [
    {
     "data": {
      "text/plain": [
       "(4195462, 54)"
      ]
     },
     "execution_count": 3,
     "metadata": {},
     "output_type": "execute_result"
    }
   ],
   "source": [
    "pins.shape"
   ]
  },
  {
   "cell_type": "code",
   "execution_count": 4,
   "id": "b024bb61",
   "metadata": {
    "ExecuteTime": {
     "end_time": "2024-01-21T08:31:49.170682Z",
     "start_time": "2024-01-21T08:31:49.154874Z"
    }
   },
   "outputs": [
    {
     "data": {
      "text/html": [
       "<div>\n",
       "<style scoped>\n",
       "    .dataframe tbody tr th:only-of-type {\n",
       "        vertical-align: middle;\n",
       "    }\n",
       "\n",
       "    .dataframe tbody tr th {\n",
       "        vertical-align: top;\n",
       "    }\n",
       "\n",
       "    .dataframe thead th {\n",
       "        text-align: right;\n",
       "    }\n",
       "</style>\n",
       "<table border=\"1\" class=\"dataframe\">\n",
       "  <thead>\n",
       "    <tr style=\"text-align: right;\">\n",
       "      <th></th>\n",
       "      <th>#uidA</th>\n",
       "      <th>uidB</th>\n",
       "      <th>altA</th>\n",
       "      <th>altB</th>\n",
       "      <th>aliasA</th>\n",
       "      <th>aliasB</th>\n",
       "      <th>method</th>\n",
       "      <th>author</th>\n",
       "      <th>pmids</th>\n",
       "      <th>taxa</th>\n",
       "      <th>...</th>\n",
       "      <th>irigid</th>\n",
       "      <th>crogida</th>\n",
       "      <th>crogidb</th>\n",
       "      <th>crigid</th>\n",
       "      <th>icrogida</th>\n",
       "      <th>icrogidb</th>\n",
       "      <th>icrigid</th>\n",
       "      <th>imex_id</th>\n",
       "      <th>edgetype</th>\n",
       "      <th>numParticipants</th>\n",
       "    </tr>\n",
       "  </thead>\n",
       "  <tbody>\n",
       "    <tr>\n",
       "      <th>0</th>\n",
       "      <td>complex:+++YPUW/IFXLBjMl6tjRQInYg6Y</td>\n",
       "      <td>uniprotkb:Q04725</td>\n",
       "      <td>rogid:+++YPUW/IFXLBjMl6tjRQInYg6Y</td>\n",
       "      <td>entrezgene/locuslink:7089|refseq:NP_003251|uni...</td>\n",
       "      <td>crogid:tSBu4bq/CzOghhxkRgOVe/WBUD8|icrogid:283...</td>\n",
       "      <td>hgnc:TLE2|uniprotkb:TLE2_HUMAN|crogid:QlgGABrH...</td>\n",
       "      <td>psi-mi:\"MI:0007\"(anti tag coimmunoprecipitation)</td>\n",
       "      <td>Huttlin et al. (2017)</td>\n",
       "      <td>pubmed:10.1038/nature22366|pubmed:28514442</td>\n",
       "      <td>-</td>\n",
       "      <td>...</td>\n",
       "      <td>2463646</td>\n",
       "      <td>tSBu4bq/CzOghhxkRgOVe/WBUD8</td>\n",
       "      <td>QlgGABrHV/Wi5v8Pb3SQAq+1gTU9606</td>\n",
       "      <td>tSBu4bq/CzOghhxkRgOVe/WBUD8</td>\n",
       "      <td>2834642</td>\n",
       "      <td>3724222</td>\n",
       "      <td>2834642</td>\n",
       "      <td>imex:IM-25778-9303</td>\n",
       "      <td>C</td>\n",
       "      <td>7</td>\n",
       "    </tr>\n",
       "    <tr>\n",
       "      <th>1</th>\n",
       "      <td>complex:+++YPUW/IFXLBjMl6tjRQInYg6Y</td>\n",
       "      <td>uniprotkb:Q04725</td>\n",
       "      <td>rogid:+++YPUW/IFXLBjMl6tjRQInYg6Y</td>\n",
       "      <td>entrezgene/locuslink:7089|refseq:NP_003251|uni...</td>\n",
       "      <td>crogid:tSBu4bq/CzOghhxkRgOVe/WBUD8|icrogid:283...</td>\n",
       "      <td>hgnc:TLE2|uniprotkb:TLE2_HUMAN|crogid:QlgGABrH...</td>\n",
       "      <td>psi-mi:\"MI:0007\"(anti tag coimmunoprecipitation)</td>\n",
       "      <td>Huttlin et al. (2017)</td>\n",
       "      <td>pubmed:10.1038/nature22366|pubmed:28514442</td>\n",
       "      <td>-</td>\n",
       "      <td>...</td>\n",
       "      <td>2463646</td>\n",
       "      <td>tSBu4bq/CzOghhxkRgOVe/WBUD8</td>\n",
       "      <td>QlgGABrHV/Wi5v8Pb3SQAq+1gTU9606</td>\n",
       "      <td>tSBu4bq/CzOghhxkRgOVe/WBUD8</td>\n",
       "      <td>2834642</td>\n",
       "      <td>3724222</td>\n",
       "      <td>2834642</td>\n",
       "      <td>imex:IM-25778-9303</td>\n",
       "      <td>C</td>\n",
       "      <td>7</td>\n",
       "    </tr>\n",
       "    <tr>\n",
       "      <th>2</th>\n",
       "      <td>complex:+++YPUW/IFXLBjMl6tjRQInYg6Y</td>\n",
       "      <td>uniprotkb:Q04725</td>\n",
       "      <td>rogid:+++YPUW/IFXLBjMl6tjRQInYg6Y</td>\n",
       "      <td>entrezgene/locuslink:7089|refseq:NP_003251|uni...</td>\n",
       "      <td>crogid:tSBu4bq/CzOghhxkRgOVe/WBUD8|icrogid:283...</td>\n",
       "      <td>hgnc:TLE2|uniprotkb:TLE2_HUMAN|crogid:QlgGABrH...</td>\n",
       "      <td>psi-mi:\"MI:0007\"(anti tag coimmunoprecipitation)</td>\n",
       "      <td>huttlin-2017-3</td>\n",
       "      <td>pubmed:28514442</td>\n",
       "      <td>-</td>\n",
       "      <td>...</td>\n",
       "      <td>2463646</td>\n",
       "      <td>tSBu4bq/CzOghhxkRgOVe/WBUD8</td>\n",
       "      <td>QlgGABrHV/Wi5v8Pb3SQAq+1gTU9606</td>\n",
       "      <td>tSBu4bq/CzOghhxkRgOVe/WBUD8</td>\n",
       "      <td>2834642</td>\n",
       "      <td>3724222</td>\n",
       "      <td>2834642</td>\n",
       "      <td>-</td>\n",
       "      <td>C</td>\n",
       "      <td>7</td>\n",
       "    </tr>\n",
       "    <tr>\n",
       "      <th>3</th>\n",
       "      <td>complex:+++YPUW/IFXLBjMl6tjRQInYg6Y</td>\n",
       "      <td>uniprotkb:Q08117</td>\n",
       "      <td>rogid:+++YPUW/IFXLBjMl6tjRQInYg6Y</td>\n",
       "      <td>entrezgene/locuslink:166|refseq:NP_001121|unip...</td>\n",
       "      <td>crogid:tSBu4bq/CzOghhxkRgOVe/WBUD8|icrogid:283...</td>\n",
       "      <td>hgnc:TLE5|uniprotkb:TLE5_HUMAN|crogid:eveYX2Rj...</td>\n",
       "      <td>psi-mi:\"MI:0007\"(anti tag coimmunoprecipitation)</td>\n",
       "      <td>Huttlin et al. (2017)</td>\n",
       "      <td>pubmed:10.1038/nature22366|pubmed:28514442</td>\n",
       "      <td>-</td>\n",
       "      <td>...</td>\n",
       "      <td>2463646</td>\n",
       "      <td>tSBu4bq/CzOghhxkRgOVe/WBUD8</td>\n",
       "      <td>eveYX2Rj6Oz431E8nGcTk4bUNt89606</td>\n",
       "      <td>tSBu4bq/CzOghhxkRgOVe/WBUD8</td>\n",
       "      <td>2834642</td>\n",
       "      <td>1795878</td>\n",
       "      <td>2834642</td>\n",
       "      <td>imex:IM-25778-9303</td>\n",
       "      <td>C</td>\n",
       "      <td>7</td>\n",
       "    </tr>\n",
       "    <tr>\n",
       "      <th>4</th>\n",
       "      <td>complex:+++YPUW/IFXLBjMl6tjRQInYg6Y</td>\n",
       "      <td>uniprotkb:Q08117</td>\n",
       "      <td>rogid:+++YPUW/IFXLBjMl6tjRQInYg6Y</td>\n",
       "      <td>entrezgene/locuslink:166|refseq:NP_001121|unip...</td>\n",
       "      <td>crogid:tSBu4bq/CzOghhxkRgOVe/WBUD8|icrogid:283...</td>\n",
       "      <td>hgnc:TLE5|uniprotkb:TLE5_HUMAN|crogid:eveYX2Rj...</td>\n",
       "      <td>psi-mi:\"MI:0007\"(anti tag coimmunoprecipitation)</td>\n",
       "      <td>Huttlin et al. (2017)</td>\n",
       "      <td>pubmed:10.1038/nature22366|pubmed:28514442</td>\n",
       "      <td>-</td>\n",
       "      <td>...</td>\n",
       "      <td>2463646</td>\n",
       "      <td>tSBu4bq/CzOghhxkRgOVe/WBUD8</td>\n",
       "      <td>eveYX2Rj6Oz431E8nGcTk4bUNt89606</td>\n",
       "      <td>tSBu4bq/CzOghhxkRgOVe/WBUD8</td>\n",
       "      <td>2834642</td>\n",
       "      <td>1795878</td>\n",
       "      <td>2834642</td>\n",
       "      <td>imex:IM-25778-9303</td>\n",
       "      <td>C</td>\n",
       "      <td>7</td>\n",
       "    </tr>\n",
       "  </tbody>\n",
       "</table>\n",
       "<p>5 rows × 54 columns</p>\n",
       "</div>"
      ],
      "text/plain": [
       "                                 #uidA              uidB  \\\n",
       "0  complex:+++YPUW/IFXLBjMl6tjRQInYg6Y  uniprotkb:Q04725   \n",
       "1  complex:+++YPUW/IFXLBjMl6tjRQInYg6Y  uniprotkb:Q04725   \n",
       "2  complex:+++YPUW/IFXLBjMl6tjRQInYg6Y  uniprotkb:Q04725   \n",
       "3  complex:+++YPUW/IFXLBjMl6tjRQInYg6Y  uniprotkb:Q08117   \n",
       "4  complex:+++YPUW/IFXLBjMl6tjRQInYg6Y  uniprotkb:Q08117   \n",
       "\n",
       "                                altA  \\\n",
       "0  rogid:+++YPUW/IFXLBjMl6tjRQInYg6Y   \n",
       "1  rogid:+++YPUW/IFXLBjMl6tjRQInYg6Y   \n",
       "2  rogid:+++YPUW/IFXLBjMl6tjRQInYg6Y   \n",
       "3  rogid:+++YPUW/IFXLBjMl6tjRQInYg6Y   \n",
       "4  rogid:+++YPUW/IFXLBjMl6tjRQInYg6Y   \n",
       "\n",
       "                                                altB  \\\n",
       "0  entrezgene/locuslink:7089|refseq:NP_003251|uni...   \n",
       "1  entrezgene/locuslink:7089|refseq:NP_003251|uni...   \n",
       "2  entrezgene/locuslink:7089|refseq:NP_003251|uni...   \n",
       "3  entrezgene/locuslink:166|refseq:NP_001121|unip...   \n",
       "4  entrezgene/locuslink:166|refseq:NP_001121|unip...   \n",
       "\n",
       "                                              aliasA  \\\n",
       "0  crogid:tSBu4bq/CzOghhxkRgOVe/WBUD8|icrogid:283...   \n",
       "1  crogid:tSBu4bq/CzOghhxkRgOVe/WBUD8|icrogid:283...   \n",
       "2  crogid:tSBu4bq/CzOghhxkRgOVe/WBUD8|icrogid:283...   \n",
       "3  crogid:tSBu4bq/CzOghhxkRgOVe/WBUD8|icrogid:283...   \n",
       "4  crogid:tSBu4bq/CzOghhxkRgOVe/WBUD8|icrogid:283...   \n",
       "\n",
       "                                              aliasB  \\\n",
       "0  hgnc:TLE2|uniprotkb:TLE2_HUMAN|crogid:QlgGABrH...   \n",
       "1  hgnc:TLE2|uniprotkb:TLE2_HUMAN|crogid:QlgGABrH...   \n",
       "2  hgnc:TLE2|uniprotkb:TLE2_HUMAN|crogid:QlgGABrH...   \n",
       "3  hgnc:TLE5|uniprotkb:TLE5_HUMAN|crogid:eveYX2Rj...   \n",
       "4  hgnc:TLE5|uniprotkb:TLE5_HUMAN|crogid:eveYX2Rj...   \n",
       "\n",
       "                                             method                 author  \\\n",
       "0  psi-mi:\"MI:0007\"(anti tag coimmunoprecipitation)  Huttlin et al. (2017)   \n",
       "1  psi-mi:\"MI:0007\"(anti tag coimmunoprecipitation)  Huttlin et al. (2017)   \n",
       "2  psi-mi:\"MI:0007\"(anti tag coimmunoprecipitation)         huttlin-2017-3   \n",
       "3  psi-mi:\"MI:0007\"(anti tag coimmunoprecipitation)  Huttlin et al. (2017)   \n",
       "4  psi-mi:\"MI:0007\"(anti tag coimmunoprecipitation)  Huttlin et al. (2017)   \n",
       "\n",
       "                                        pmids taxa  ...   irigid  \\\n",
       "0  pubmed:10.1038/nature22366|pubmed:28514442    -  ...  2463646   \n",
       "1  pubmed:10.1038/nature22366|pubmed:28514442    -  ...  2463646   \n",
       "2                             pubmed:28514442    -  ...  2463646   \n",
       "3  pubmed:10.1038/nature22366|pubmed:28514442    -  ...  2463646   \n",
       "4  pubmed:10.1038/nature22366|pubmed:28514442    -  ...  2463646   \n",
       "\n",
       "                       crogida                          crogidb  \\\n",
       "0  tSBu4bq/CzOghhxkRgOVe/WBUD8  QlgGABrHV/Wi5v8Pb3SQAq+1gTU9606   \n",
       "1  tSBu4bq/CzOghhxkRgOVe/WBUD8  QlgGABrHV/Wi5v8Pb3SQAq+1gTU9606   \n",
       "2  tSBu4bq/CzOghhxkRgOVe/WBUD8  QlgGABrHV/Wi5v8Pb3SQAq+1gTU9606   \n",
       "3  tSBu4bq/CzOghhxkRgOVe/WBUD8  eveYX2Rj6Oz431E8nGcTk4bUNt89606   \n",
       "4  tSBu4bq/CzOghhxkRgOVe/WBUD8  eveYX2Rj6Oz431E8nGcTk4bUNt89606   \n",
       "\n",
       "                        crigid icrogida icrogidb  icrigid             imex_id  \\\n",
       "0  tSBu4bq/CzOghhxkRgOVe/WBUD8  2834642  3724222  2834642  imex:IM-25778-9303   \n",
       "1  tSBu4bq/CzOghhxkRgOVe/WBUD8  2834642  3724222  2834642  imex:IM-25778-9303   \n",
       "2  tSBu4bq/CzOghhxkRgOVe/WBUD8  2834642  3724222  2834642                   -   \n",
       "3  tSBu4bq/CzOghhxkRgOVe/WBUD8  2834642  1795878  2834642  imex:IM-25778-9303   \n",
       "4  tSBu4bq/CzOghhxkRgOVe/WBUD8  2834642  1795878  2834642  imex:IM-25778-9303   \n",
       "\n",
       "  edgetype numParticipants  \n",
       "0        C               7  \n",
       "1        C               7  \n",
       "2        C               7  \n",
       "3        C               7  \n",
       "4        C               7  \n",
       "\n",
       "[5 rows x 54 columns]"
      ]
     },
     "execution_count": 4,
     "metadata": {},
     "output_type": "execute_result"
    }
   ],
   "source": [
    "pins.head(5)"
   ]
  },
  {
   "cell_type": "code",
   "execution_count": 5,
   "id": "fc142b94",
   "metadata": {
    "ExecuteTime": {
     "end_time": "2024-01-21T08:31:59.642812Z",
     "start_time": "2024-01-21T08:31:54.139712Z"
    }
   },
   "outputs": [
    {
     "name": "stdout",
     "output_type": "stream",
     "text": [
      "['imex', 'intact', 'mint', 'hprd', 'matrixdb', 'bhf_ucl', 'bar', 'corum', 'uniprotpp', 'hpidb', 'innatedb', 'dip', 'intcomplex', 'bind', 'bind_translation', 'mbinfo', 'mpidb', 'virushost', 'biogrid', 'huri', 'reactome', 'mppi', 'quickgo']\n"
     ]
    }
   ],
   "source": [
    "# Check the databases from which the data are aggregated\n",
    "# Extract values inside parentheses using a regular expression\n",
    "pins['extracted_name'] = pins['sourcedb'].str.extract(r'\\((.*?)\\)')[0]\n",
    "\n",
    "# Get unique database names\n",
    "unique_database_names = pins['extracted_name'].drop_duplicates().tolist()\n",
    "\n",
    "# Display the unique database names\n",
    "print(unique_database_names)"
   ]
  },
  {
   "cell_type": "code",
   "execution_count": 6,
   "id": "29a8a9ad",
   "metadata": {
    "ExecuteTime": {
     "end_time": "2024-01-21T08:32:08.267979Z",
     "start_time": "2024-01-21T08:32:02.473106Z"
    }
   },
   "outputs": [],
   "source": [
    "# file starts with a '#' and pandas integrates it to the first column's name so we remove it\n",
    "pins = pins.rename(columns={'#uidA': 'uidA'})"
   ]
  },
  {
   "cell_type": "code",
   "execution_count": 66,
   "id": "9e093ffe",
   "metadata": {
    "ExecuteTime": {
     "end_time": "2024-01-06T22:56:48.367323Z",
     "start_time": "2024-01-06T22:56:48.358745Z"
    }
   },
   "outputs": [
    {
     "data": {
      "text/plain": [
       "['uidA',\n",
       " 'uidB',\n",
       " 'altA',\n",
       " 'altB',\n",
       " 'aliasA',\n",
       " 'aliasB',\n",
       " 'method',\n",
       " 'author',\n",
       " 'pmids',\n",
       " 'taxa',\n",
       " 'taxb',\n",
       " 'interactionType',\n",
       " 'sourcedb',\n",
       " 'interactionIdentifier',\n",
       " 'confidence',\n",
       " 'expansion',\n",
       " 'biological_role_A',\n",
       " 'biological_role_B',\n",
       " 'experimental_role_A',\n",
       " 'experimental_role_B',\n",
       " 'interactor_type_A',\n",
       " 'interactor_type_B',\n",
       " 'xrefs_A',\n",
       " 'xrefs_B',\n",
       " 'xrefs_Interaction',\n",
       " 'Annotations_A',\n",
       " 'Annotations_B',\n",
       " 'Annotations_Interaction',\n",
       " 'Host_organism_taxid',\n",
       " 'parameters_Interaction',\n",
       " 'Creation_date',\n",
       " 'Update_date',\n",
       " 'Checksum_A',\n",
       " 'Checksum_B',\n",
       " 'Checksum_Interaction',\n",
       " 'Negative',\n",
       " 'OriginalReferenceA',\n",
       " 'OriginalReferenceB',\n",
       " 'FinalReferenceA',\n",
       " 'FinalReferenceB',\n",
       " 'MappingScoreA',\n",
       " 'MappingScoreB',\n",
       " 'irogida',\n",
       " 'irogidb',\n",
       " 'irigid',\n",
       " 'crogida',\n",
       " 'crogidb',\n",
       " 'crigid',\n",
       " 'icrogida',\n",
       " 'icrogidb',\n",
       " 'icrigid',\n",
       " 'imex_id',\n",
       " 'edgetype',\n",
       " 'numParticipants',\n",
       " 'extracted_name']"
      ]
     },
     "execution_count": 66,
     "metadata": {},
     "output_type": "execute_result"
    }
   ],
   "source": [
    "# check the column names\n",
    "list(pins.columns)"
   ]
  },
  {
   "cell_type": "code",
   "execution_count": 7,
   "id": "e3cf47df",
   "metadata": {
    "ExecuteTime": {
     "end_time": "2024-01-21T08:32:08.563178Z",
     "start_time": "2024-01-21T08:32:08.270657Z"
    }
   },
   "outputs": [],
   "source": [
    "# keep column names of interest\n",
    "pins_sub = pins[['uidA','uidB','method','taxa','taxb','interactionType','sourcedb','interactor_type_A','interactor_type_B','Host_organism_taxid','edgetype','numParticipants']]"
   ]
  },
  {
   "cell_type": "code",
   "execution_count": 8,
   "id": "81e4eb53",
   "metadata": {
    "ExecuteTime": {
     "end_time": "2024-01-21T08:32:09.791502Z",
     "start_time": "2024-01-21T08:32:09.779879Z"
    }
   },
   "outputs": [
    {
     "data": {
      "text/html": [
       "<div>\n",
       "<style scoped>\n",
       "    .dataframe tbody tr th:only-of-type {\n",
       "        vertical-align: middle;\n",
       "    }\n",
       "\n",
       "    .dataframe tbody tr th {\n",
       "        vertical-align: top;\n",
       "    }\n",
       "\n",
       "    .dataframe thead th {\n",
       "        text-align: right;\n",
       "    }\n",
       "</style>\n",
       "<table border=\"1\" class=\"dataframe\">\n",
       "  <thead>\n",
       "    <tr style=\"text-align: right;\">\n",
       "      <th></th>\n",
       "      <th>uidA</th>\n",
       "      <th>uidB</th>\n",
       "      <th>method</th>\n",
       "      <th>taxa</th>\n",
       "      <th>taxb</th>\n",
       "      <th>interactionType</th>\n",
       "      <th>sourcedb</th>\n",
       "      <th>interactor_type_A</th>\n",
       "      <th>interactor_type_B</th>\n",
       "      <th>Host_organism_taxid</th>\n",
       "      <th>edgetype</th>\n",
       "      <th>numParticipants</th>\n",
       "    </tr>\n",
       "  </thead>\n",
       "  <tbody>\n",
       "    <tr>\n",
       "      <th>0</th>\n",
       "      <td>complex:+++YPUW/IFXLBjMl6tjRQInYg6Y</td>\n",
       "      <td>uniprotkb:Q04725</td>\n",
       "      <td>psi-mi:\"MI:0007\"(anti tag coimmunoprecipitation)</td>\n",
       "      <td>-</td>\n",
       "      <td>taxid:9606(Homo sapiens)</td>\n",
       "      <td>psi-mi:\"MI:0914\"(association)</td>\n",
       "      <td>psi-mi:\"MI:0670\"(imex)</td>\n",
       "      <td>psi-mi:\"MI:0315\"(protein complex)</td>\n",
       "      <td>psi-mi:\"MI:0326\"(protein)</td>\n",
       "      <td>-</td>\n",
       "      <td>C</td>\n",
       "      <td>7</td>\n",
       "    </tr>\n",
       "    <tr>\n",
       "      <th>1</th>\n",
       "      <td>complex:+++YPUW/IFXLBjMl6tjRQInYg6Y</td>\n",
       "      <td>uniprotkb:Q04725</td>\n",
       "      <td>psi-mi:\"MI:0007\"(anti tag coimmunoprecipitation)</td>\n",
       "      <td>-</td>\n",
       "      <td>taxid:9606(Homo sapiens)</td>\n",
       "      <td>psi-mi:\"MI:0914\"(association)</td>\n",
       "      <td>psi-mi:\"MI:0670\"(imex)</td>\n",
       "      <td>psi-mi:\"MI:0315\"(protein complex)</td>\n",
       "      <td>psi-mi:\"MI:0326\"(protein)</td>\n",
       "      <td>-</td>\n",
       "      <td>C</td>\n",
       "      <td>7</td>\n",
       "    </tr>\n",
       "    <tr>\n",
       "      <th>2</th>\n",
       "      <td>complex:+++YPUW/IFXLBjMl6tjRQInYg6Y</td>\n",
       "      <td>uniprotkb:Q04725</td>\n",
       "      <td>psi-mi:\"MI:0007\"(anti tag coimmunoprecipitation)</td>\n",
       "      <td>-</td>\n",
       "      <td>taxid:9606(Homo sapiens)</td>\n",
       "      <td>psi-mi:\"MI:0914\"(association)</td>\n",
       "      <td>psi-mi:\"MI:0469\"(intact)</td>\n",
       "      <td>psi-mi:\"MI:0315\"(protein complex)</td>\n",
       "      <td>psi-mi:\"MI:0326\"(protein)</td>\n",
       "      <td>taxid:9606(Homo sapiens)</td>\n",
       "      <td>C</td>\n",
       "      <td>7</td>\n",
       "    </tr>\n",
       "    <tr>\n",
       "      <th>3</th>\n",
       "      <td>complex:+++YPUW/IFXLBjMl6tjRQInYg6Y</td>\n",
       "      <td>uniprotkb:Q08117</td>\n",
       "      <td>psi-mi:\"MI:0007\"(anti tag coimmunoprecipitation)</td>\n",
       "      <td>-</td>\n",
       "      <td>taxid:9606(Homo sapiens)</td>\n",
       "      <td>psi-mi:\"MI:0914\"(association)</td>\n",
       "      <td>psi-mi:\"MI:0670\"(imex)</td>\n",
       "      <td>psi-mi:\"MI:0315\"(protein complex)</td>\n",
       "      <td>psi-mi:\"MI:0326\"(protein)</td>\n",
       "      <td>-</td>\n",
       "      <td>C</td>\n",
       "      <td>7</td>\n",
       "    </tr>\n",
       "    <tr>\n",
       "      <th>4</th>\n",
       "      <td>complex:+++YPUW/IFXLBjMl6tjRQInYg6Y</td>\n",
       "      <td>uniprotkb:Q08117</td>\n",
       "      <td>psi-mi:\"MI:0007\"(anti tag coimmunoprecipitation)</td>\n",
       "      <td>-</td>\n",
       "      <td>taxid:9606(Homo sapiens)</td>\n",
       "      <td>psi-mi:\"MI:0914\"(association)</td>\n",
       "      <td>psi-mi:\"MI:0670\"(imex)</td>\n",
       "      <td>psi-mi:\"MI:0315\"(protein complex)</td>\n",
       "      <td>psi-mi:\"MI:0326\"(protein)</td>\n",
       "      <td>-</td>\n",
       "      <td>C</td>\n",
       "      <td>7</td>\n",
       "    </tr>\n",
       "  </tbody>\n",
       "</table>\n",
       "</div>"
      ],
      "text/plain": [
       "                                  uidA              uidB  \\\n",
       "0  complex:+++YPUW/IFXLBjMl6tjRQInYg6Y  uniprotkb:Q04725   \n",
       "1  complex:+++YPUW/IFXLBjMl6tjRQInYg6Y  uniprotkb:Q04725   \n",
       "2  complex:+++YPUW/IFXLBjMl6tjRQInYg6Y  uniprotkb:Q04725   \n",
       "3  complex:+++YPUW/IFXLBjMl6tjRQInYg6Y  uniprotkb:Q08117   \n",
       "4  complex:+++YPUW/IFXLBjMl6tjRQInYg6Y  uniprotkb:Q08117   \n",
       "\n",
       "                                             method taxa  \\\n",
       "0  psi-mi:\"MI:0007\"(anti tag coimmunoprecipitation)    -   \n",
       "1  psi-mi:\"MI:0007\"(anti tag coimmunoprecipitation)    -   \n",
       "2  psi-mi:\"MI:0007\"(anti tag coimmunoprecipitation)    -   \n",
       "3  psi-mi:\"MI:0007\"(anti tag coimmunoprecipitation)    -   \n",
       "4  psi-mi:\"MI:0007\"(anti tag coimmunoprecipitation)    -   \n",
       "\n",
       "                       taxb                interactionType  \\\n",
       "0  taxid:9606(Homo sapiens)  psi-mi:\"MI:0914\"(association)   \n",
       "1  taxid:9606(Homo sapiens)  psi-mi:\"MI:0914\"(association)   \n",
       "2  taxid:9606(Homo sapiens)  psi-mi:\"MI:0914\"(association)   \n",
       "3  taxid:9606(Homo sapiens)  psi-mi:\"MI:0914\"(association)   \n",
       "4  taxid:9606(Homo sapiens)  psi-mi:\"MI:0914\"(association)   \n",
       "\n",
       "                   sourcedb                  interactor_type_A  \\\n",
       "0    psi-mi:\"MI:0670\"(imex)  psi-mi:\"MI:0315\"(protein complex)   \n",
       "1    psi-mi:\"MI:0670\"(imex)  psi-mi:\"MI:0315\"(protein complex)   \n",
       "2  psi-mi:\"MI:0469\"(intact)  psi-mi:\"MI:0315\"(protein complex)   \n",
       "3    psi-mi:\"MI:0670\"(imex)  psi-mi:\"MI:0315\"(protein complex)   \n",
       "4    psi-mi:\"MI:0670\"(imex)  psi-mi:\"MI:0315\"(protein complex)   \n",
       "\n",
       "           interactor_type_B       Host_organism_taxid edgetype  \\\n",
       "0  psi-mi:\"MI:0326\"(protein)                         -        C   \n",
       "1  psi-mi:\"MI:0326\"(protein)                         -        C   \n",
       "2  psi-mi:\"MI:0326\"(protein)  taxid:9606(Homo sapiens)        C   \n",
       "3  psi-mi:\"MI:0326\"(protein)                         -        C   \n",
       "4  psi-mi:\"MI:0326\"(protein)                         -        C   \n",
       "\n",
       "   numParticipants  \n",
       "0                7  \n",
       "1                7  \n",
       "2                7  \n",
       "3                7  \n",
       "4                7  "
      ]
     },
     "execution_count": 8,
     "metadata": {},
     "output_type": "execute_result"
    }
   ],
   "source": [
    "pins_sub.head(5)"
   ]
  },
  {
   "cell_type": "code",
   "execution_count": 9,
   "id": "b36b1a9c",
   "metadata": {
    "ExecuteTime": {
     "end_time": "2024-01-21T08:32:13.599876Z",
     "start_time": "2024-01-21T08:32:13.592446Z"
    }
   },
   "outputs": [
    {
     "data": {
      "text/plain": [
       "(4195462, 12)"
      ]
     },
     "execution_count": 9,
     "metadata": {},
     "output_type": "execute_result"
    }
   ],
   "source": [
    "pins_sub.shape"
   ]
  },
  {
   "cell_type": "code",
   "execution_count": 10,
   "id": "eb79ce69",
   "metadata": {
    "ExecuteTime": {
     "end_time": "2024-01-21T08:32:18.636240Z",
     "start_time": "2024-01-21T08:32:18.531540Z"
    }
   },
   "outputs": [
    {
     "name": "stdout",
     "output_type": "stream",
     "text": [
      "Number of rows with value 'C': 1244513\n",
      "Number of rows with value 'X': 2945942\n",
      "Number of rows with value 'Y': 5007\n"
     ]
    }
   ],
   "source": [
    "# Count occurrences of 'C', 'X', and 'Y' in the 'edgetype' column\n",
    "counts = pins_sub['edgetype'].value_counts()\n",
    "\n",
    "# Print the counts\n",
    "print(\"Number of rows with value 'C':\", counts.get('C', 0))\n",
    "print(\"Number of rows with value 'X':\", counts.get('X', 0))\n",
    "print(\"Number of rows with value 'Y':\", counts.get('Y', 0))"
   ]
  },
  {
   "cell_type": "code",
   "execution_count": 11,
   "id": "bbba2233",
   "metadata": {
    "ExecuteTime": {
     "end_time": "2024-01-21T08:35:32.481083Z",
     "start_time": "2024-01-21T08:35:32.075940Z"
    }
   },
   "outputs": [
    {
     "data": {
      "text/plain": [
       "(2945942, 12)"
      ]
     },
     "execution_count": 11,
     "metadata": {},
     "output_type": "execute_result"
    }
   ],
   "source": [
    "pins_sub = pins_sub[pins_sub['edgetype'] == 'X']\n",
    "pins_sub.shape"
   ]
  },
  {
   "cell_type": "code",
   "execution_count": 12,
   "id": "54ffcb27",
   "metadata": {
    "ExecuteTime": {
     "end_time": "2024-01-21T08:35:42.789700Z",
     "start_time": "2024-01-21T08:35:42.465395Z"
    }
   },
   "outputs": [
    {
     "data": {
      "text/plain": [
       "array(['taxid:9606(Homo sapiens)',\n",
       "       'taxid:1335626(Middle East respiratory syndrome-related coronavirus)',\n",
       "       'taxid:2697049(Severe acute respiratory syndrome coronavirus 2)',\n",
       "       'taxid:10600(Human papillomavirus type 6b)',\n",
       "       'taxid:10090(Mus musculus)',\n",
       "       'taxid:559292(Saccharomyces cerevisiae S288C)',\n",
       "       'taxid:10359(Human betaherpesvirus 5)',\n",
       "       'taxid:491(Neisseria meningitidis serogroup B)',\n",
       "       'taxid:122586(Neisseria meningitidis MC58)',\n",
       "       'taxid:11676(Human immunodeficiency virus 1)',\n",
       "       'taxid:37296(Human gammaherpesvirus 8)',\n",
       "       'taxid:333760(Human papillomavirus type 16)',\n",
       "       'taxid:7227(Drosophila melanogaster)',\n",
       "       'taxid:227984(SARS coronavirus Tor2)',\n",
       "       'taxid:10621(Human papillomavirus 9)',\n",
       "       'taxid:10116(Rattus norvegicus)',\n",
       "       'taxid:9986(Oryctolagus cuniculus)',\n",
       "       'taxid:11714(Human immunodeficiency virus type 2 (ISOLATE BEN))',\n",
       "       'taxid:10298(Human alphaherpesvirus 1)',\n",
       "       'taxid:3702(Arabidopsis thaliana)', 'taxid:9913(Bos taurus)',\n",
       "       'taxid:333763(Human papillomavirus type 32)',\n",
       "       'taxid:10376(Human gammaherpesvirus 4)',\n",
       "       'taxid:9031(Gallus gallus)', 'taxid:8355(Xenopus laevis)',\n",
       "       'taxid:6239(Caenorhabditis elegans)',\n",
       "       'taxid:11709(Human immunodeficiency virus 2)',\n",
       "       'taxid:4896(Schizosaccharomyces pombe)',\n",
       "       'taxid:33708(Murid gammaherpesvirus 4)',\n",
       "       'taxid:32630(synthetic construct)',\n",
       "       'taxid:12643(Ectromelia virus)',\n",
       "       'taxid:60711(Chlorocebus sabaeus)', 'taxid:9598(Pan troglodytes)',\n",
       "       'taxid:333923(Human papillomavirus 5)',\n",
       "       'taxid:41856(Hepatitis C virus genotype 1)',\n",
       "       'taxid:9615(Canis lupus familiaris)', 'taxid:9823(Sus scrofa)',\n",
       "       'taxid:32603(Human betaherpesvirus 6A)',\n",
       "       'taxid:83332(Mycobacterium tuberculosis H37Rv)',\n",
       "       'taxid:9544(Macaca mulatta)', 'taxid:10141(Cavia porcellus)',\n",
       "       'taxid:10029(Cricetulus griseus)',\n",
       "       'taxid:31684(Simian immunodeficiency virus (isolate AGM / clone GRI-1))',\n",
       "       'taxid:7955(Danio rerio)',\n",
       "       'taxid:39947(Oryza sativa Japonica Group)',\n",
       "       'taxid:7668(Strongylocentrotus purpuratus)',\n",
       "       'taxid:12721(Human immunodeficiency virus)',\n",
       "       'taxid:2847144(hepatitis C virus genotype 1a)',\n",
       "       'taxid:11665(Equine infectious anemia virus)',\n",
       "       'taxid:93061(Staphylococcus aureus subsp. aureus NCTC 8325)',\n",
       "       'taxid:441771(Clostridium botulinum A str. Hall)',\n",
       "       'taxid:12078(Echovirus E11)', 'taxid:1314(Streptococcus pyogenes)',\n",
       "       'taxid:562(Escherichia coli)',\n",
       "       'taxid:4932(Saccharomyces cerevisiae)',\n",
       "       'taxid:216597(Salmonella enterica subsp. enterica serovar Typhimurium str. SL1344)',\n",
       "       'taxid:1280(Staphylococcus aureus)',\n",
       "       'taxid:1392(Bacillus anthracis)', 'taxid:8692(Bitis arietans)',\n",
       "       'taxid:295027(Human herpesvirus 5 strain Merlin)',\n",
       "       'taxid:381518(Influenza A virus (A/Wilson-Smith/1933(H1N1)))',\n",
       "       'taxid:128952(Ebola virus - Mayinga, Zaire, 1976)',\n",
       "       'taxid:82830(Epstein-barr virus strain ag876)',\n",
       "       'taxid:1263720(Betacoronavirus England 1)',\n",
       "       'taxid:10583(Human papillomavirus type 1a)',\n",
       "       'taxid:694009(Severe acute respiratory syndrome-related coronavirus)',\n",
       "       'taxid:64320(Zika virus)', 'taxid:632(Yersinia pestis)',\n",
       "       'taxid:10299(Human alphaherpesvirus 1 strain 17)',\n",
       "       'taxid:10579(Human papillomavirus type 8)',\n",
       "       'taxid:83334(Escherichia coli O157:H7)',\n",
       "       'taxid:10377(Human herpesvirus 4 strain B95-8)',\n",
       "       'taxid:493803(Merkel cell polyomavirus)',\n",
       "       'taxid:333761(human papillomavirus 18)',\n",
       "       'taxid:11078(Kunjin virus (STRAIN MRM61C))',\n",
       "       'taxid:11082(West Nile virus)',\n",
       "       'taxid:2043570(Zika virus ZIKV/H. sapiens/FrenchPolynesia/10087PF/2013)',\n",
       "       'taxid:277944(Human coronavirus NL63)',\n",
       "       'taxid:211044(Influenza A virus (A/Puerto Rico/8/1934(H1N1)))',\n",
       "       'taxid:333284(Hepatitis C virus (isolate Con1))',\n",
       "       'taxid:5476(Candida albicans)',\n",
       "       'taxid:11137(Human coronavirus 229E)',\n",
       "       'taxid:443239(Human coronavirus HKU1 (isolate N1))',\n",
       "       'taxid:11624(Lymphocytic choriomeningitis virus (strain Armstrong))',\n",
       "       'taxid:132487(Measles virus strain Schwarz)',\n",
       "       'taxid:11686(Human immunodeficiency virus type 1 (BRU ISOLATE))',\n",
       "       'taxid:31635(Dengue virus 2 16681-PDK53)',\n",
       "       'taxid:177416(Francisella tularensis subsp. tularensis SCHU S4)',\n",
       "       'taxid:868565(Human herpesvirus 8 strain GK18)',\n",
       "       'taxid:9796(Equus caballus)',\n",
       "       'taxid:381517(Influenza A virus (A/Udorn/307/1972(H3N2)))',\n",
       "       'taxid:623(Shigella flexneri)', 'taxid:11706(HIV-1 M/B_HXB2R)',\n",
       "       'taxid:128951(Ebola virus - Zaire (1995))',\n",
       "       'taxid:10614(Human papillomavirus 3)',\n",
       "       'taxid:512345(Hepatitis E virus swine/g3/United States/swUS1)',\n",
       "       'taxid:158611(Influenza A virus (A/Paris/908/97(H3N2)))',\n",
       "       'taxid:512346(Hepatitis E virus human/g1/India/Hyderabad)',\n",
       "       'taxid:10585(human papillomavirus 31)',\n",
       "       'taxid:31634(Dengue virus 2 Thailand/16681/84)',\n",
       "       'taxid:155864(Escherichia coli O157:H7 str. EDL933)',\n",
       "       'taxid:574521(Escherichia coli O127/H6 str. E2348/69)',\n",
       "       'taxid:10280(Molluscum contagiosum virus subtype 1)',\n",
       "       'taxid:198214(Shigella flexneri 2a str. 301)', 'taxid:1980490(-)',\n",
       "       'taxid:10407(Hepatitis B virus)',\n",
       "       'taxid:928302(Hepatitis B virus C/ayr human/Japan/Okamoto)',\n",
       "       'taxid:363744(Influenza A virus (A/chicken/Kurgan/3/2005(H5N1)))',\n",
       "       'taxid:644788(Influenza A virus (A/Vietnam/1194/2004(H5N1)))',\n",
       "       'taxid:36351(Human herpesvirus 6 strain Z29)',\n",
       "       'taxid:480024(Influenza A virus (A/Wyoming/03/2003(H3N2)))',\n",
       "       'taxid:1891767(Betapolyomavirus macacae)',\n",
       "       'taxid:408871(Dengue virus 4 Dominica/814669/1981)',\n",
       "       'taxid:11053(dengue virus type 1)', 'taxid:11034(Sindbis virus)',\n",
       "       'taxid:11259(Human respiratory syncytial virus A2)',\n",
       "       'taxid:28285(Human adenovirus 5)',\n",
       "       'taxid:11901(Bovine leukemia virus)',\n",
       "       'taxid:11927(Human T-cell lymphotrophic virus type 1 (Caribbean isolate))',\n",
       "       'taxid:1235996(Human betacoronavirus 2c EMC/2012)',\n",
       "       'taxid:10588(human papillomavirus 39)',\n",
       "       'taxid:10254(Vaccinia virus WR)',\n",
       "       'taxid:11908(Human T-cell leukemia virus type I)',\n",
       "       'taxid:385599(Influenza A virus (A/udorn/1972(H3N2)))',\n",
       "       'taxid:648242(Adeno-associated virus 2 Srivastava/1982)',\n",
       "       'taxid:334203(Mupapillomavirus 1)',\n",
       "       'taxid:99287(Salmonella enterica subsp. enterica serovar Typhimurium str. LT2)',\n",
       "       'taxid:37124(Chikungunya virus)',\n",
       "       'taxid:11909(Human T-lymphotropic virus 2)',\n",
       "       'taxid:227377(Coxiella burnetii RSA 493)',\n",
       "       'taxid:287(Pseudomonas aeruginosa)',\n",
       "       'taxid:11084(Tick-borne encephalitis virus)',\n",
       "       'taxid:9940(Ovis aries)',\n",
       "       'taxid:11097(Hog cholera virus (strain Alfort))',\n",
       "       'taxid:212042(Anaplasma phagocytophilum str. HZ)',\n",
       "       'taxid:224325(Archaeoglobus fulgidus DSM 4304)',\n",
       "       'taxid:356411(Hepatitis C virus JFH-1)',\n",
       "       'taxid:11685(HIV-1 M:B_ARV2/SF2)',\n",
       "       'taxid:12118(Foot-and-mouth disease virus O)',\n",
       "       'taxid:928303(Hendra virus horse/Australia/Hendra/1994)',\n",
       "       'taxid:11208(Simian virus 5 (strain W3))',\n",
       "       'taxid:2560525(Human orthorubulavirus 2)',\n",
       "       'taxid:11235(Measles virus strain Edmonston)',\n",
       "       'taxid:119856(Francisella tularensis subsp. tularensis)',\n",
       "       'taxid:9103(Meleagris gallopavo)',\n",
       "       \"taxid:10389(Marek's disease herpesvirus type 1 strain MD5)\",\n",
       "       'taxid:11033(Semliki Forest virus)',\n",
       "       'taxid:31631(Human coronavirus OC43)', 'taxid:3649(Carica papaya)',\n",
       "       'taxid:3988(Ricinus communis)',\n",
       "       'taxid:11142(Murine hepatitis virus strain A59)',\n",
       "       'taxid:362651(Human immunodeficiency virus type 1 (isolate YU2))',\n",
       "       'taxid:435895(Human herpesvirus 8 type M)',\n",
       "       'taxid:129875(Human mastadenovirus A)',\n",
       "       'taxid:28282(Human adenovirus 12)',\n",
       "       'taxid:410078(Human respiratory syncytial virus S2)',\n",
       "       'taxid:408686(Dengue virus 4 Philippines/H241/1956)',\n",
       "       'taxid:63746(Hepatitis C virus (isolate H77))',\n",
       "       'taxid:392809(Influenza A virus (A/Victoria/3/1975(H3N2)))',\n",
       "       'taxid:489488(Hepatitis B virus ayw/Australia/AustKW/1991)',\n",
       "       'taxid:224914(Brucella melitensis bv. 1 str. 16M)',\n",
       "       'taxid:272624(Legionella pneumophila subsp. pneumophila str. Philadelphia 1)',\n",
       "       'taxid:103911(Echovirus 22 (strain Harris))',\n",
       "       'taxid:32604(Human betaherpesvirus 6B)',\n",
       "       'taxid:46015(Autographa californica nucleopolyhedrovirus)',\n",
       "       'taxid:10586(human papillomavirus 33)',\n",
       "       'taxid:402527(Influenza A virus (A/chicken/Scotland/1959(H5N1)))',\n",
       "       'taxid:380337(Influenza A virus (A/equine/Prague/1/1956(H7N7)))',\n",
       "       'taxid:329599(Influenza A virus (A/chicken/Guangdong/6/97(H9N2)))',\n",
       "       'taxid:11122(Avian infectious bronchitis virus (strain Beaudette))',\n",
       "       'taxid:3677(Trichosanthes kirilowii)',\n",
       "       'taxid:11043(Rubella virus strain M33)',\n",
       "       'taxid:31531(Vaccinia virus L-IPV)', 'taxid:10245(Vaccinia virus)',\n",
       "       'taxid:10580(human papillomavirus 11)',\n",
       "       'taxid:172045(Elizabethkingia miricola)',\n",
       "       'taxid:421877(Hepatitis C virus isolate HC-J1)',\n",
       "       'taxid:36329(Plasmodium falciparum 3D7)',\n",
       "       'taxid:420174(Hepatitis C virus isolate HC-J4)',\n",
       "       'taxid:37959(Human papillomavirus 38)',\n",
       "       'taxid:2100(Mesomycoplasma hyorhinis)',\n",
       "       'taxid:2316109(Zika virus ZIKV/Human/Cambodia/FSS13025/2010)',\n",
       "       'taxid:169066(Human rhinovirus sp.)',\n",
       "       'taxid:425562(Influenza A virus (A/Henry/1936(H1N1)))',\n",
       "       'taxid:382781(Influenza A virus (A/Singapore/1/1957(H2N2)))',\n",
       "       'taxid:387163(Influenza A virus (A/Leningrad/134/1957(H2N2)))',\n",
       "       'taxid:385624(Influenza A virus (A/Port Chalmers/1/1973(H3N2)))',\n",
       "       'taxid:383581(Influenza A virus (A/Memphis/110/1976(H3N2)))',\n",
       "       'taxid:383596(Influenza A virus (A/Beijing/39/1975(H3N2)))',\n",
       "       'taxid:383586(Influenza A virus (A/Memphis/1/1971(H3N2)))',\n",
       "       'taxid:385640(Influenza A virus (A/Memphis/102/1972(H3N2)))',\n",
       "       'taxid:488241(Influenza A virus (A/Korea/426/1968(H2N2)))',\n",
       "       'taxid:221016(Influenza A virus (A/Queensland/7/70(H3N2)))',\n",
       "       'taxid:387147(Influenza A virus (A/England/878/1969(H3N2)))',\n",
       "       'taxid:380960(Influenza A virus (A/Tokyo/3/1967(H2N2)))',\n",
       "       'taxid:387161(Influenza A virus (A/Japan/305/1957(H2N2)))',\n",
       "       'taxid:384505(Influenza A virus (A/nt/60/1968(H3N2)))',\n",
       "       'taxid:387139(Influenza A virus A/Aichi/2/1968/H3N2)',\n",
       "       'taxid:506350(Influenza A virus (A/Hong Kong/1/1968(H3N2)))',\n",
       "       'taxid:698419(SARS coronavirus wtic-MB)',\n",
       "       'taxid:103922(Human enterovirus 71 (strain 7423/MS/87))',\n",
       "       'taxid:694008(Pipistrellus bat coronavirus HKU5)',\n",
       "       'taxid:11698(Human immunodeficiency virus type 1 (NEW YORK-5 ISOLATE))',\n",
       "       'taxid:11679(Human immunodeficiency virus type 1 (CLONE 12))',\n",
       "       'taxid:7787(Tetronarce californica)',\n",
       "       'taxid:652616(Mycobacterium tuberculosis str. Erdman = ATCC 35801)',\n",
       "       'taxid:269446(Rous sarcoma virus (strain Schmidt-Ruppin A))',\n",
       "       'taxid:11276(Vesicular stomatitis virus)',\n",
       "       'taxid:261268(Influenza A virus (A/Vietnam/1196/2004(H5N1)))',\n",
       "       'taxid:5855(Plasmodium vivax)',\n",
       "       'taxid:11285(Vesicular stomatitis Indiana virus strain San Juan)',\n",
       "       'taxid:11234(Measles morbillivirus)',\n",
       "       'taxid:2593991(Peste des petits ruminants virus)',\n",
       "       'taxid:11232(-)',\n",
       "       'taxid:997555(Influenza A virus (A/reassortant/CDC2005712034(California/07/2004 x Puerto Rico/8/1934)(H3N2)))',\n",
       "       'taxid:251307(Influenza A virus (A/chicken/Netherlands/1/03(H7N7)))',\n",
       "       'taxid:11105(Hepatitis C virus (isolate BK))',\n",
       "       'taxid:11723(Simian immunodeficiency virus)',\n",
       "       'taxid:643960(Influenza A virus (A/New York/1682/2009(H1N1)))',\n",
       "       'taxid:284218(Influenza A virus (A/Viet Nam/1203/2004(H5N1)))',\n",
       "       'taxid:442553(Influenza A virus (A/migratory duck/Hong Kong/MPS180/2003(H4N6)))',\n",
       "       'taxid:9541(Macaca fascicularis)', 'taxid:10970(Rotavirus sp.)',\n",
       "       'taxid:1491(Clostridium botulinum)',\n",
       "       'taxid:335341(Influenza A virus (A/New York/392/2004(H3N2)))',\n",
       "       'taxid:243243(Mycobacterium avium 104)',\n",
       "       'taxid:44689(Dictyostelium discoideum)',\n",
       "       'taxid:10360(Human herpesvirus 5 strain AD169)',\n",
       "       'taxid:337052(Deltapapillomavirus 4)',\n",
       "       'taxid:10228(Trichoplax adhaerens)',\n",
       "       'taxid:160750(Avian infectious bronchitis virus (strain Beaudette US))',\n",
       "       'taxid:11060(dengue virus type 2)',\n",
       "       'taxid:10030(Cricetulus longicaudatus)',\n",
       "       'taxid:39002(Puumala virus sotkamo/v-2969/81)',\n",
       "       'taxid:31647(Hepatitis C virus subtype 1b)',\n",
       "       'taxid:284812(Schizosaccharomyces pombe 972h-)',\n",
       "       'taxid:37122(Human papillomavirus type 6a)',\n",
       "       'taxid:79899(Igbo Ora virus)',\n",
       "       \"taxid:11028(O'nyong-nyong virus strain Gulu)\",\n",
       "       'taxid:348136(Human rotavirus B219)',\n",
       "       'taxid:349344(Bat SARS CoV Rp3/2004)', 'taxid:59300(Getah virus)',\n",
       "       'taxid:59303(Sagiyama virus)',\n",
       "       'taxid:588858(Salmonella enterica subsp. enterica serovar Typhimurium str. 14028S)',\n",
       "       'taxid:928296(Borna disease virus-V)',\n",
       "       'taxid:10566(Human papillomavirus)', 'taxid:121791(-)',\n",
       "       'taxid:1343791(Influenza A virus (A/Puerto Rico/8-LVD3/1934(H1N1)))',\n",
       "       'taxid:10315(Human herpesvirus 2 strain HG52)',\n",
       "       'taxid:172148(Alkhumra hemorrhagic fever virus)',\n",
       "       'taxid:10258(Orf virus)',\n",
       "       'taxid:31530(Myxoma virus (strain Lausanne))',\n",
       "       'taxid:12080(Poliovirus 1)',\n",
       "       'taxid:299386(Equine arteritis virus Bucyrus)',\n",
       "       'taxid:39015(Human T-cell lymphotropic virus type 1 (african isolate))',\n",
       "       'taxid:402046(HTLV-1 isolate Mel 15)',\n",
       "       'taxid:10269(Sheeppox virus KS-1)',\n",
       "       'taxid:10304(Human alphaherpesvirus 1 strain F)',\n",
       "       'taxid:10587(human papillomavirus 35)',\n",
       "       'taxid:39457(Human papillomavirus type 70)',\n",
       "       'taxid:406769(Human T-cell leukemia virus 3 (strain Pyl43))',\n",
       "       'taxid:83333(Escherichia coli K-12)',\n",
       "       'taxid:440390(Influenza A virus (A/Turkey/651242/2006(H5N1)))',\n",
       "       'taxid:10515(Human adenovirus 2)',\n",
       "       'taxid:155218(Influenza A virus (A/Hong Kong/482/97(H5N1)))',\n",
       "       \"taxid:1320(Streptococcus sp. 'group G')\",\n",
       "       'taxid:7719(Ciona intestinalis)',\n",
       "       'taxid:284169(Influenza A virus (A/Ck/HK/31.2/2002(H5N1)))',\n",
       "       'taxid:402520(Influenza A virus (A/chicken/Victoria/1985(H7N7)))',\n",
       "       'taxid:284214(Influenza A virus (A/SCk/HK/YU100/2002(H5N1)))',\n",
       "       'taxid:1891729(Alphapolyomavirus mauratus)',\n",
       "       'taxid:4097(Nicotiana tabacum)',\n",
       "       'taxid:85618(Ateline gammaherpesvirus 3)',\n",
       "       'taxid:271848(Burkholderia thailandensis E264)',\n",
       "       'taxid:253634(SARS coronavirus HB)',\n",
       "       'taxid:10598(human papillomavirus 58)',\n",
       "       'taxid:233412([Haemophilus] ducreyi 35000HP)',\n",
       "       'taxid:11691(Human immunodeficiency virus type 1 (SF162 ISOLATE))',\n",
       "       'taxid:83331(Mycobacterium tuberculosis CDC1551)',\n",
       "       'taxid:487(Neisseria meningitidis)',\n",
       "       'taxid:32606(Rabbitpox virus)',\n",
       "       'taxid:408870(Dengue virus 3 Philippines/H87/1956)',\n",
       "       'taxid:31552(Human papillomavirus type 6)',\n",
       "       'taxid:10533(Human adenovirus 1)', 'taxid:10632(JC polyomavirus)',\n",
       "       'taxid:243277(Vibrio cholerae O1 biovar El Tor str. N16961)',\n",
       "       'taxid:9534(Chlorocebus aethiops)',\n",
       "       'taxid:130309(Human mastadenovirus F)',\n",
       "       'taxid:272561(Chlamydia trachomatis D/UW-3/CX)',\n",
       "       'taxid:643212(Influenza A virus (A/Netherlands/602/2009(H1N1)))',\n",
       "       'taxid:11610(Seoul virus SR11)',\n",
       "       'taxid:10345(Suid alphaherpesvirus 1)',\n",
       "       'taxid:11553(Influenza C virus (C/Ann Arbor/1/50))',\n",
       "       'taxid:31762(Hepatitis delta virus (ISOLATE D380))',\n",
       "       'taxid:378830(Lake Victoria marburgvirus - Angola2005)',\n",
       "       'taxid:46922(Human adenovirus 17)',\n",
       "       'taxid:10623(Kappapapillomavirus 2)',\n",
       "       'taxid:302272(Sendai virus (strain Ohita))',\n",
       "       'taxid:103929(Rabies virus strain Pasteur vaccin)',\n",
       "       'taxid:70149(Measles virus strain Edmonston-Zagreb)',\n",
       "       'taxid:39720(Walleye dermal sarcoma virus)',\n",
       "       'taxid:518987(Influenza B virus (B/Lee/1940))',\n",
       "       'taxid:11072(Japanese encephalitis virus)',\n",
       "       'taxid:208964(Pseudomonas aeruginosa PAO1)',\n",
       "       'taxid:1717(Corynebacterium diphtheriae)',\n",
       "       'taxid:388812(HIV-1 M:C_92BR025)',\n",
       "       'taxid:256753(SARS coronavirus GZ02)',\n",
       "       'taxid:1496(Clostridioides difficile)',\n",
       "       'taxid:1505(Paeniclostridium sordellii)',\n",
       "       'taxid:11678(Human immunodeficiency virus type 1 BH10)',\n",
       "       'taxid:46932(Human adenovirus 30)',\n",
       "       'taxid:212717(Clostridium tetani E88)',\n",
       "       'taxid:31645(Hepatitis C virus (isolate Taiwan))',\n",
       "       'taxid:70146(Measles virus strain Edmonston-B)',\n",
       "       'taxid:630(Yersinia enterocolitica)',\n",
       "       'taxid:10636(Murine polyomavirus strain A2)',\n",
       "       'taxid:335361(Influenza A virus (A/New York/238/2005(H3N2)))',\n",
       "       'taxid:11113(Hepatitis C virus isolate HC-J6)',\n",
       "       'taxid:11116(Hepatitis C virus (isolate Japanese))',\n",
       "       'taxid:93934(Coturnix japonica)',\n",
       "       'taxid:694006(Rousettus bat coronavirus HKU9)',\n",
       "       'taxid:79692(Human respiratory syncytial virus B1)',\n",
       "       'taxid:11580(Snowshoe hare virus)',\n",
       "       'taxid:11133(Bovine coronavirus strain Quebec)',\n",
       "       'taxid:11151(Porcine transmissible gastroenteritis coronavirus strain Purdue)',\n",
       "       'taxid:11225(Human parainfluenza virus 4a (strain Toshiba))',\n",
       "       'taxid:11319(Dhori virus (strain Indian/1313/61))',\n",
       "       'taxid:33740(Rat coronavirus (strain 681))',\n",
       "       'taxid:766194(Dugbe virus (isolate ArD44313))',\n",
       "       'taxid:796210(La Crosse virus L78)',\n",
       "       'taxid:202496(Equine coronavirus NC99)',\n",
       "       'taxid:11250(Human orthopneumovirus)',\n",
       "       'taxid:185431(Trypanosoma brucei brucei TREU927)',\n",
       "       'taxid:645098(Measles virus strain Ichinose-B95a)',\n",
       "       'taxid:1891730(Alphapolyomavirus muris)', 'taxid:1980494(-)',\n",
       "       'taxid:11284(Vesicular stomatitis Indiana virus strain Orsay)',\n",
       "       'taxid:402524(Influenza A virus (A/chicken/Rostock/45/1934(H7N1)))',\n",
       "       'taxid:2111(Metamycoplasma arthritidis)',\n",
       "       'taxid:727(Haemophilus influenzae)',\n",
       "       'taxid:375177(Haemophilus influenzae 3655)',\n",
       "       'taxid:1236608(Moraxella catarrhalis BBH18)',\n",
       "       'taxid:480(Moraxella catarrhalis)',\n",
       "       'taxid:5836(Plasmodium falciparum CDC/Honduras)',\n",
       "       'taxid:272634(Mycoplasmoides pneumoniae M129)',\n",
       "       'taxid:11320(Influenza A virus)',\n",
       "       'taxid:10684(Bacillus phage PBS2)',\n",
       "       'taxid:633(Yersinia pseudotuberculosis)',\n",
       "       'taxid:12538(Lyssavirus mokola)',\n",
       "       'taxid:337041(Alphapapillomavirus 9)',\n",
       "       'taxid:928306(Moloney murine leukemia virus isolate Shinnick)',\n",
       "       'taxid:480019(Influenza A virus (A/Moscow/10/1999(H3N2)))',\n",
       "       'taxid:243274(Thermotoga maritima MSB8)',\n",
       "       'taxid:197(Campylobacter jejuni)',\n",
       "       'taxid:11104(Hepatitis C virus (isolate 1))',\n",
       "       'taxid:11886(Rous sarcoma virus)',\n",
       "       'taxid:6500(Aplysia californica)', 'taxid:11103(-)',\n",
       "       'taxid:11879(Avian sarcoma virus PR2257)',\n",
       "       'taxid:672(Vibrio vulnificus)',\n",
       "       'taxid:6956(Dermatophagoides pteronyssinus)',\n",
       "       'taxid:11039(Western equine encephalitis virus)',\n",
       "       'taxid:33727(Marburg virus - Musoke, Kenya, 1980)',\n",
       "       'taxid:33728(Lake Victoria marburgvirus - Popp)',\n",
       "       'taxid:378809(Ravn virus - Ravn, Kenya, 1987)',\n",
       "       'taxid:482820(Lake Victoria marburgvirus - Ozolin)',\n",
       "       'taxid:622(Shigella dysenteriae)',\n",
       "       'taxid:10249(Vaccinia virus Copenhagen)',\n",
       "       'taxid:329389(Hepatitis C virus (isolate Glasgow))',\n",
       "       'taxid:6848(Carcinoscorpius rotundicauda)',\n",
       "       'taxid:73239(Plasmodium yoelii yoelii)',\n",
       "       'taxid:10390(Gallid alphaherpesvirus 2)',\n",
       "       'taxid:169963(Listeria monocytogenes EGD-e)',\n",
       "       'taxid:11198(Sendai virus (Z))',\n",
       "       'taxid:31547(human papillomavirus 20)',\n",
       "       'taxid:1334565(Listeria monocytogenes EGD)',\n",
       "       'taxid:10617(Human papillomavirus 4)',\n",
       "       'taxid:247269(Human papillomavirus type 96)',\n",
       "       'taxid:247268(Human papillomavirus 93)',\n",
       "       'taxid:211787(Human papillomavirus type 92)',\n",
       "       'taxid:186538(Zaire ebolavirus)', 'taxid:6087(Hydra vulgaris)',\n",
       "       'taxid:10243(Cowpox virus)',\n",
       "       'taxid:31768(Hepatitis E virus (strain Mexico))',\n",
       "       'taxid:652674(Hepatitis E virus isolate Hetian)',\n",
       "       'taxid:437607(Influenza A virus (A/hvPR8/34(H1N1)))',\n",
       "       'taxid:587200(Variola virus human/India/Ind3/1967)',\n",
       "       'taxid:7070(Tribolium castaneum)',\n",
       "       'taxid:265874(Ectromelia virus Moscow)',\n",
       "       'taxid:351266(Influenza A virus (A/Hong Kong/43/1975(H3N2)))',\n",
       "       'taxid:386032(Reston ebolavirus - Reston (1989))',\n",
       "       'taxid:11926(Human T-cell lymphotrophic virus type 1 (strain ATK))',\n",
       "       'taxid:237561(Candida albicans SC5314)',\n",
       "       'taxid:3052480(Orthohantavirus hantanense)',\n",
       "       'taxid:382835(Influenza A virus (A/WSN/1933(H1N1)))',\n",
       "       'taxid:11273(Chandipura virus I653514)',\n",
       "       'taxid:6339(Heligmosomoides polygyrus)',\n",
       "       'taxid:992212(SFTS virus HB29)', 'taxid:11628(-)',\n",
       "       'taxid:2169991(Mammarenavirus juninense)',\n",
       "       'taxid:694067(Human metapneumovirus CAN97-83)',\n",
       "       'taxid:82831(Equid herpesvirus type 2 strain 86/87)',\n",
       "       'taxid:6421(Hirudo medicinalis)',\n",
       "       'taxid:29170(Ancylostoma caninum)',\n",
       "       'taxid:6945(Ixodes scapularis)',\n",
       "       'taxid:119602(Streptococcus dysgalactiae subsp. equisimilis)',\n",
       "       'taxid:10326(Equid alphaherpesvirus 1)',\n",
       "       'taxid:132475(Yaba-like disease virus)',\n",
       "       'taxid:7159(Aedes aegypti)', 'taxid:3818(Arachis hypogaea)',\n",
       "       'taxid:3847(Glycine max)', 'taxid:5854(Plasmodium reichenowi)',\n",
       "       'taxid:502780(Paracoccidioides brasiliensis Pb18)',\n",
       "       'taxid:224326(Borreliella burgdorferi B31)',\n",
       "       'taxid:578843(Rotavirus A human/BEL/4106/2000 G3P11[14])',\n",
       "       'taxid:262719(Mesomycoplasma hyopneumoniae J)',\n",
       "       'taxid:295358(Mesomycoplasma hyopneumoniae 232)',\n",
       "       'taxid:29380(Staphylococcus caprae)',\n",
       "       'taxid:272843(Pasteurella multocida subsp. multocida str. Pm70)',\n",
       "       'taxid:8502(Crocodylus porosus)', 'taxid:3858(Lathyrus ochrus)',\n",
       "       'taxid:224308(Bacillus subtilis subsp. subtilis str. 168)',\n",
       "       'taxid:301447(Streptococcus pyogenes serotype M1)',\n",
       "       'taxid:242619(Porphyromonas gingivalis W83)',\n",
       "       'taxid:11070(dengue virus type 4)',\n",
       "       'taxid:85962(Helicobacter pylori 26695)',\n",
       "       'taxid:315277(Chlamydia trachomatis A/HAR-13)', 'taxid:10626(-)',\n",
       "       'taxid:205920(Ehrlichia chaffeensis str. Arkansas)',\n",
       "       'taxid:290579(HIV-1 M:B_Lai)',\n",
       "       'taxid:10335(Human alphaherpesvirus 3)',\n",
       "       'taxid:10381(Saimiriine gammaherpesvirus 2)',\n",
       "       'taxid:11689(Human immunodeficiency virus type 1 (ELI ISOLATE))',\n",
       "       'taxid:421879(Hepatitis C virus isolate HCR6)',\n",
       "       'taxid:9556(Papio cynocephalus)',\n",
       "       'taxid:980087(Human adenovirus 58)',\n",
       "       'taxid:301452(Streptococcus pyogenes serotype M49)',\n",
       "       'taxid:158878(Staphylococcus aureus subsp. aureus Mu50)',\n",
       "       'taxid:1260(Finegoldia magna)',\n",
       "       'taxid:45455(Macacine gammaherpesvirus 4)',\n",
       "       'taxid:121224(Pediculus humanus corporis)',\n",
       "       'taxid:11696(HIV-1 M:B_MN)',\n",
       "       'taxid:297245(Legionella pneumophila str. Lens)',\n",
       "       'taxid:29342(Clostridium botulinum D phage)',\n",
       "       'taxid:511145(Escherichia coli str. K-12 substr. MG1655)',\n",
       "       'taxid:485(Neisseria gonorrhoeae)',\n",
       "       'taxid:489468(Hepatitis B virus ad/Japan/S-179/1988)',\n",
       "       'taxid:6253(Ascaris suum)',\n",
       "       'taxid:389514(Sabellastarte magnifica)',\n",
       "       'taxid:10036(Mesocricetus auratus)',\n",
       "       'taxid:333759(Human papillomavirus type 10)',\n",
       "       'taxid:490133(Hepatitis B virus ayw/France/Tiollais/1979)',\n",
       "       'taxid:93050(Echis multisquamatus)',\n",
       "       'taxid:452659(Rickettsia rickettsii str. Iowa)',\n",
       "       'taxid:386585(Escherichia coli O157:H7 str. Sakai)',\n",
       "       'taxid:67825(Citrobacter rodentium)', 'taxid:10255(Variola virus)',\n",
       "       'taxid:1980519(-)',\n",
       "       'taxid:652961(Crimean-Congo hemorrhagic fever virus strain IbAr10200)',\n",
       "       'taxid:341980(Human herpesvirus 3 strain Oka vaccine)',\n",
       "       'taxid:284213(Influenza A virus (A/Qa/Thailand/57/2004(H5N1)))',\n",
       "       'taxid:28344(Porcine reproductive and respiratory syndrome virus)',\n",
       "       'taxid:8618(Dendroaspis angusticeps)',\n",
       "       'taxid:4754(Pneumocystis carinii)',\n",
       "       'taxid:10363(Human herpesvirus 5 strain Towne)',\n",
       "       'taxid:11098(Classical swine fever virus - Brescia)',\n",
       "       'taxid:36382(Venezuelan equine encephalitis virus (strain 3880))',\n",
       "       'taxid:10092(Mus musculus domesticus)',\n",
       "       'taxid:129951(Human mastadenovirus C)',\n",
       "       'taxid:11801(Moloney murine leukemia virus)',\n",
       "       'taxid:8017(Oncorhynchus gorbuscha)',\n",
       "       'taxid:10329(Equine herpesvirus type 1 (strain Kentucky A))',\n",
       "       'taxid:5833(Plasmodium falciparum)',\n",
       "       'taxid:57266(Plasmodium falciparum 7G8)',\n",
       "       'taxid:647330(Orf virus strain SA00)',\n",
       "       'taxid:8616(Bungarus multicinctus)',\n",
       "       'taxid:3052230(Hepacivirus hominis)',\n",
       "       'taxid:11295(Rabies virus ERA)',\n",
       "       'taxid:46936(Human adenovirus 36)',\n",
       "       'taxid:11045(Rubella virus strain Therien)',\n",
       "       'taxid:11044(Rubella virus vaccine strain RA27/3)',\n",
       "       'taxid:11173(Mumps virus strain SBL-1)',\n",
       "       'taxid:376263(Rubella virus strain BRDII)',\n",
       "       'taxid:376262(Rubella virus strain BRD1)',\n",
       "       'taxid:11168(Mumps virus strain Jeryl Lynn)',\n",
       "       'taxid:376267(Rubella virus strain RN-UK86)',\n",
       "       'taxid:376265(Rubella virus strain TO-336 vaccine)',\n",
       "       'taxid:376266(Rubella virus strain Cendehill)',\n",
       "       'taxid:352515(Influenza A virus (A/mallard/Netherlands/12/2000(H7N3)))',\n",
       "       'taxid:88776(Influenza A virus (A/Brevig Mission/1/1918(H1N1)))',\n",
       "       'taxid:10310(Human alphaherpesvirus 2)',\n",
       "       'taxid:445790(Rabies virus India)',\n",
       "       'taxid:11278(Vesicular stomatitis Indiana virus strain Glasgow)',\n",
       "       'taxid:10900(Bluetongue virus (serotype 10 / American isolate))',\n",
       "       'taxid:11293(Rabies virus AVO1)',\n",
       "       'taxid:11300(Rabies virus SAD B19)', 'taxid:290008(Isfahan virus)',\n",
       "       'taxid:434488(Vesicular stomatitis Indiana virus (strain 98COE North America))',\n",
       "       'taxid:446561(Australian bat lyssavirus bat/AUS/1996)',\n",
       "       'taxid:38766(Lyssavirus lagos)',\n",
       "       'taxid:11855(Mason-Pfizer monkey virus)',\n",
       "       'taxid:10498(African swine fever virus BA71V)',\n",
       "       'taxid:388826(HIV-1 M:H_90CF056)',\n",
       "       'taxid:388814(HIV-1 M:F1_93BR020)',\n",
       "       'taxid:10804(adeno-associated virus 2)',\n",
       "       'taxid:228330(SARS coronavirus Urbani)',\n",
       "       'taxid:10383(Herpesvirus saimiri (strain 11))',\n",
       "       'taxid:384493(Influenza A virus (A/seal/Mass/1/1980(H7N7)))',\n",
       "       'taxid:266827(Influenza A virus (A/Thailand/1(KAN-1)/2004(H5N1)))',\n",
       "       'taxid:3052225(Henipavirus nipahense)',\n",
       "       'taxid:11716(Human immunodeficiency virus type 2 (ISOLATE D205,7))',\n",
       "       'taxid:137071(Plasmodium falciparum HB3)',\n",
       "       'taxid:10497(African swine fever virus)',\n",
       "       'taxid:8364(Xenopus tropicalis)',\n",
       "       'taxid:11236(Measles virus strain Halle)',\n",
       "       'taxid:11148(Porcine respiratory coronavirus (STRAIN RM4))',\n",
       "       'taxid:11239(Measles virus strain Yamagata-1)',\n",
       "       'taxid:36391(Canine enteric coronavirus INSAVC-1)',\n",
       "       'taxid:446(Legionella pneumophila)',\n",
       "       'taxid:11674(Feline immunodeficiency virus (isolate Petaluma))',\n",
       "       'taxid:452646(Neogale vison)',\n",
       "       'taxid:126794(Vaccinia virus Ankara)',\n",
       "       'taxid:636(Edwardsiella tarda)',\n",
       "       'taxid:103904(Coxsackievirus B3 (strain Woodruff))',\n",
       "       'taxid:374597(Eastern equine encephalitis virus (strain PE-3.0815))',\n",
       "       'taxid:6491(Conus geographus)', 'taxid:4113(Solanum tuberosum)',\n",
       "       'taxid:480116(Hepatitis B virus adw2/Rutter/1979)',\n",
       "       'taxid:12082(Human poliovirus 1 strain Sabin)',\n",
       "       'taxid:10323(Bovine herpesvirus type 1.1 (strain Cooper))',\n",
       "       'taxid:37137(Simian rotavirus A/SA11-both)',\n",
       "       'taxid:10933(Bovine rotavirus strain RF)',\n",
       "       'taxid:10620(Human papillomavirus type 7)',\n",
       "       'taxid:227941(Chlamydia caviae GPIC)',\n",
       "       'taxid:85963(Helicobacter pylori J99)',\n",
       "       'taxid:12509(Human herpesvirus 4 type 2)',\n",
       "       'taxid:11041(Rubella virus)',\n",
       "       'taxid:367110(Neurospora crassa OR74A)',\n",
       "       'taxid:46942(Human adenovirus 47)',\n",
       "       'taxid:11642(Simian foamy virus)',\n",
       "       'taxid:79889(Bovine herpesvirus type 1.1)',\n",
       "       'taxid:11963(Human spumaretrovirus)',\n",
       "       'taxid:31663(Influenza A virus (A/turkey/Bethlehem-Glilit/1492-B/1982(H1N1)))',\n",
       "       'taxid:382838(Influenza A virus (A/chicken/Germany/N/1949(H10N7)))',\n",
       "       'taxid:637910(Citrobacter rodentium ICC168)',\n",
       "       'taxid:33734(Feline infectious peritonitis virus (strain 79-1146))',\n",
       "       \"taxid:374989(O'nyong-nyong virus strain SG650)\",\n",
       "       'taxid:11031(Ross river virus (STRAIN NB5092))',\n",
       "       'taxid:31699(Ockelbo virus)',\n",
       "       'taxid:443241(Human coronavirus HKU1 (isolate N5))',\n",
       "       'taxid:371094(Chikungunya virus strain S27-African prototype)',\n",
       "       'taxid:374990(Mayaro virus (strain Brazil))',\n",
       "       'taxid:31518(Bovine herpesvirus type 1.1 (strain Jura))',\n",
       "       'taxid:10553(Fowl aviadenovirus 1)',\n",
       "       'taxid:90371(Salmonella enterica subsp. enterica serovar Typhimurium)',\n",
       "       'taxid:11862(Avian erythroblastosis virus (strain Sloan-Kettering))',\n",
       "       'taxid:928314(Yaba monkey tumor virus strain VR587)',\n",
       "       'taxid:1003835(Severe fever with thrombocytopenia syndrome virus)',\n",
       "       'taxid:381512(Influenza A virus (A/New Caledonia/20/1999(H1N1)))',\n",
       "       'taxid:11085(Langat virus)',\n",
       "       'taxid:10306(Human alphaherpesvirus 1 strain KOS)',\n",
       "       'taxid:12475(Hepatitis delta virus)',\n",
       "       'taxid:393305(Yersinia enterocolitica subsp. enterocolitica 8081)',\n",
       "       'taxid:35269(Woodchuck hepatitis virus)',\n",
       "       'taxid:126793(Plasmodium vivax Sal-1)',\n",
       "       'taxid:416571(Influenza A virus (A/chicken/Guangdong/1/2001(H5N1)))',\n",
       "       'taxid:180454(Anopheles gambiae str. PEST)',\n",
       "       'taxid:10524(Human adenovirus 41)',\n",
       "       'taxid:9267(Didelphis virginiana)',\n",
       "       'taxid:28284(Human adenovirus 40)',\n",
       "       'taxid:450149(Simian rotavirus A/SA11-H96)',\n",
       "       'taxid:48416(Zoarces viviparus)',\n",
       "       'taxid:376264(Rubella virus strain TO-336)',\n",
       "       'taxid:52275(Human adenovirus D37)',\n",
       "       'taxid:46926(Human adenovirus 24)',\n",
       "       'taxid:245072(Human adenovirus 51)', 'taxid:388818(HIV-1 N_YBF30)',\n",
       "       'taxid:11797(Friend murine leukemia virus (ISOLATE FB29))',\n",
       "       'taxid:11670(Equine infectious anemia virus (CLONE 1369))',\n",
       "       'taxid:353437(Influenza A virus (A/Canterbury/02/2005(H3N2)))',\n",
       "       'taxid:12081(Human poliovirus 1 Mahoney)',\n",
       "       'taxid:487099(Uukuniemi virus S23)',\n",
       "       'taxid:73475(Chicken anemia virus Cuxhaven-1/Germany)',\n",
       "       'taxid:11152(Turkey coronavirus)', 'taxid:39054(Enterovirus A71)',\n",
       "       'taxid:35304(Bunyamwera virus)', 'taxid:8237(Thunnus thynnus)',\n",
       "       'taxid:30724(Clupea pallasii)',\n",
       "       'taxid:694007(Tylonycteris bat coronavirus HKU4)',\n",
       "       'taxid:561444(African swine fever virus warthog/Namibia/Wart80/1980)',\n",
       "       'taxid:388912(SIVcpz EK505)',\n",
       "       'taxid:31769(Hepatitis E virus (strain Myanmar))',\n",
       "       'taxid:11059(Dengue virus 1 Nauru/West Pac/1974)',\n",
       "       'taxid:262338(SARS coronavirus GD03T0013)',\n",
       "       'taxid:2709072(Bat coronavirus RaTG13)',\n",
       "       'taxid:2708335(Pangolin coronavirus)',\n",
       "       'taxid:3052559(Orthorubulavirus mapueraense)',\n",
       "       'taxid:11195(Sendai virus (strain Fushimi))', 'taxid:2560645(-)',\n",
       "       'taxid:162013(Tioman virus)', 'taxid:10528(Human adenovirus 18)',\n",
       "       'taxid:262177(Orgyia pseudotsugata multiple nucleopolyhedrovirus)',\n",
       "       'taxid:37129(Southampton virus (serotype 3))',\n",
       "       'taxid:35741(Human astrovirus 5)',\n",
       "       'taxid:10519(Human adenovirus 7)',\n",
       "       'taxid:12104(Encephalomyocarditis virus)',\n",
       "       'taxid:46938(Human adenovirus 43)',\n",
       "       'taxid:1309(Streptococcus mutans)',\n",
       "       'taxid:1205899(Phlebovirus JS2010-014)',\n",
       "       'taxid:371095(Chikungunya virus strain Senegal 37997)',\n",
       "       'taxid:36404(Human coxsackievirus A24 EH24/70)',\n",
       "       'taxid:443240(Human coronavirus HKU1 (isolate N2))',\n",
       "       'taxid:31567(Human rotavirus C/Bristol)',\n",
       "       'taxid:11073(Japanese encephalitis virus strain SA-14)',\n",
       "       'taxid:1968826(West Nile virus strain NY-99)',\n",
       "       'taxid:10367(Murine cytomegalovirus (strain Smith))',\n",
       "       'taxid:12657(Equid gammaherpesvirus 2)'], dtype=object)"
      ]
     },
     "execution_count": 12,
     "metadata": {},
     "output_type": "execute_result"
    }
   ],
   "source": [
    "pins_sub['taxa'].unique()\n",
    "pins_sub['taxb'].unique()"
   ]
  },
  {
   "cell_type": "code",
   "execution_count": 13,
   "id": "607c82ba",
   "metadata": {
    "ExecuteTime": {
     "end_time": "2024-01-21T08:35:51.740311Z",
     "start_time": "2024-01-21T08:35:51.715549Z"
    }
   },
   "outputs": [],
   "source": [
    "# We want to create a csv file with two columns ('ID', 'Counts')\n",
    "# ID refers to the protein identifier and Counts refers the number of interactions it appears\n",
    "\n",
    "# Concatenate unique IDs from both columns\n",
    "all_ids = pd.concat([pins_sub['uidA'], pins_sub['uidB']], ignore_index=True)"
   ]
  },
  {
   "cell_type": "code",
   "execution_count": 14,
   "id": "e3d7c832",
   "metadata": {
    "ExecuteTime": {
     "end_time": "2024-01-21T08:36:00.329322Z",
     "start_time": "2024-01-21T08:36:00.053854Z"
    }
   },
   "outputs": [],
   "source": [
    "# Count occurrences of each unique ID\n",
    "id_counts = all_ids.value_counts().reset_index()"
   ]
  },
  {
   "cell_type": "code",
   "execution_count": 15,
   "id": "9a36f437",
   "metadata": {
    "ExecuteTime": {
     "end_time": "2024-01-21T08:36:03.563091Z",
     "start_time": "2024-01-21T08:36:03.555465Z"
    }
   },
   "outputs": [],
   "source": [
    "# Rename columns for clarity\n",
    "id_counts.columns = ['ID', 'Count']"
   ]
  },
  {
   "cell_type": "code",
   "execution_count": 16,
   "id": "dc1e370d",
   "metadata": {
    "ExecuteTime": {
     "end_time": "2024-01-21T08:36:06.773473Z",
     "start_time": "2024-01-21T08:36:06.768893Z"
    }
   },
   "outputs": [
    {
     "data": {
      "text/plain": [
       "(49038, 2)"
      ]
     },
     "execution_count": 16,
     "metadata": {},
     "output_type": "execute_result"
    }
   ],
   "source": [
    "id_counts.shape"
   ]
  },
  {
   "cell_type": "code",
   "execution_count": 17,
   "id": "69eeb1d5",
   "metadata": {
    "ExecuteTime": {
     "end_time": "2024-01-21T08:36:12.634724Z",
     "start_time": "2024-01-21T08:36:12.626898Z"
    }
   },
   "outputs": [
    {
     "data": {
      "text/html": [
       "<div>\n",
       "<style scoped>\n",
       "    .dataframe tbody tr th:only-of-type {\n",
       "        vertical-align: middle;\n",
       "    }\n",
       "\n",
       "    .dataframe tbody tr th {\n",
       "        vertical-align: top;\n",
       "    }\n",
       "\n",
       "    .dataframe thead th {\n",
       "        text-align: right;\n",
       "    }\n",
       "</style>\n",
       "<table border=\"1\" class=\"dataframe\">\n",
       "  <thead>\n",
       "    <tr style=\"text-align: right;\">\n",
       "      <th></th>\n",
       "      <th>ID</th>\n",
       "      <th>Count</th>\n",
       "    </tr>\n",
       "  </thead>\n",
       "  <tbody>\n",
       "    <tr>\n",
       "      <th>0</th>\n",
       "      <td>uniprotkb:P42858</td>\n",
       "      <td>19133</td>\n",
       "    </tr>\n",
       "    <tr>\n",
       "      <th>1</th>\n",
       "      <td>uniprotkb:K7PPA8</td>\n",
       "      <td>11120</td>\n",
       "    </tr>\n",
       "    <tr>\n",
       "      <th>2</th>\n",
       "      <td>uniprotkb:A0A140VJC8</td>\n",
       "      <td>10043</td>\n",
       "    </tr>\n",
       "    <tr>\n",
       "      <th>3</th>\n",
       "      <td>uniprotkb:P00533</td>\n",
       "      <td>8402</td>\n",
       "    </tr>\n",
       "    <tr>\n",
       "      <th>4</th>\n",
       "      <td>uniprotkb:P0DTD1</td>\n",
       "      <td>8102</td>\n",
       "    </tr>\n",
       "  </tbody>\n",
       "</table>\n",
       "</div>"
      ],
      "text/plain": [
       "                     ID  Count\n",
       "0      uniprotkb:P42858  19133\n",
       "1      uniprotkb:K7PPA8  11120\n",
       "2  uniprotkb:A0A140VJC8  10043\n",
       "3      uniprotkb:P00533   8402\n",
       "4      uniprotkb:P0DTD1   8102"
      ]
     },
     "execution_count": 17,
     "metadata": {},
     "output_type": "execute_result"
    }
   ],
   "source": [
    "id_counts.head()"
   ]
  },
  {
   "cell_type": "code",
   "execution_count": 18,
   "id": "4db0651b",
   "metadata": {
    "ExecuteTime": {
     "end_time": "2024-01-21T08:36:19.780780Z",
     "start_time": "2024-01-21T08:36:19.723962Z"
    }
   },
   "outputs": [
    {
     "data": {
      "text/plain": [
       "array(['uniprotkb', 'refseq', 'rogid'], dtype=object)"
      ]
     },
     "execution_count": 18,
     "metadata": {},
     "output_type": "execute_result"
    }
   ],
   "source": [
    "# Extract prefixes before \":\"\n",
    "id_counts['Prefix'] = id_counts['ID'].str.extract(r'([^:]+):')\n",
    "id_counts['Prefix'].unique()"
   ]
  },
  {
   "cell_type": "code",
   "execution_count": 19,
   "id": "cf8b07c7",
   "metadata": {
    "ExecuteTime": {
     "end_time": "2024-01-21T08:36:27.068571Z",
     "start_time": "2024-01-21T08:36:27.059685Z"
    }
   },
   "outputs": [
    {
     "data": {
      "text/plain": [
       "Prefix\n",
       "uniprotkb    39482\n",
       "refseq        7817\n",
       "rogid         1739\n",
       "Name: count, dtype: int64"
      ]
     },
     "execution_count": 19,
     "metadata": {},
     "output_type": "execute_result"
    }
   ],
   "source": [
    "id_counts['Prefix'].value_counts()"
   ]
  },
  {
   "cell_type": "code",
   "execution_count": 20,
   "id": "de2ad36d",
   "metadata": {
    "ExecuteTime": {
     "end_time": "2024-01-21T08:36:38.609522Z",
     "start_time": "2024-01-21T08:36:38.581816Z"
    }
   },
   "outputs": [],
   "source": [
    "# keep only the uniprot IDs\n",
    "id_counts_uniprot = id_counts[id_counts['ID'].str.startswith('uniprotkb:')]"
   ]
  },
  {
   "cell_type": "code",
   "execution_count": 21,
   "id": "f0e6cd65",
   "metadata": {
    "ExecuteTime": {
     "end_time": "2024-01-21T08:36:40.593689Z",
     "start_time": "2024-01-21T08:36:40.587816Z"
    }
   },
   "outputs": [
    {
     "data": {
      "text/plain": [
       "(39482, 3)"
      ]
     },
     "execution_count": 21,
     "metadata": {},
     "output_type": "execute_result"
    }
   ],
   "source": [
    "id_counts_uniprot.shape"
   ]
  },
  {
   "cell_type": "code",
   "execution_count": 80,
   "id": "c94a0721",
   "metadata": {
    "ExecuteTime": {
     "end_time": "2024-01-06T22:57:52.542502Z",
     "start_time": "2024-01-06T22:57:52.534096Z"
    }
   },
   "outputs": [
    {
     "data": {
      "text/html": [
       "<div>\n",
       "<style scoped>\n",
       "    .dataframe tbody tr th:only-of-type {\n",
       "        vertical-align: middle;\n",
       "    }\n",
       "\n",
       "    .dataframe tbody tr th {\n",
       "        vertical-align: top;\n",
       "    }\n",
       "\n",
       "    .dataframe thead th {\n",
       "        text-align: right;\n",
       "    }\n",
       "</style>\n",
       "<table border=\"1\" class=\"dataframe\">\n",
       "  <thead>\n",
       "    <tr style=\"text-align: right;\">\n",
       "      <th></th>\n",
       "      <th>ID</th>\n",
       "      <th>Count</th>\n",
       "      <th>Prefix</th>\n",
       "    </tr>\n",
       "  </thead>\n",
       "  <tbody>\n",
       "    <tr>\n",
       "      <th>0</th>\n",
       "      <td>uniprotkb:P42858</td>\n",
       "      <td>19379</td>\n",
       "      <td>uniprotkb</td>\n",
       "    </tr>\n",
       "    <tr>\n",
       "      <th>1</th>\n",
       "      <td>uniprotkb:K7PPA8</td>\n",
       "      <td>12404</td>\n",
       "      <td>uniprotkb</td>\n",
       "    </tr>\n",
       "    <tr>\n",
       "      <th>2</th>\n",
       "      <td>uniprotkb:A0A140VJC8</td>\n",
       "      <td>11033</td>\n",
       "      <td>uniprotkb</td>\n",
       "    </tr>\n",
       "    <tr>\n",
       "      <th>3</th>\n",
       "      <td>uniprotkb:P00533</td>\n",
       "      <td>9034</td>\n",
       "      <td>uniprotkb</td>\n",
       "    </tr>\n",
       "    <tr>\n",
       "      <th>4</th>\n",
       "      <td>uniprotkb:P0DTD1</td>\n",
       "      <td>8425</td>\n",
       "      <td>uniprotkb</td>\n",
       "    </tr>\n",
       "  </tbody>\n",
       "</table>\n",
       "</div>"
      ],
      "text/plain": [
       "                     ID  Count     Prefix\n",
       "0      uniprotkb:P42858  19379  uniprotkb\n",
       "1      uniprotkb:K7PPA8  12404  uniprotkb\n",
       "2  uniprotkb:A0A140VJC8  11033  uniprotkb\n",
       "3      uniprotkb:P00533   9034  uniprotkb\n",
       "4      uniprotkb:P0DTD1   8425  uniprotkb"
      ]
     },
     "execution_count": 80,
     "metadata": {},
     "output_type": "execute_result"
    }
   ],
   "source": [
    "id_counts_uniprot.head()"
   ]
  },
  {
   "cell_type": "code",
   "execution_count": 22,
   "id": "8197f029",
   "metadata": {
    "ExecuteTime": {
     "end_time": "2024-01-21T08:36:49.370389Z",
     "start_time": "2024-01-21T08:36:49.361299Z"
    },
    "scrolled": true
   },
   "outputs": [
    {
     "name": "stderr",
     "output_type": "stream",
     "text": [
      "C:\\Users\\angel\\AppData\\Local\\Temp\\ipykernel_4980\\76523795.py:2: SettingWithCopyWarning: \n",
      "A value is trying to be set on a copy of a slice from a DataFrame\n",
      "\n",
      "See the caveats in the documentation: https://pandas.pydata.org/pandas-docs/stable/user_guide/indexing.html#returning-a-view-versus-a-copy\n",
      "  id_counts_uniprot.drop(columns=['Prefix'], inplace=True)\n"
     ]
    }
   ],
   "source": [
    "# drop the prefix column\n",
    "id_counts_uniprot.drop(columns=['Prefix'], inplace=True)"
   ]
  },
  {
   "cell_type": "code",
   "execution_count": 23,
   "id": "16be5e0e",
   "metadata": {
    "ExecuteTime": {
     "end_time": "2024-01-21T08:36:56.392667Z",
     "start_time": "2024-01-21T08:36:56.384127Z"
    },
    "scrolled": true
   },
   "outputs": [
    {
     "data": {
      "text/html": [
       "<div>\n",
       "<style scoped>\n",
       "    .dataframe tbody tr th:only-of-type {\n",
       "        vertical-align: middle;\n",
       "    }\n",
       "\n",
       "    .dataframe tbody tr th {\n",
       "        vertical-align: top;\n",
       "    }\n",
       "\n",
       "    .dataframe thead th {\n",
       "        text-align: right;\n",
       "    }\n",
       "</style>\n",
       "<table border=\"1\" class=\"dataframe\">\n",
       "  <thead>\n",
       "    <tr style=\"text-align: right;\">\n",
       "      <th></th>\n",
       "      <th>ID</th>\n",
       "      <th>Count</th>\n",
       "    </tr>\n",
       "  </thead>\n",
       "  <tbody>\n",
       "    <tr>\n",
       "      <th>0</th>\n",
       "      <td>uniprotkb:P42858</td>\n",
       "      <td>19133</td>\n",
       "    </tr>\n",
       "    <tr>\n",
       "      <th>1</th>\n",
       "      <td>uniprotkb:K7PPA8</td>\n",
       "      <td>11120</td>\n",
       "    </tr>\n",
       "    <tr>\n",
       "      <th>2</th>\n",
       "      <td>uniprotkb:A0A140VJC8</td>\n",
       "      <td>10043</td>\n",
       "    </tr>\n",
       "    <tr>\n",
       "      <th>3</th>\n",
       "      <td>uniprotkb:P00533</td>\n",
       "      <td>8402</td>\n",
       "    </tr>\n",
       "    <tr>\n",
       "      <th>4</th>\n",
       "      <td>uniprotkb:P0DTD1</td>\n",
       "      <td>8102</td>\n",
       "    </tr>\n",
       "  </tbody>\n",
       "</table>\n",
       "</div>"
      ],
      "text/plain": [
       "                     ID  Count\n",
       "0      uniprotkb:P42858  19133\n",
       "1      uniprotkb:K7PPA8  11120\n",
       "2  uniprotkb:A0A140VJC8  10043\n",
       "3      uniprotkb:P00533   8402\n",
       "4      uniprotkb:P0DTD1   8102"
      ]
     },
     "execution_count": 23,
     "metadata": {},
     "output_type": "execute_result"
    }
   ],
   "source": [
    "id_counts_uniprot.head()"
   ]
  },
  {
   "cell_type": "code",
   "execution_count": 24,
   "id": "166f5949",
   "metadata": {
    "ExecuteTime": {
     "end_time": "2024-01-21T08:37:14.579809Z",
     "start_time": "2024-01-21T08:37:13.061672Z"
    }
   },
   "outputs": [],
   "source": [
    "# Add an organism column\n",
    "# Merge based on uidA\n",
    "merged_a = id_counts_uniprot.merge(pins_sub[['uidA', 'taxa']], left_on='ID', right_on='uidA', how='left')\n",
    "merged_a.rename(columns={'taxa': 'organism'}, inplace=True)\n",
    "merged_a.drop('uidA', axis=1, inplace=True)\n",
    "\n",
    "# Merge based on uidB\n",
    "merged_b = id_counts_uniprot.merge(pins_sub[['uidB', 'taxb']], left_on='ID', right_on='uidB', how='left')\n",
    "merged_b.rename(columns={'taxb': 'organism'}, inplace=True)\n",
    "merged_b.drop('uidB', axis=1, inplace=True)\n",
    "\n",
    "# Combine the results\n",
    "id_counts_uniprot_final = pd.concat([merged_a, merged_b]).groupby('ID').first().reset_index()"
   ]
  },
  {
   "cell_type": "code",
   "execution_count": 25,
   "id": "42cc8901",
   "metadata": {
    "ExecuteTime": {
     "end_time": "2024-01-21T08:37:18.584368Z",
     "start_time": "2024-01-21T08:37:18.576843Z"
    },
    "scrolled": true
   },
   "outputs": [
    {
     "data": {
      "text/html": [
       "<div>\n",
       "<style scoped>\n",
       "    .dataframe tbody tr th:only-of-type {\n",
       "        vertical-align: middle;\n",
       "    }\n",
       "\n",
       "    .dataframe tbody tr th {\n",
       "        vertical-align: top;\n",
       "    }\n",
       "\n",
       "    .dataframe thead th {\n",
       "        text-align: right;\n",
       "    }\n",
       "</style>\n",
       "<table border=\"1\" class=\"dataframe\">\n",
       "  <thead>\n",
       "    <tr style=\"text-align: right;\">\n",
       "      <th></th>\n",
       "      <th>ID</th>\n",
       "      <th>Count</th>\n",
       "      <th>organism</th>\n",
       "    </tr>\n",
       "  </thead>\n",
       "  <tbody>\n",
       "    <tr>\n",
       "      <th>0</th>\n",
       "      <td>uniprotkb:A0A023T6R1</td>\n",
       "      <td>942</td>\n",
       "      <td>taxid:9606(Homo sapiens)</td>\n",
       "    </tr>\n",
       "    <tr>\n",
       "      <th>1</th>\n",
       "      <td>uniprotkb:A0A023T787</td>\n",
       "      <td>1048</td>\n",
       "      <td>taxid:9606(Homo sapiens)</td>\n",
       "    </tr>\n",
       "    <tr>\n",
       "      <th>2</th>\n",
       "      <td>uniprotkb:A0A024A2C9</td>\n",
       "      <td>71</td>\n",
       "      <td>taxid:727(Haemophilus influenzae)</td>\n",
       "    </tr>\n",
       "    <tr>\n",
       "      <th>3</th>\n",
       "      <td>uniprotkb:A0A024B7W1</td>\n",
       "      <td>736</td>\n",
       "      <td>taxid:2043570(Zika virus ZIKV/H. sapiens/Frenc...</td>\n",
       "    </tr>\n",
       "    <tr>\n",
       "      <th>4</th>\n",
       "      <td>uniprotkb:A0A024QYR3</td>\n",
       "      <td>170</td>\n",
       "      <td>taxid:9606(Homo sapiens)</td>\n",
       "    </tr>\n",
       "  </tbody>\n",
       "</table>\n",
       "</div>"
      ],
      "text/plain": [
       "                     ID  Count  \\\n",
       "0  uniprotkb:A0A023T6R1    942   \n",
       "1  uniprotkb:A0A023T787   1048   \n",
       "2  uniprotkb:A0A024A2C9     71   \n",
       "3  uniprotkb:A0A024B7W1    736   \n",
       "4  uniprotkb:A0A024QYR3    170   \n",
       "\n",
       "                                            organism  \n",
       "0                           taxid:9606(Homo sapiens)  \n",
       "1                           taxid:9606(Homo sapiens)  \n",
       "2                  taxid:727(Haemophilus influenzae)  \n",
       "3  taxid:2043570(Zika virus ZIKV/H. sapiens/Frenc...  \n",
       "4                           taxid:9606(Homo sapiens)  "
      ]
     },
     "execution_count": 25,
     "metadata": {},
     "output_type": "execute_result"
    }
   ],
   "source": [
    "id_counts_uniprot_final.head()"
   ]
  },
  {
   "cell_type": "code",
   "execution_count": 26,
   "id": "a439059a",
   "metadata": {
    "ExecuteTime": {
     "end_time": "2024-01-21T08:37:25.070343Z",
     "start_time": "2024-01-21T08:37:25.061569Z"
    }
   },
   "outputs": [
    {
     "data": {
      "text/plain": [
       "(39482, 3)"
      ]
     },
     "execution_count": 26,
     "metadata": {},
     "output_type": "execute_result"
    }
   ],
   "source": [
    "id_counts_uniprot_final.shape"
   ]
  },
  {
   "cell_type": "code",
   "execution_count": 27,
   "id": "c2c15772",
   "metadata": {
    "ExecuteTime": {
     "end_time": "2024-01-21T08:37:29.219810Z",
     "start_time": "2024-01-21T08:37:29.212894Z"
    }
   },
   "outputs": [],
   "source": [
    "# keep only the rows where the organism column has the value \"taxid:9606(Homo sapiens)\"\n",
    "id_counts_uniprot_final_human = id_counts_uniprot_final[id_counts_uniprot_final['organism'] == \"taxid:9606(Homo sapiens)\"]"
   ]
  },
  {
   "cell_type": "code",
   "execution_count": 28,
   "id": "a0dd725a",
   "metadata": {
    "ExecuteTime": {
     "end_time": "2024-01-21T08:37:33.921295Z",
     "start_time": "2024-01-21T08:37:33.916567Z"
    }
   },
   "outputs": [
    {
     "data": {
      "text/plain": [
       "(26793, 3)"
      ]
     },
     "execution_count": 28,
     "metadata": {},
     "output_type": "execute_result"
    }
   ],
   "source": [
    "id_counts_uniprot_final_human.shape"
   ]
  },
  {
   "cell_type": "code",
   "execution_count": 29,
   "id": "349908f4",
   "metadata": {
    "ExecuteTime": {
     "end_time": "2024-01-21T08:37:42.625205Z",
     "start_time": "2024-01-21T08:37:42.612888Z"
    }
   },
   "outputs": [
    {
     "name": "stderr",
     "output_type": "stream",
     "text": [
      "C:\\Users\\angel\\AppData\\Local\\Temp\\ipykernel_4980\\644682868.py:2: SettingWithCopyWarning: \n",
      "A value is trying to be set on a copy of a slice from a DataFrame.\n",
      "Try using .loc[row_indexer,col_indexer] = value instead\n",
      "\n",
      "See the caveats in the documentation: https://pandas.pydata.org/pandas-docs/stable/user_guide/indexing.html#returning-a-view-versus-a-copy\n",
      "  id_counts_uniprot_final_human['ID'] = id_counts_uniprot_final_human['ID'].str.replace('uniprotkb:', '')\n"
     ]
    }
   ],
   "source": [
    "# remove 'uniprotkb:' prefix\n",
    "id_counts_uniprot_final_human['ID'] = id_counts_uniprot_final_human['ID'].str.replace('uniprotkb:', '')"
   ]
  },
  {
   "cell_type": "code",
   "execution_count": 30,
   "id": "1a14a9c8",
   "metadata": {
    "ExecuteTime": {
     "end_time": "2024-01-21T08:37:57.850945Z",
     "start_time": "2024-01-21T08:37:57.843249Z"
    }
   },
   "outputs": [
    {
     "data": {
      "text/html": [
       "<div>\n",
       "<style scoped>\n",
       "    .dataframe tbody tr th:only-of-type {\n",
       "        vertical-align: middle;\n",
       "    }\n",
       "\n",
       "    .dataframe tbody tr th {\n",
       "        vertical-align: top;\n",
       "    }\n",
       "\n",
       "    .dataframe thead th {\n",
       "        text-align: right;\n",
       "    }\n",
       "</style>\n",
       "<table border=\"1\" class=\"dataframe\">\n",
       "  <thead>\n",
       "    <tr style=\"text-align: right;\">\n",
       "      <th></th>\n",
       "      <th>ID</th>\n",
       "      <th>Count</th>\n",
       "      <th>organism</th>\n",
       "    </tr>\n",
       "  </thead>\n",
       "  <tbody>\n",
       "    <tr>\n",
       "      <th>0</th>\n",
       "      <td>A0A023T6R1</td>\n",
       "      <td>942</td>\n",
       "      <td>taxid:9606(Homo sapiens)</td>\n",
       "    </tr>\n",
       "    <tr>\n",
       "      <th>1</th>\n",
       "      <td>A0A023T787</td>\n",
       "      <td>1048</td>\n",
       "      <td>taxid:9606(Homo sapiens)</td>\n",
       "    </tr>\n",
       "    <tr>\n",
       "      <th>4</th>\n",
       "      <td>A0A024QYR3</td>\n",
       "      <td>170</td>\n",
       "      <td>taxid:9606(Homo sapiens)</td>\n",
       "    </tr>\n",
       "    <tr>\n",
       "      <th>5</th>\n",
       "      <td>A0A024QYR8</td>\n",
       "      <td>130</td>\n",
       "      <td>taxid:9606(Homo sapiens)</td>\n",
       "    </tr>\n",
       "    <tr>\n",
       "      <th>6</th>\n",
       "      <td>A0A024QYT5</td>\n",
       "      <td>282</td>\n",
       "      <td>taxid:9606(Homo sapiens)</td>\n",
       "    </tr>\n",
       "  </tbody>\n",
       "</table>\n",
       "</div>"
      ],
      "text/plain": [
       "           ID  Count                  organism\n",
       "0  A0A023T6R1    942  taxid:9606(Homo sapiens)\n",
       "1  A0A023T787   1048  taxid:9606(Homo sapiens)\n",
       "4  A0A024QYR3    170  taxid:9606(Homo sapiens)\n",
       "5  A0A024QYR8    130  taxid:9606(Homo sapiens)\n",
       "6  A0A024QYT5    282  taxid:9606(Homo sapiens)"
      ]
     },
     "execution_count": 30,
     "metadata": {},
     "output_type": "execute_result"
    }
   ],
   "source": [
    "id_counts_uniprot_final_human.head()"
   ]
  },
  {
   "cell_type": "code",
   "execution_count": 31,
   "id": "1109c636",
   "metadata": {
    "ExecuteTime": {
     "end_time": "2024-01-21T08:38:01.830167Z",
     "start_time": "2024-01-21T08:38:01.822031Z"
    }
   },
   "outputs": [
    {
     "data": {
      "text/plain": [
       "(26793, 3)"
      ]
     },
     "execution_count": 31,
     "metadata": {},
     "output_type": "execute_result"
    }
   ],
   "source": [
    "id_counts_uniprot_final_human.shape"
   ]
  },
  {
   "cell_type": "code",
   "execution_count": 32,
   "id": "81e8472d",
   "metadata": {
    "ExecuteTime": {
     "end_time": "2024-01-21T08:38:08.180853Z",
     "start_time": "2024-01-21T08:38:08.173016Z"
    }
   },
   "outputs": [],
   "source": [
    "# sort by counts\n",
    "id_counts_uniprot_final_human_sorted = id_counts_uniprot_final_human.sort_values(by='Count', ascending=False)"
   ]
  },
  {
   "cell_type": "code",
   "execution_count": 33,
   "id": "4b690d53",
   "metadata": {
    "ExecuteTime": {
     "end_time": "2024-01-21T08:38:12.248539Z",
     "start_time": "2024-01-21T08:38:12.241607Z"
    }
   },
   "outputs": [
    {
     "data": {
      "text/html": [
       "<div>\n",
       "<style scoped>\n",
       "    .dataframe tbody tr th:only-of-type {\n",
       "        vertical-align: middle;\n",
       "    }\n",
       "\n",
       "    .dataframe tbody tr th {\n",
       "        vertical-align: top;\n",
       "    }\n",
       "\n",
       "    .dataframe thead th {\n",
       "        text-align: right;\n",
       "    }\n",
       "</style>\n",
       "<table border=\"1\" class=\"dataframe\">\n",
       "  <thead>\n",
       "    <tr style=\"text-align: right;\">\n",
       "      <th></th>\n",
       "      <th>ID</th>\n",
       "      <th>Count</th>\n",
       "      <th>organism</th>\n",
       "    </tr>\n",
       "  </thead>\n",
       "  <tbody>\n",
       "    <tr>\n",
       "      <th>14971</th>\n",
       "      <td>P42858</td>\n",
       "      <td>19133</td>\n",
       "      <td>taxid:9606(Homo sapiens)</td>\n",
       "    </tr>\n",
       "    <tr>\n",
       "      <th>6995</th>\n",
       "      <td>K7PPA8</td>\n",
       "      <td>11120</td>\n",
       "      <td>taxid:9606(Homo sapiens)</td>\n",
       "    </tr>\n",
       "    <tr>\n",
       "      <th>2365</th>\n",
       "      <td>A0A140VJC8</td>\n",
       "      <td>10043</td>\n",
       "      <td>taxid:9606(Homo sapiens)</td>\n",
       "    </tr>\n",
       "    <tr>\n",
       "      <th>9860</th>\n",
       "      <td>P00533</td>\n",
       "      <td>8402</td>\n",
       "      <td>taxid:9606(Homo sapiens)</td>\n",
       "    </tr>\n",
       "    <tr>\n",
       "      <th>16094</th>\n",
       "      <td>P54253</td>\n",
       "      <td>7293</td>\n",
       "      <td>taxid:9606(Homo sapiens)</td>\n",
       "    </tr>\n",
       "  </tbody>\n",
       "</table>\n",
       "</div>"
      ],
      "text/plain": [
       "               ID  Count                  organism\n",
       "14971      P42858  19133  taxid:9606(Homo sapiens)\n",
       "6995       K7PPA8  11120  taxid:9606(Homo sapiens)\n",
       "2365   A0A140VJC8  10043  taxid:9606(Homo sapiens)\n",
       "9860       P00533   8402  taxid:9606(Homo sapiens)\n",
       "16094      P54253   7293  taxid:9606(Homo sapiens)"
      ]
     },
     "execution_count": 33,
     "metadata": {},
     "output_type": "execute_result"
    }
   ],
   "source": [
    "id_counts_uniprot_final_human_sorted.head()"
   ]
  },
  {
   "cell_type": "code",
   "execution_count": 34,
   "id": "485463a4",
   "metadata": {
    "ExecuteTime": {
     "end_time": "2024-01-21T08:38:29.353083Z",
     "start_time": "2024-01-21T08:38:29.347241Z"
    }
   },
   "outputs": [
    {
     "data": {
      "text/html": [
       "<div>\n",
       "<style scoped>\n",
       "    .dataframe tbody tr th:only-of-type {\n",
       "        vertical-align: middle;\n",
       "    }\n",
       "\n",
       "    .dataframe tbody tr th {\n",
       "        vertical-align: top;\n",
       "    }\n",
       "\n",
       "    .dataframe thead th {\n",
       "        text-align: right;\n",
       "    }\n",
       "</style>\n",
       "<table border=\"1\" class=\"dataframe\">\n",
       "  <thead>\n",
       "    <tr style=\"text-align: right;\">\n",
       "      <th></th>\n",
       "      <th>ID</th>\n",
       "      <th>Count</th>\n",
       "      <th>organism</th>\n",
       "    </tr>\n",
       "  </thead>\n",
       "  <tbody>\n",
       "    <tr>\n",
       "      <th>0</th>\n",
       "      <td>P42858</td>\n",
       "      <td>19133</td>\n",
       "      <td>taxid:9606(Homo sapiens)</td>\n",
       "    </tr>\n",
       "    <tr>\n",
       "      <th>1</th>\n",
       "      <td>K7PPA8</td>\n",
       "      <td>11120</td>\n",
       "      <td>taxid:9606(Homo sapiens)</td>\n",
       "    </tr>\n",
       "    <tr>\n",
       "      <th>2</th>\n",
       "      <td>A0A140VJC8</td>\n",
       "      <td>10043</td>\n",
       "      <td>taxid:9606(Homo sapiens)</td>\n",
       "    </tr>\n",
       "    <tr>\n",
       "      <th>3</th>\n",
       "      <td>P00533</td>\n",
       "      <td>8402</td>\n",
       "      <td>taxid:9606(Homo sapiens)</td>\n",
       "    </tr>\n",
       "    <tr>\n",
       "      <th>4</th>\n",
       "      <td>P54253</td>\n",
       "      <td>7293</td>\n",
       "      <td>taxid:9606(Homo sapiens)</td>\n",
       "    </tr>\n",
       "  </tbody>\n",
       "</table>\n",
       "</div>"
      ],
      "text/plain": [
       "           ID  Count                  organism\n",
       "0      P42858  19133  taxid:9606(Homo sapiens)\n",
       "1      K7PPA8  11120  taxid:9606(Homo sapiens)\n",
       "2  A0A140VJC8  10043  taxid:9606(Homo sapiens)\n",
       "3      P00533   8402  taxid:9606(Homo sapiens)\n",
       "4      P54253   7293  taxid:9606(Homo sapiens)"
      ]
     },
     "execution_count": 34,
     "metadata": {},
     "output_type": "execute_result"
    }
   ],
   "source": [
    "# reset index\n",
    "id_counts_uniprot_final_human_sorted.reset_index(drop=True, inplace=True)\n",
    "id_counts_uniprot_final_human_sorted.head()"
   ]
  },
  {
   "cell_type": "code",
   "execution_count": 35,
   "id": "0a484f0a",
   "metadata": {
    "ExecuteTime": {
     "end_time": "2024-01-21T08:38:37.577879Z",
     "start_time": "2024-01-21T08:38:37.569678Z"
    }
   },
   "outputs": [],
   "source": [
    "# now that we have only human proteins, drop the organism column\n",
    "id_counts_uniprot_final_human_sorted.drop('organism', axis=1, inplace=True)"
   ]
  },
  {
   "cell_type": "code",
   "execution_count": 36,
   "id": "44c10d7d",
   "metadata": {
    "ExecuteTime": {
     "end_time": "2024-01-21T08:38:55.913322Z",
     "start_time": "2024-01-21T08:38:55.879611Z"
    }
   },
   "outputs": [],
   "source": [
    "# save to csv\n",
    "id_counts_uniprot_final_human_sorted.to_csv('id_counts_uniprot_final_human_sorted_binary.csv', index=False)"
   ]
  },
  {
   "cell_type": "code",
   "execution_count": 37,
   "id": "9f214f23",
   "metadata": {
    "ExecuteTime": {
     "end_time": "2024-01-21T08:39:49.549655Z",
     "start_time": "2024-01-21T08:39:49.476172Z"
    }
   },
   "outputs": [],
   "source": [
    "#  some ids exist in lets say different version of themselves, \n",
    "# for example Q96G04 has 168 counts and Q96G04-2 has 1 count. \n",
    "# In other words some IDs have other versions of themselves in the format of ID-number.\n",
    "# I want to aggregate the counts to the original ID and create a new file. \n",
    "# In this case the new file would have an entry for Q96G04 with 169 counts, and no entry for Q96G04-2.\n",
    "import pandas as pd\n",
    "\n",
    "# Read the CSV file into a pandas DataFrame\n",
    "df = pd.read_csv('id_counts_uniprot_final_human_sorted_binary.csv')\n",
    "\n",
    "# Extract the main ID (before the \"-number\" format)\n",
    "df[\"ID\"] = df['ID'].str.split('-', n=1).str[0]\n",
    "\n",
    "# Group by the main ID and sum the counts\n",
    "aggregated_df = df.groupby('ID', as_index=False)['Count'].sum()\n",
    "\n",
    "# Save the new DataFrame to a new CSV file\n",
    "aggregated_df.to_csv('aggregated_uniprot_ids_counts_binary.csv', index=False)"
   ]
  },
  {
   "cell_type": "code",
   "execution_count": 44,
   "id": "96eed179",
   "metadata": {
    "ExecuteTime": {
     "end_time": "2024-01-21T08:41:27.621116Z",
     "start_time": "2024-01-21T08:41:27.568610Z"
    }
   },
   "outputs": [],
   "source": [
    "# merge the 'aggregated_uniprot_ids_counts.csv' and 'human_simrel_5_human.txt' on ID\n",
    "\n",
    "# Read the aggregated file and the txt file into pandas DataFrames\n",
    "aggregated_df = pd.read_csv('aggregated_uniprot_ids_counts_binary.csv')\n",
    "\n",
    "# Read the second file without column names and specify them\n",
    "second_df = pd.read_csv('Revigo results/human_simrel_7_human.txt', delimiter=' ', header=None, names=['ID', 'Number of GO terms', 'GO terms'])\n",
    "\n",
    "# Merge the DataFrames on the 'ID' column\n",
    "merged_df = pd.merge(aggregated_df, second_df, on='ID', how='inner')"
   ]
  },
  {
   "cell_type": "code",
   "execution_count": 39,
   "id": "504b28c1",
   "metadata": {
    "ExecuteTime": {
     "end_time": "2024-01-21T08:40:25.345705Z",
     "start_time": "2024-01-21T08:40:25.337994Z"
    }
   },
   "outputs": [
    {
     "data": {
      "text/html": [
       "<div>\n",
       "<style scoped>\n",
       "    .dataframe tbody tr th:only-of-type {\n",
       "        vertical-align: middle;\n",
       "    }\n",
       "\n",
       "    .dataframe tbody tr th {\n",
       "        vertical-align: top;\n",
       "    }\n",
       "\n",
       "    .dataframe thead th {\n",
       "        text-align: right;\n",
       "    }\n",
       "</style>\n",
       "<table border=\"1\" class=\"dataframe\">\n",
       "  <thead>\n",
       "    <tr style=\"text-align: right;\">\n",
       "      <th></th>\n",
       "      <th>ID</th>\n",
       "      <th>Number of GO terms</th>\n",
       "      <th>GO terms</th>\n",
       "    </tr>\n",
       "  </thead>\n",
       "  <tbody>\n",
       "    <tr>\n",
       "      <th>0</th>\n",
       "      <td>A0A024RBG1</td>\n",
       "      <td>2</td>\n",
       "      <td>GO:0071543;GO:1901911</td>\n",
       "    </tr>\n",
       "    <tr>\n",
       "      <th>1</th>\n",
       "      <td>A0A075B6H5</td>\n",
       "      <td>1</td>\n",
       "      <td>GO:0007166</td>\n",
       "    </tr>\n",
       "    <tr>\n",
       "      <th>2</th>\n",
       "      <td>A0A075B6H7</td>\n",
       "      <td>2</td>\n",
       "      <td>GO:0002250;GO:0002377</td>\n",
       "    </tr>\n",
       "    <tr>\n",
       "      <th>3</th>\n",
       "      <td>A0A075B6H8</td>\n",
       "      <td>2</td>\n",
       "      <td>GO:0002250;GO:0002377</td>\n",
       "    </tr>\n",
       "    <tr>\n",
       "      <th>4</th>\n",
       "      <td>A0A075B6H9</td>\n",
       "      <td>2</td>\n",
       "      <td>GO:0002250;GO:0002377</td>\n",
       "    </tr>\n",
       "  </tbody>\n",
       "</table>\n",
       "</div>"
      ],
      "text/plain": [
       "           ID  Number of GO terms               GO terms\n",
       "0  A0A024RBG1                   2  GO:0071543;GO:1901911\n",
       "1  A0A075B6H5                   1             GO:0007166\n",
       "2  A0A075B6H7                   2  GO:0002250;GO:0002377\n",
       "3  A0A075B6H8                   2  GO:0002250;GO:0002377\n",
       "4  A0A075B6H9                   2  GO:0002250;GO:0002377"
      ]
     },
     "execution_count": 39,
     "metadata": {},
     "output_type": "execute_result"
    }
   ],
   "source": [
    "second_df.head()"
   ]
  },
  {
   "cell_type": "code",
   "execution_count": 40,
   "id": "800e4e94",
   "metadata": {
    "ExecuteTime": {
     "end_time": "2024-01-21T08:40:34.487816Z",
     "start_time": "2024-01-21T08:40:34.480852Z"
    },
    "scrolled": true
   },
   "outputs": [
    {
     "data": {
      "text/html": [
       "<div>\n",
       "<style scoped>\n",
       "    .dataframe tbody tr th:only-of-type {\n",
       "        vertical-align: middle;\n",
       "    }\n",
       "\n",
       "    .dataframe tbody tr th {\n",
       "        vertical-align: top;\n",
       "    }\n",
       "\n",
       "    .dataframe thead th {\n",
       "        text-align: right;\n",
       "    }\n",
       "</style>\n",
       "<table border=\"1\" class=\"dataframe\">\n",
       "  <thead>\n",
       "    <tr style=\"text-align: right;\">\n",
       "      <th></th>\n",
       "      <th>ID</th>\n",
       "      <th>Count</th>\n",
       "      <th>Number of GO terms</th>\n",
       "      <th>GO terms</th>\n",
       "    </tr>\n",
       "  </thead>\n",
       "  <tbody>\n",
       "    <tr>\n",
       "      <th>0</th>\n",
       "      <td>A0A075B6P5</td>\n",
       "      <td>599</td>\n",
       "      <td>2</td>\n",
       "      <td>GO:0002250;GO:0002377</td>\n",
       "    </tr>\n",
       "    <tr>\n",
       "      <th>1</th>\n",
       "      <td>A0A087WT01</td>\n",
       "      <td>1</td>\n",
       "      <td>2</td>\n",
       "      <td>GO:0002250;GO:0009617</td>\n",
       "    </tr>\n",
       "    <tr>\n",
       "      <th>2</th>\n",
       "      <td>A0A087WXM9</td>\n",
       "      <td>24</td>\n",
       "      <td>2</td>\n",
       "      <td>GO:0007060;GO:0010789</td>\n",
       "    </tr>\n",
       "    <tr>\n",
       "      <th>3</th>\n",
       "      <td>A0A087X1G2</td>\n",
       "      <td>8</td>\n",
       "      <td>1</td>\n",
       "      <td>GO:0090630</td>\n",
       "    </tr>\n",
       "    <tr>\n",
       "      <th>4</th>\n",
       "      <td>A0A096LP55</td>\n",
       "      <td>8</td>\n",
       "      <td>1</td>\n",
       "      <td>GO:0006122</td>\n",
       "    </tr>\n",
       "  </tbody>\n",
       "</table>\n",
       "</div>"
      ],
      "text/plain": [
       "           ID  Count  Number of GO terms               GO terms\n",
       "0  A0A075B6P5    599                   2  GO:0002250;GO:0002377\n",
       "1  A0A087WT01      1                   2  GO:0002250;GO:0009617\n",
       "2  A0A087WXM9     24                   2  GO:0007060;GO:0010789\n",
       "3  A0A087X1G2      8                   1             GO:0090630\n",
       "4  A0A096LP55      8                   1             GO:0006122"
      ]
     },
     "execution_count": 40,
     "metadata": {},
     "output_type": "execute_result"
    }
   ],
   "source": [
    "merged_df.head()"
   ]
  },
  {
   "cell_type": "code",
   "execution_count": 46,
   "id": "1f095ba5",
   "metadata": {
    "ExecuteTime": {
     "end_time": "2024-01-21T08:41:37.028316Z",
     "start_time": "2024-01-21T08:41:37.021370Z"
    }
   },
   "outputs": [
    {
     "data": {
      "text/plain": [
       "(15014, 4)"
      ]
     },
     "execution_count": 46,
     "metadata": {},
     "output_type": "execute_result"
    }
   ],
   "source": [
    "merged_df.shape"
   ]
  },
  {
   "cell_type": "code",
   "execution_count": 45,
   "id": "3a194c97",
   "metadata": {
    "ExecuteTime": {
     "end_time": "2024-01-21T08:41:31.398873Z",
     "start_time": "2024-01-21T08:41:31.362680Z"
    }
   },
   "outputs": [],
   "source": [
    "# Save the merged DataFrame to a new CSV file\n",
    "merged_df.to_csv('uniprot_ids_pleiotropy_human_07_inner_binary.csv', index=False)"
   ]
  },
  {
   "cell_type": "code",
   "execution_count": null,
   "id": "95d67db5",
   "metadata": {},
   "outputs": [],
   "source": []
  }
 ],
 "metadata": {
  "kernelspec": {
   "display_name": "Python 3 (ipykernel)",
   "language": "python",
   "name": "python3"
  },
  "language_info": {
   "codemirror_mode": {
    "name": "ipython",
    "version": 3
   },
   "file_extension": ".py",
   "mimetype": "text/x-python",
   "name": "python",
   "nbconvert_exporter": "python",
   "pygments_lexer": "ipython3",
   "version": "3.9.15"
  }
 },
 "nbformat": 4,
 "nbformat_minor": 5
}
