{
 "cells": [
  {
   "cell_type": "markdown",
   "id": "42912398",
   "metadata": {},
   "source": [
    "### Introduction"
   ]
  },
  {
   "cell_type": "code",
   "execution_count": null,
   "id": "ef48c447",
   "metadata": {},
   "outputs": [],
   "source": [
    "# Aim: to produce the resources to facilitate research on gene pleiotropy"
   ]
  },
  {
   "cell_type": "code",
   "execution_count": null,
   "id": "336ca05f",
   "metadata": {},
   "outputs": [],
   "source": [
    "# Delivarable #1: Produce lists of Gene Ontologies and their corrected semantic similarity measures\n",
    "\n",
    "# step #1: download the latest gene ontology annotations from here (make note of the date of download):\n",
    "# http://current.geneontology.org/products/pages/downloads.html\n",
    "# when multiple options exist (for example in human), there apply the following rules:\n",
    "# (a) no isoform,\n",
    "# (b) yes protein,\n",
    "# (c) the most abundant annotations\n",
    "# I suggest to study 6-7 model species, namely: humans, mouse, zebrafish, chicken, C. elegans, D. melanogaster, other?"
   ]
  },
  {
   "cell_type": "markdown",
   "id": "29c8d4d8",
   "metadata": {},
   "source": [
    "### Import the data"
   ]
  },
  {
   "cell_type": "code",
   "execution_count": null,
   "id": "3a587bd9",
   "metadata": {},
   "outputs": [],
   "source": [
    "import pandas as pd\n",
    "\n",
    "# info on column_labels at: http://geneontology.org/docs/go-annotation-file-gaf-format-2.0/\n",
    "column_labels = ['DB', 'DB Object ID', 'DB Object Symbol',\n",
    "                 'Qualifier', 'GO ID', 'DB:Reference (|DB:Reference)',\n",
    "                 'Evidence Code', 'With (or) From', 'Aspect', 'DB Object Name',\n",
    "                 'DB Object Synonym (|Synonym)', 'DB Object Type', 'Taxon(|taxon)',\n",
    "                 'Date', 'Assigned By', 'Annotation Extension', 'Gene Product Form ID']\n",
    "\n",
    "df = pd.read_csv('goa_human.gaf', comment='!', \n",
    "                 sep=\"\\t\", header=None, low_memory=False, names=column_labels)"
   ]
  },
  {
   "cell_type": "code",
   "execution_count": null,
   "id": "cee7c817",
   "metadata": {},
   "outputs": [],
   "source": [
    "df.head(5)"
   ]
  },
  {
   "cell_type": "code",
   "execution_count": null,
   "id": "ff15486c",
   "metadata": {},
   "outputs": [],
   "source": [
    "df.shape"
   ]
  },
  {
   "cell_type": "markdown",
   "id": "1520f3f7",
   "metadata": {},
   "source": [
    "### Filtering"
   ]
  },
  {
   "cell_type": "code",
   "execution_count": null,
   "id": "fc8b7237",
   "metadata": {},
   "outputs": [],
   "source": [
    "# for each gene (column: DB Object ID), retrieve the gene ontology annotations, as follows:\n",
    "# (a) separately for P (biological process), F (molecular function) or C (cellular component)\n",
    "# (column: Aspect),\n",
    "# (b) end lists should not have duplicates,\n",
    "# (c) do not incluce \"NOT\" qualifiers\n",
    "\n",
    "# Filter for rows with qualifiers not containing \"NOT\"\n",
    "df_filtered = df[~df[\"Qualifier\"].str.contains(\"NOT\")]\n"
   ]
  },
  {
   "cell_type": "code",
   "execution_count": null,
   "id": "2e89acdb",
   "metadata": {},
   "outputs": [],
   "source": [
    "df_filtered.shape"
   ]
  },
  {
   "cell_type": "code",
   "execution_count": null,
   "id": "e4d4dd37",
   "metadata": {},
   "outputs": [],
   "source": [
    "df_filtered.head(5)"
   ]
  },
  {
   "cell_type": "markdown",
   "id": "7da47c12",
   "metadata": {},
   "source": [
    "### Create the dictionaries and populate them"
   ]
  },
  {
   "cell_type": "code",
   "execution_count": null,
   "id": "c820b121",
   "metadata": {},
   "outputs": [],
   "source": [
    "# Create dictionaries for each aspect (P, F, and C)\n",
    "aspect_P = {}\n",
    "aspect_F = {}\n",
    "aspect_C = {}"
   ]
  },
  {
   "cell_type": "code",
   "execution_count": null,
   "id": "5a9f4129",
   "metadata": {},
   "outputs": [],
   "source": [
    "# Iterate through the filtered DataFrame and populate the dictionaries\n",
    "for index, row in df_filtered.iterrows():\n",
    "    aspect = row[\"Aspect\"]\n",
    "    gene_id = row[\"DB Object ID\"]\n",
    "    go_id = row[\"GO ID\"]\n",
    "\n",
    "    if aspect == \"P\":\n",
    "        aspect_P.setdefault(gene_id, []).append(go_id)\n",
    "    elif aspect == \"F\":\n",
    "        aspect_F.setdefault(gene_id, []).append(go_id)\n",
    "    elif aspect == \"C\":\n",
    "        aspect_C.setdefault(gene_id, []).append(go_id)"
   ]
  },
  {
   "cell_type": "markdown",
   "id": "42aac0fe",
   "metadata": {},
   "source": [
    "### Useful stuff about the dictionaries"
   ]
  },
  {
   "cell_type": "code",
   "execution_count": null,
   "id": "f066965e",
   "metadata": {
    "scrolled": true
   },
   "outputs": [],
   "source": [
    "# Get the size of each dict (genes in each dict)\n",
    "print(f\"The size of dictionary aspect_P is: {len(aspect_P)}\")"
   ]
  },
  {
   "cell_type": "code",
   "execution_count": null,
   "id": "b0f5f68a",
   "metadata": {},
   "outputs": [],
   "source": [
    "print(f\"The size of dictionary aspect_F is: {len(aspect_F)}\")"
   ]
  },
  {
   "cell_type": "code",
   "execution_count": null,
   "id": "08c5844f",
   "metadata": {},
   "outputs": [],
   "source": [
    "print(f\"The size of dictionary aspect_C is: {len(aspect_C)}\")"
   ]
  },
  {
   "cell_type": "code",
   "execution_count": null,
   "id": "c04ee4bb",
   "metadata": {},
   "outputs": [],
   "source": [
    "# Print the first three key-value pairs of the P dictionary as an example\n",
    "for gene_id, go_ids in list(aspect_P.items())[:100]:\n",
    "    print(f\"{gene_id}: {go_ids}\")"
   ]
  },
  {
   "cell_type": "code",
   "execution_count": null,
   "id": "5231395c",
   "metadata": {},
   "outputs": [],
   "source": [
    "# search if a key (a gene) exists in the P dictionary\n",
    "if \"A0A024RBG1\" in aspect_P:\n",
    "    print(\"Key 'A0A024RBG1' exists in the dictionary.\")\n",
    "else:\n",
    "    print(\"Key 'A0A024RBG1' does not exist in the dictionary.\")"
   ]
  },
  {
   "cell_type": "code",
   "execution_count": 83,
   "id": "b8613fe5",
   "metadata": {},
   "outputs": [
    {
     "data": {
      "text/plain": [
       "['GO:1901907', 'GO:1901909', 'GO:0071543', 'GO:1901911']"
      ]
     },
     "execution_count": 83,
     "metadata": {},
     "output_type": "execute_result"
    }
   ],
   "source": [
    "# get the value of a specific key (the GO terms associated with a gene)\n",
    "aspect_P[\"A0A024RBG1\"] "
   ]
  },
  {
   "cell_type": "code",
   "execution_count": null,
   "id": "50322125",
   "metadata": {},
   "outputs": [],
   "source": [
    "# sort the aspect_P dictionary based on keys (alphabetically)\n",
    "sorted_Pdict = dict(sorted(aspect_P.items(), key=lambda item: item[0]))\n",
    "\n",
    "# print the first 3 rows of the sorted Pdict\n",
    "for gene_id, go_ids in list(sorted_Pdict.items())[:10]:\n",
    "    print(f\"{gene_id}: {go_ids}\")"
   ]
  },
  {
   "cell_type": "markdown",
   "id": "99b8f30a",
   "metadata": {},
   "source": [
    "### Semantic similarity correction"
   ]
  },
  {
   "cell_type": "code",
   "execution_count": null,
   "id": "c68a50a6",
   "metadata": {},
   "outputs": [],
   "source": [
    "# now we will focus only on the \"P\" dictionary (biological process) and we will try to correct \n",
    "# by a semantic similarity measure the list of Gene Ontologies associated with each gene\n",
    "\n",
    "\n",
    "# To correct the list of GO IDs associated with each gene ID using a semantic similarity measure, \n",
    "# we can use various approaches based on the Gene Ontology structure, such as Resnik, Lin, \n",
    "# or Jiang-Conrath measures, among others.\n",
    "# Here we perform a basic example using the goatools library to calculate semantic \n",
    "# similarity with the Resnik measure and correct the list of GO IDs associated with each gene ID."
   ]
  },
  {
   "cell_type": "code",
   "execution_count": null,
   "id": "29ba9fd1",
   "metadata": {},
   "outputs": [],
   "source": [
    "# since we have already goatools installed, we just check the goatools version\n",
    "from importlib.metadata import version\n",
    "version('goatools')\n"
   ]
  },
  {
   "cell_type": "code",
   "execution_count": null,
   "id": "3ec35135",
   "metadata": {},
   "outputs": [],
   "source": [
    "# import specific tools\n",
    "from goatools.semantic import semantic_similarity\n",
    "from goatools import obo_parser\n",
    "from goatools.obo_parser import GODag\n",
    "\n",
    "godag = GODag(\"go-basic.obo\")"
   ]
  },
  {
   "cell_type": "code",
   "execution_count": null,
   "id": "e932e5ea",
   "metadata": {},
   "outputs": [],
   "source": [
    "# Calculate semantic similarity using Resnik measure and update the lists \n",
    "# (add updated lists to new dict, do not alter the original dict)\n",
    "aspect_P_corrected = {}\n",
    "for gene_id, go_ids in aspect_P.items():\n",
    "    new_go_ids = []\n",
    "    for go_id in go_ids:\n",
    "        max_sim = 0.0\n",
    "        for other_go_id in go_ids:\n",
    "            if go_id != other_go_id:\n",
    "               sim = semantic_similarity(go_id, other_go_id, godag)\n",
    "               max_sim = max(max_sim, sim)\n",
    "        if max_sim >= 0.5:  # Set the threshold as needed\n",
    "            new_go_ids.append(go_id)\n",
    "    aspect_P_corrected[gene_id] = new_go_ids\n"
   ]
  },
  {
   "cell_type": "code",
   "execution_count": null,
   "id": "3717d739",
   "metadata": {},
   "outputs": [],
   "source": [
    "# Print the first three key, value pairs of the corrected \"P\" dictionary as an example\n",
    "for gene_id, go_ids in list(aspect_P_corrected.items())[:100]:\n",
    "    print(f\"{gene_id}: {go_ids}\")"
   ]
  },
  {
   "cell_type": "markdown",
   "id": "e23f94d8",
   "metadata": {},
   "source": [
    "### Assessment of our method"
   ]
  },
  {
   "cell_type": "code",
   "execution_count": null,
   "id": "a81844d0",
   "metadata": {},
   "outputs": [],
   "source": [
    "# The gene codenamed A0A024RBG1 previously had 4 GO terms associated with it \n",
    "# ['GO:1901907', 'GO:1901909', 'GO:0071543', 'GO:1901911']\n",
    "# Let's see how many there are now (after semantic similarity correction using Resnik distance)\n",
    "if \"A0A024RBG1\" in aspect_P_corrected:\n",
    "    print(\"Key 'A0A024RBG1' exists in the dictionary.\")\n",
    "else:\n",
    "    print(\"Key 'A0A024RBG1' does not exist in the dictionary.\")"
   ]
  },
  {
   "cell_type": "code",
   "execution_count": null,
   "id": "da621156",
   "metadata": {},
   "outputs": [],
   "source": [
    "aspect_P_corrected[\"A0A024RBG1\"] "
   ]
  },
  {
   "cell_type": "code",
   "execution_count": null,
   "id": "33fc3bcf",
   "metadata": {},
   "outputs": [],
   "source": [
    "# For some reason all the terms for said gene are deleted (should look into it)"
   ]
  },
  {
   "cell_type": "code",
   "execution_count": null,
   "id": "a6998508",
   "metadata": {},
   "outputs": [],
   "source": [
    "# The gene codenamed A0A075B6H5 previously had only 1 GO term associated with it \n",
    "# ['GO:0007166']\n",
    "# Let's see how many there are now (after semantic similarity correction using Resnik measure)\n",
    "if \"A0A075B6H5\" in aspect_P_corrected:\n",
    "    print(\"Key 'A0A075B6H5' exists in the dictionary.\")\n",
    "else:\n",
    "    print(\"Key 'A0A075B6H5' does not exist in the dictionary.\")"
   ]
  },
  {
   "cell_type": "code",
   "execution_count": 82,
   "id": "0c483b42",
   "metadata": {},
   "outputs": [
    {
     "data": {
      "text/plain": [
       "[]"
      ]
     },
     "execution_count": 82,
     "metadata": {},
     "output_type": "execute_result"
    }
   ],
   "source": [
    "aspect_P_corrected[\"A0A075B6H5\"] "
   ]
  },
  {
   "cell_type": "code",
   "execution_count": null,
   "id": "88897f25",
   "metadata": {},
   "outputs": [],
   "source": [
    "# So we notice another fault in our code: \n",
    "# Genes with only one term associated with them get that term deleted \n",
    "# during our similarity calculation (perhaps because there is no other term to compute similarity)"
   ]
  },
  {
   "cell_type": "code",
   "execution_count": null,
   "id": "2360b607",
   "metadata": {},
   "outputs": [],
   "source": [
    "# There are 4 things that we should investigate\n",
    "# 1) Why did a specific term get deleted and others not?\n",
    "# 2) Why in cases of only 1 term, this term gets deleted?\n",
    "# 3) Why in some cases of multiple terms, all terms get deleted?\n",
    "# 4) What value should the similarity threshold take?\n",
    "# Extra notes\n",
    "# While investigating the first 100 genes (before and after correction)\n",
    "# I notice that two terms 'GO:0002250', 'GO:0006955' always survive the correction \n",
    "# and seem to almost be the only ones to do so\n"
   ]
  },
  {
   "cell_type": "code",
   "execution_count": null,
   "id": "f82d8881",
   "metadata": {},
   "outputs": [],
   "source": [
    "# count genes with empty values after correction\n",
    "\n",
    "# Initialize a counter for empty values\n",
    "empty_values_count = 0\n",
    "\n",
    "# Loop through the values in the dictionary and count the empty lists\n",
    "for value in aspect_P_corrected.values():\n",
    "    if not value:\n",
    "        empty_values_count += 1\n",
    "\n",
    "print(\"Number of keys with empty values:\", empty_values_count)"
   ]
  },
  {
   "cell_type": "code",
   "execution_count": null,
   "id": "1f771463",
   "metadata": {},
   "outputs": [],
   "source": [
    "len(aspect_P_corrected)"
   ]
  },
  {
   "cell_type": "code",
   "execution_count": null,
   "id": "1d91fd07",
   "metadata": {},
   "outputs": [],
   "source": [
    "# We see that most of the keys (genes) got all their values (GO terms) deleted after our \"correction\"."
   ]
  },
  {
   "cell_type": "code",
   "execution_count": null,
   "id": "644ac0b3",
   "metadata": {},
   "outputs": [],
   "source": [
    "# Now let's check how many genes in the original dataset had only 1 go term associated with them\n",
    "\n",
    "# Initialize a counter for keys with one GO term in their value list\n",
    "keys_with_one_go_term_count = 0\n",
    "\n",
    "# Loop through the values in the dictionary and count the keys with only one GO term\n",
    "for value in aspect_P.values():\n",
    "    if len(value) == 1:\n",
    "        keys_with_one_go_term_count += 1\n",
    "\n",
    "print(\"Number of keys with only one GO term:\", keys_with_one_go_term_count)"
   ]
  },
  {
   "cell_type": "code",
   "execution_count": 73,
   "id": "ccaae746",
   "metadata": {},
   "outputs": [
    {
     "name": "stdout",
     "output_type": "stream",
     "text": [
      "Number of different GO terms: 12389\n"
     ]
    }
   ],
   "source": [
    "# Count how many different GO terms exist in the original dictionary\n",
    "\n",
    "# Create a set to store unique GO terms\n",
    "unique_go_terms = set()\n",
    "\n",
    "# Loop through the values in the dictionary and add GO terms to the set\n",
    "for value in aspect_P.values():\n",
    "    unique_go_terms.update(value)\n",
    "\n",
    "# Get the count of different GO terms\n",
    "num_unique_go_terms = len(unique_go_terms)\n",
    "\n",
    "print(\"Number of different GO terms:\", num_unique_go_terms)"
   ]
  },
  {
   "cell_type": "code",
   "execution_count": 72,
   "id": "90406616",
   "metadata": {},
   "outputs": [
    {
     "name": "stdout",
     "output_type": "stream",
     "text": [
      "Number of different GO terms: 7240\n"
     ]
    }
   ],
   "source": [
    "# Count how many different GO terms exist in the corrected dictionary\n",
    "\n",
    "# Create a set to store unique GO terms\n",
    "unique_go_terms = set()\n",
    "\n",
    "# Loop through the values in the dictionary and add GO terms to the set\n",
    "for value in aspect_P_corrected.values():\n",
    "    unique_go_terms.update(value)\n",
    "\n",
    "# Get the count of different GO terms\n",
    "num_unique_go_terms = len(unique_go_terms)\n",
    "\n",
    "print(\"Number of different GO terms:\", num_unique_go_terms)"
   ]
  },
  {
   "cell_type": "code",
   "execution_count": 87,
   "id": "b23f3c98",
   "metadata": {},
   "outputs": [
    {
     "name": "stdout",
     "output_type": "stream",
     "text": [
      "go-basic.obo: fmt(1.2) rel(2023-06-11) 46,420 Terms\n"
     ]
    }
   ],
   "source": [
    "# NEW METHOD\n",
    "def get_most_general(go_terms, godag):\n",
    "    most_general_term = None\n",
    "    max_similarity = 0.5  # Semantic similarity threshold\n",
    "    for term1 in go_terms:\n",
    "        for term2 in go_terms:\n",
    "            if term1 != term2:\n",
    "                similarity = semantic_similarity(term1, term2, godag)\n",
    "                if similarity > max_similarity:\n",
    "                    most_general_term = term1 if godag[term1].level < godag[term2].level else term2\n",
    "                    break\n",
    "        if most_general_term is not None:\n",
    "            break\n",
    "    return most_general_term\n",
    "\n",
    "# Load the GO DAG\n",
    "obo_file = \"go-basic.obo\"  \n",
    "go_dag = obo_parser.GODag(obo_file)\n",
    "\n",
    "# Create a new dictionary with the reduced GO terms\n",
    "new_data_dict = {}\n",
    "for key, go_terms in aspect_P.items():\n",
    "    if len(go_terms) == 1:\n",
    "        new_data_dict[key] = go_terms[0]\n",
    "    else:\n",
    "        most_general_term = get_most_general(go_terms, go_dag)\n",
    "        if most_general_term is not None:\n",
    "            new_data_dict[key] = most_general_term\n",
    "        else:\n",
    "            # If no term is more general (similarity threshold not met), keep all terms\n",
    "            new_data_dict[key] = go_terms\n",
    "\n",
    "# What if similarity threshold is met but both terms are on the same lvl (meaning that none is more \n",
    "# general than the other?)"
   ]
  },
  {
   "cell_type": "code",
   "execution_count": 98,
   "id": "66d17415",
   "metadata": {},
   "outputs": [
    {
     "name": "stdout",
     "output_type": "stream",
     "text": [
      "A0A075B6H7: GO:0006955\n",
      "A0A075B6H8: GO:0006955\n",
      "A0A075B6H9: GO:0006955\n",
      "A0A075B6I0: GO:0006955\n",
      "A0A075B6I1: GO:0006955\n",
      "A0A075B6I3: GO:0006955\n",
      "A0A075B6I4: GO:0006955\n",
      "A0A075B6I6: GO:0006955\n",
      "A0A075B6I7: GO:0006955\n",
      "A0A075B6I9: GO:0006955\n",
      "A0A075B6J1: GO:0006955\n",
      "A0A075B6J2: GO:0006955\n",
      "A0A075B6J6: GO:0006955\n",
      "A0A075B6J9: GO:0006955\n",
      "A0A075B6K0: GO:0006955\n",
      "A0A075B6K2: GO:0006955\n",
      "A0A075B6K4: GO:0006955\n",
      "A0A075B6K5: GO:0006955\n",
      "A0A075B6K6: GO:0006955\n",
      "A0A075B6L2: GO:0002250\n",
      "A0A075B6L6: ['GO:0002250', 'GO:0007166']\n",
      "A0A075B6N1: ['GO:0002250', 'GO:0007166']\n",
      "A0A075B6N2: ['GO:0002250', 'GO:0007166']\n",
      "A0A075B6N3: ['GO:0002250', 'GO:0007166']\n",
      "A0A075B6N4: ['GO:0002250', 'GO:0007166']\n",
      "A0A075B6P5: GO:0006955\n",
      "A0A075B6R0: ['GO:0002250', 'GO:0045087']\n",
      "A0A075B6R9: GO:0006955\n",
      "A0A075B6S0: GO:0002250\n",
      "A0A075B6S2: GO:0006955\n",
      "A0A075B6S4: GO:0006955\n",
      "A0A075B6S5: GO:0006955\n",
      "A0A075B6S6: GO:0006955\n",
      "A0A075B6S9: GO:0006955\n",
      "A0A075B6T6: GO:0002250\n",
      "A0A075B6T7: ['GO:0002250', 'GO:0009617']\n",
      "A0A075B6T8: GO:0002250\n",
      "A0A075B6U4: ['GO:0002250', 'GO:0009617']\n",
      "A0A075B6V5: ['GO:0002250', 'GO:0009617']\n",
      "A0A075B6W5: GO:0002250\n",
      "A0A075B6X5: GO:0002250\n",
      "A0A075B6Y3: GO:0002250\n",
      "A0A075B6Y9: GO:0002250\n",
      "A0A075B700: GO:0002250\n",
      "A0A075B706: GO:0002250\n",
      "A0A075B734: ['GO:0071918', 'GO:0015793', 'GO:0006833']\n",
      "A0A087WSX0: GO:0006955\n",
      "A0A087WSY6: GO:0006955\n",
      "A0A087WSZ0: GO:0006955\n",
      "A0A087WSZ9: ['GO:0002250', 'GO:0009617']\n",
      "A0A087WT01: GO:0006955\n",
      "A0A087WT02: GO:0002250\n",
      "A0A087WT03: ['GO:0002250', 'GO:0009617']\n",
      "A0A087WV62: ['GO:0002250', 'GO:0007166']\n",
      "A0A087WW87: GO:0006955\n",
      "A0A087WXM9: ['GO:0007060', 'GO:0010789', 'GO:0016321', 'GO:0045143', 'GO:0051754', 'GO:0010789', 'GO:0007060', 'GO:0045143', 'GO:0051754', 'GO:0016321']\n",
      "A0A087WZK3: GO:0006355\n",
      "A0A087X0K7: ['GO:0002250', 'GO:0007166']\n",
      "A0A087X0M5: ['GO:0002250', 'GO:0007166']\n",
      "A0A087X1C1: ['GO:0007015', 'GO:0030334', 'GO:0042989']\n",
      "A0A087X1C5: GO:0006805\n",
      "A0A096LNP1: ['GO:0042742', 'GO:0045087']\n",
      "A0A096LP49: GO:0034453\n",
      "A0A096LPK9: ['GO:0007186', 'GO:0050911']\n",
      "A0A0A0MRZ7: GO:0006955\n",
      "A0A0A0MRZ8: GO:0006955\n",
      "A0A0A0MRZ9: GO:0006955\n",
      "A0A0A0MS00: GO:0006955\n",
      "A0A0A0MS01: GO:0002250\n",
      "A0A0A0MS02: GO:0002250\n",
      "A0A0A0MS03: ['GO:0002250', 'GO:0007166']\n",
      "A0A0A0MS04: ['GO:0002250', 'GO:0007166']\n",
      "A0A0A0MS05: ['GO:0002250', 'GO:0007166']\n",
      "A0A0A0MS06: ['GO:0002250', 'GO:0007166']\n",
      "A0A0A0MT36: GO:0006955\n",
      "A0A0A0MT70: GO:0002250\n",
      "A0A0A0MT76: GO:0002250\n",
      "A0A0A0MT78: GO:0002250\n",
      "A0A0A0MT87: GO:0002250\n",
      "A0A0A0MT89: GO:0002250\n",
      "A0A0A0MT94: GO:0002250\n",
      "A0A0A0MTA4: GO:0002250\n",
      "A0A0A0MTA7: GO:0002250\n",
      "A0A0A6YYC5: GO:0006955\n",
      "A0A0A6YYD4: ['GO:0002250', 'GO:0007166']\n",
      "A0A0A6YYG2: ['GO:0002250', 'GO:0007166']\n",
      "A0A0A6YYG3: ['GO:0002250', 'GO:0007166']\n",
      "A0A0A6YYJ7: GO:0002250\n",
      "A0A0A6YYK1: GO:0002250\n",
      "A0A0A6YYK4: ['GO:0002250', 'GO:0007166']\n",
      "A0A0A6YYK6: GO:0002250\n",
      "A0A0A6YYK7: GO:0006955\n",
      "A0A0B4J1T7: ['GO:0007178', 'GO:0002029', 'GO:0095500']\n",
      "A0A0B4J1U3: GO:0006955\n",
      "A0A0B4J1U4: ['GO:0002250', 'GO:0045087']\n",
      "A0A0B4J1U6: ['GO:0002250', 'GO:0007166']\n",
      "A0A0B4J1Y8: GO:0006955\n",
      "A0A0B4J1Z2: GO:0006955\n",
      "A0A0B4J200: GO:0002250\n",
      "A0A0B4J234: GO:0006955\n"
     ]
    }
   ],
   "source": [
    "for gene_id, go_ids in list(new_data_dict.items())[:100]:\n",
    "    print(f\"{gene_id}: {go_ids}\")"
   ]
  },
  {
   "cell_type": "code",
   "execution_count": null,
   "id": "386dc85f",
   "metadata": {},
   "outputs": [],
   "source": [
    "for gene_id, go_ids in list(aspect_P.items())[:100]:\n",
    "    print(f\"{gene_id}: {go_ids}\")"
   ]
  },
  {
   "cell_type": "code",
   "execution_count": 88,
   "id": "54e4f409",
   "metadata": {},
   "outputs": [
    {
     "data": {
      "text/plain": [
       "['GO:1901907', 'GO:1901909', 'GO:0071543', 'GO:1901911']"
      ]
     },
     "execution_count": 88,
     "metadata": {},
     "output_type": "execute_result"
    }
   ],
   "source": [
    "new_data_dict['A0A024RBG1']"
   ]
  },
  {
   "cell_type": "code",
   "execution_count": 99,
   "id": "d447b3cc",
   "metadata": {},
   "outputs": [
    {
     "name": "stdout",
     "output_type": "stream",
     "text": [
      "go-basic.obo: fmt(1.2) rel(2023-06-11) 46,420 Terms\n"
     ]
    },
    {
     "ename": "NameError",
     "evalue": "name 'ic_map' is not defined",
     "output_type": "error",
     "traceback": [
      "\u001b[1;31m---------------------------------------------------------------------------\u001b[0m",
      "\u001b[1;31mNameError\u001b[0m                                 Traceback (most recent call last)",
      "\u001b[1;32m~\\AppData\\Local\\Temp\\ipykernel_6776\\2800228174.py\u001b[0m in \u001b[0;36m<module>\u001b[1;34m\u001b[0m\n\u001b[0;32m     27\u001b[0m \u001b[1;33m\u001b[0m\u001b[0m\n\u001b[0;32m     28\u001b[0m \u001b[1;32mfor\u001b[0m \u001b[0mkey\u001b[0m\u001b[1;33m,\u001b[0m \u001b[0mgo_terms\u001b[0m \u001b[1;32min\u001b[0m \u001b[0maspect_P\u001b[0m\u001b[1;33m.\u001b[0m\u001b[0mitems\u001b[0m\u001b[1;33m(\u001b[0m\u001b[1;33m)\u001b[0m\u001b[1;33m:\u001b[0m\u001b[1;33m\u001b[0m\u001b[1;33m\u001b[0m\u001b[0m\n\u001b[1;32m---> 29\u001b[1;33m     \u001b[0mreduced_terms\u001b[0m \u001b[1;33m=\u001b[0m \u001b[0mreduce_go_terms\u001b[0m\u001b[1;33m(\u001b[0m\u001b[0mgo_terms\u001b[0m\u001b[1;33m)\u001b[0m\u001b[1;33m\u001b[0m\u001b[1;33m\u001b[0m\u001b[0m\n\u001b[0m\u001b[0;32m     30\u001b[0m     \u001b[0mreduced_dictionary\u001b[0m\u001b[1;33m[\u001b[0m\u001b[0mkey\u001b[0m\u001b[1;33m]\u001b[0m \u001b[1;33m=\u001b[0m \u001b[0mreduced_terms\u001b[0m\u001b[1;33m\u001b[0m\u001b[1;33m\u001b[0m\u001b[0m\n",
      "\u001b[1;32m~\\AppData\\Local\\Temp\\ipykernel_6776\\2800228174.py\u001b[0m in \u001b[0;36mreduce_go_terms\u001b[1;34m(go_terms, threshold)\u001b[0m\n\u001b[0;32m     10\u001b[0m         \u001b[1;32mfor\u001b[0m \u001b[0mterm2\u001b[0m \u001b[1;32min\u001b[0m \u001b[0mgo_terms\u001b[0m\u001b[1;33m:\u001b[0m\u001b[1;33m\u001b[0m\u001b[1;33m\u001b[0m\u001b[0m\n\u001b[0;32m     11\u001b[0m             \u001b[1;32mif\u001b[0m \u001b[0mterm1\u001b[0m \u001b[1;33m!=\u001b[0m \u001b[0mterm2\u001b[0m\u001b[1;33m:\u001b[0m\u001b[1;33m\u001b[0m\u001b[1;33m\u001b[0m\u001b[0m\n\u001b[1;32m---> 12\u001b[1;33m                 \u001b[0msimilarity\u001b[0m \u001b[1;33m=\u001b[0m \u001b[0msemantic_similarity\u001b[0m\u001b[1;33m(\u001b[0m\u001b[0mterm1\u001b[0m\u001b[1;33m,\u001b[0m \u001b[0mterm2\u001b[0m\u001b[1;33m,\u001b[0m \u001b[0mgo_data\u001b[0m\u001b[1;33m,\u001b[0m \u001b[0mic_map\u001b[0m\u001b[1;33m)\u001b[0m\u001b[1;33m\u001b[0m\u001b[1;33m\u001b[0m\u001b[0m\n\u001b[0m\u001b[0;32m     13\u001b[0m                 \u001b[1;32mif\u001b[0m \u001b[0msimilarity\u001b[0m \u001b[1;33m>=\u001b[0m \u001b[0mthreshold\u001b[0m\u001b[1;33m:\u001b[0m\u001b[1;33m\u001b[0m\u001b[1;33m\u001b[0m\u001b[0m\n\u001b[0;32m     14\u001b[0m                     \u001b[0mreduced_terms\u001b[0m\u001b[1;33m.\u001b[0m\u001b[0mdiscard\u001b[0m\u001b[1;33m(\u001b[0m\u001b[0mterm2\u001b[0m\u001b[1;33m)\u001b[0m\u001b[1;33m\u001b[0m\u001b[1;33m\u001b[0m\u001b[0m\n",
      "\u001b[1;31mNameError\u001b[0m: name 'ic_map' is not defined"
     ]
    }
   ],
   "source": [
    "#OTHER METHOD\n",
    "\n",
    "# Load the Gene Ontology data (replace 'go.obo' with the path to your Gene Ontology OBO file)\n",
    "go_data = obo_parser.GODag(\"go-basic.obo\")\n",
    "\n",
    "def reduce_go_terms(go_terms, threshold=0.8):\n",
    "    reduced_terms = set(go_terms)\n",
    "\n",
    "    for term1 in go_terms:\n",
    "        for term2 in go_terms:\n",
    "            if term1 != term2:\n",
    "                similarity = semantic_similarity(term1, term2, go_data, ic_map)\n",
    "                if similarity >= threshold:\n",
    "                    reduced_terms.discard(term2)\n",
    "\n",
    "    # Make sure at least one GO term is always included\n",
    "    if not reduced_terms:\n",
    "        reduced_terms.add(min(go_terms, key=lambda x: ic_map[x]))\n",
    "\n",
    "    return list(reduced_terms)\n",
    "\n",
    "# Now, if the reduction process removes all GO terms for a key, we will add back the \n",
    "# GO term with the minimum information content (ic_map[x]) to ensure that at least one\n",
    "# term is retained.\n",
    "\n",
    "reduced_dictionary = {}\n",
    "\n",
    "for key, go_terms in aspect_P.items():\n",
    "    reduced_terms = reduce_go_terms(go_terms)\n",
    "    reduced_dictionary[key] = reduced_terms"
   ]
  },
  {
   "cell_type": "code",
   "execution_count": 95,
   "id": "c5edc218",
   "metadata": {},
   "outputs": [
    {
     "data": {
      "text/plain": [
       "['GO:0071543', 'GO:1901911']"
      ]
     },
     "execution_count": 95,
     "metadata": {},
     "output_type": "execute_result"
    }
   ],
   "source": [
    "reduced_dictionary['A0A024RBG1']"
   ]
  },
  {
   "cell_type": "code",
   "execution_count": 96,
   "id": "d1a4dbfe",
   "metadata": {},
   "outputs": [
    {
     "data": {
      "text/plain": [
       "['GO:1901907', 'GO:1901909', 'GO:0071543', 'GO:1901911']"
      ]
     },
     "execution_count": 96,
     "metadata": {},
     "output_type": "execute_result"
    }
   ],
   "source": [
    "aspect_P['A0A024RBG1']"
   ]
  },
  {
   "cell_type": "code",
   "execution_count": 97,
   "id": "a2da85f2",
   "metadata": {},
   "outputs": [
    {
     "name": "stdout",
     "output_type": "stream",
     "text": [
      "A0A075B6H7: ['GO:0002377']\n",
      "A0A075B6H8: ['GO:0002377']\n",
      "A0A075B6H9: ['GO:0002377']\n",
      "A0A075B6I0: ['GO:0002377']\n",
      "A0A075B6I1: ['GO:0002377']\n",
      "A0A075B6I3: ['GO:0002377']\n",
      "A0A075B6I4: ['GO:0002377']\n",
      "A0A075B6I6: ['GO:0002377']\n",
      "A0A075B6I7: ['GO:0002377']\n",
      "A0A075B6I9: ['GO:0002377']\n",
      "A0A075B6J1: ['GO:0002377']\n",
      "A0A075B6J2: ['GO:0002377']\n",
      "A0A075B6J6: ['GO:0002377']\n",
      "A0A075B6J9: ['GO:0002377']\n",
      "A0A075B6K0: ['GO:0002377']\n",
      "A0A075B6K2: ['GO:0002377']\n",
      "A0A075B6K4: ['GO:0002377']\n",
      "A0A075B6K5: ['GO:0002377']\n",
      "A0A075B6K6: ['GO:0002377']\n",
      "A0A075B6L2: ['GO:0002250']\n",
      "A0A075B6L6: ['GO:0002250', 'GO:0007166']\n",
      "A0A075B6N1: ['GO:0002250', 'GO:0007166']\n",
      "A0A075B6N2: ['GO:0002250', 'GO:0007166']\n",
      "A0A075B6N3: ['GO:0002250', 'GO:0007166']\n",
      "A0A075B6N4: ['GO:0002250', 'GO:0007166']\n",
      "A0A075B6P5: ['GO:0002377']\n",
      "A0A075B6R0: ['GO:0002250', 'GO:0045087']\n",
      "A0A075B6R9: ['GO:0002377']\n",
      "A0A075B6S0: ['GO:0002250']\n",
      "A0A075B6S2: ['GO:0002377']\n",
      "A0A075B6S4: ['GO:0002377']\n",
      "A0A075B6S5: ['GO:0002377']\n",
      "A0A075B6S6: ['GO:0002377']\n",
      "A0A075B6S9: ['GO:0002377']\n",
      "A0A075B6T6: ['GO:0002250']\n",
      "A0A075B6T7: ['GO:0009617', 'GO:0002250']\n",
      "A0A075B6T8: ['GO:0002250']\n",
      "A0A075B6U4: ['GO:0009617', 'GO:0002250']\n",
      "A0A075B6V5: ['GO:0009617', 'GO:0002250']\n",
      "A0A075B6W5: ['GO:0002250']\n",
      "A0A075B6X5: ['GO:0002250']\n",
      "A0A075B6Y3: ['GO:0002250']\n",
      "A0A075B6Y9: ['GO:0002250']\n",
      "A0A075B700: ['GO:0002250']\n",
      "A0A075B706: ['GO:0002250']\n",
      "A0A075B734: ['GO:0015793', 'GO:0006833', 'GO:0071918']\n",
      "A0A087WSX0: ['GO:0002377']\n",
      "A0A087WSY6: ['GO:0002377']\n",
      "A0A087WSZ0: ['GO:0002377']\n",
      "A0A087WSZ9: ['GO:0009617', 'GO:0002250']\n",
      "A0A087WT01: []\n",
      "A0A087WT02: ['GO:0002250']\n",
      "A0A087WT03: ['GO:0009617', 'GO:0002250']\n",
      "A0A087WV62: ['GO:0002250', 'GO:0007166']\n",
      "A0A087WW87: ['GO:0002377']\n",
      "A0A087WXM9: []\n",
      "A0A087WZK3: ['GO:0006355']\n",
      "A0A087X0K7: ['GO:0002250', 'GO:0007166']\n",
      "A0A087X0M5: ['GO:0002250', 'GO:0007166']\n",
      "A0A087X1C1: ['GO:0007015', 'GO:0030334', 'GO:0042989']\n",
      "A0A087X1C5: ['GO:0019369']\n",
      "A0A096LNP1: []\n",
      "A0A096LP49: ['GO:0034453']\n",
      "A0A096LPK9: ['GO:0007186', 'GO:0050911']\n",
      "A0A0A0MRZ7: ['GO:0002377']\n",
      "A0A0A0MRZ8: ['GO:0002377']\n",
      "A0A0A0MRZ9: ['GO:0002377']\n",
      "A0A0A0MS00: ['GO:0002377']\n",
      "A0A0A0MS01: ['GO:0002250']\n",
      "A0A0A0MS02: ['GO:0002250']\n",
      "A0A0A0MS03: ['GO:0002250', 'GO:0007166']\n",
      "A0A0A0MS04: ['GO:0002250', 'GO:0007166']\n",
      "A0A0A0MS05: ['GO:0002250', 'GO:0007166']\n",
      "A0A0A0MS06: ['GO:0002250', 'GO:0007166']\n",
      "A0A0A0MT36: ['GO:0002377']\n",
      "A0A0A0MT70: ['GO:0002250']\n",
      "A0A0A0MT76: ['GO:0002250']\n",
      "A0A0A0MT78: ['GO:0002250']\n",
      "A0A0A0MT87: ['GO:0002250']\n",
      "A0A0A0MT89: ['GO:0002250']\n",
      "A0A0A0MT94: ['GO:0002250']\n",
      "A0A0A0MTA4: ['GO:0002250']\n",
      "A0A0A0MTA7: ['GO:0002250']\n",
      "A0A0A6YYC5: ['GO:0002377']\n",
      "A0A0A6YYD4: ['GO:0002250', 'GO:0007166']\n",
      "A0A0A6YYG2: ['GO:0002250', 'GO:0007166']\n",
      "A0A0A6YYG3: ['GO:0002250', 'GO:0007166']\n",
      "A0A0A6YYJ7: ['GO:0002250']\n",
      "A0A0A6YYK1: ['GO:0002250']\n",
      "A0A0A6YYK4: ['GO:0002250', 'GO:0007166']\n",
      "A0A0A6YYK6: ['GO:0002250']\n",
      "A0A0A6YYK7: ['GO:0002377']\n",
      "A0A0B4J1T7: ['GO:0095500', 'GO:0007178', 'GO:0002029']\n",
      "A0A0B4J1U3: ['GO:0002377']\n",
      "A0A0B4J1U4: ['GO:0002250', 'GO:0045087']\n",
      "A0A0B4J1U6: ['GO:0002250', 'GO:0007166']\n",
      "A0A0B4J1Y8: ['GO:0002377']\n",
      "A0A0B4J1Z2: ['GO:0002377']\n",
      "A0A0B4J200: ['GO:0002250']\n",
      "A0A0B4J234: ['GO:0002377']\n"
     ]
    }
   ],
   "source": [
    "for gene_id, go_ids in list(reduced_dictionary.items())[:100]:\n",
    "    print(f\"{gene_id}: {go_ids}\")"
   ]
  },
  {
   "cell_type": "code",
   "execution_count": null,
   "id": "edde8a2e",
   "metadata": {},
   "outputs": [],
   "source": []
  }
 ],
 "metadata": {
  "kernelspec": {
   "display_name": "Python 3 (ipykernel)",
   "language": "python",
   "name": "python3"
  },
  "language_info": {
   "codemirror_mode": {
    "name": "ipython",
    "version": 3
   },
   "file_extension": ".py",
   "mimetype": "text/x-python",
   "name": "python",
   "nbconvert_exporter": "python",
   "pygments_lexer": "ipython3",
   "version": "3.9.15"
  }
 },
 "nbformat": 4,
 "nbformat_minor": 5
}
