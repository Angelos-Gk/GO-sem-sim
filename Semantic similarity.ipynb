{
 "cells": [
  {
   "cell_type": "markdown",
   "id": "42912398",
   "metadata": {
    "slideshow": {
     "slide_type": "slide"
    }
   },
   "source": [
    "### Introduction"
   ]
  },
  {
   "cell_type": "code",
   "execution_count": 14,
   "id": "ef48c447",
   "metadata": {
    "ExecuteTime": {
     "end_time": "2023-08-11T12:35:55.379843Z",
     "start_time": "2023-08-11T12:35:55.363844Z"
    },
    "slideshow": {
     "slide_type": "fragment"
    }
   },
   "outputs": [],
   "source": [
    "# Aim: to produce the resources to facilitate research on gene pleiotropy"
   ]
  },
  {
   "cell_type": "code",
   "execution_count": 15,
   "id": "336ca05f",
   "metadata": {
    "ExecuteTime": {
     "end_time": "2023-08-11T12:35:55.395848Z",
     "start_time": "2023-08-11T12:35:55.380842Z"
    },
    "slideshow": {
     "slide_type": "fragment"
    }
   },
   "outputs": [],
   "source": [
    "# Deliverable #1: Produce lists of Gene Ontologies and their corrected semantic similarity measures\n",
    "\n",
    "# step #1: download the latest gene ontology annotations from here (make note of the date of download):\n",
    "# http://current.geneontology.org/products/pages/downloads.html\n",
    "# when multiple options exist (for example in human), there apply the following rules:\n",
    "# (a) no isoform,\n",
    "# (b) yes protein,\n",
    "# (c) the most abundant annotations\n",
    "# I suggest to study 6-7 model species, namely: humans, mouse, zebrafish, chicken, C. elegans, \n",
    "# D. melanogaster, other? "
   ]
  },
  {
   "cell_type": "markdown",
   "id": "29c8d4d8",
   "metadata": {
    "slideshow": {
     "slide_type": "slide"
    }
   },
   "source": [
    "### Import the data"
   ]
  },
  {
   "cell_type": "code",
   "execution_count": 16,
   "id": "3a587bd9",
   "metadata": {
    "ExecuteTime": {
     "end_time": "2023-08-11T12:35:56.567600Z",
     "start_time": "2023-08-11T12:35:55.397354Z"
    },
    "slideshow": {
     "slide_type": "fragment"
    }
   },
   "outputs": [],
   "source": [
    "import pandas as pd\n",
    "\n",
    "# info on column_labels at: http://geneontology.org/docs/go-annotation-file-gaf-format-2.0/\n",
    "column_labels = ['DB', 'DB Object ID', 'DB Object Symbol',\n",
    "                 'Qualifier', 'GO ID', 'DB:Reference (|DB:Reference)',\n",
    "                 'Evidence Code', 'With (or) From', 'Aspect', 'DB Object Name',\n",
    "                 'DB Object Synonym (|Synonym)', 'DB Object Type', 'Taxon(|taxon)',\n",
    "                 'Date', 'Assigned By', 'Annotation Extension', 'Gene Product Form ID']\n",
    "\n",
    "df = pd.read_csv('goa_human.gaf', comment='!', \n",
    "                 sep=\"\\t\", header=None, low_memory=False, names=column_labels)"
   ]
  },
  {
   "cell_type": "code",
   "execution_count": 17,
   "id": "cee7c817",
   "metadata": {
    "ExecuteTime": {
     "end_time": "2023-08-11T12:35:56.599630Z",
     "start_time": "2023-08-11T12:35:56.569599Z"
    },
    "scrolled": true,
    "slideshow": {
     "slide_type": "slide"
    }
   },
   "outputs": [
    {
     "data": {
      "text/html": [
       "<div>\n",
       "<style scoped>\n",
       "    .dataframe tbody tr th:only-of-type {\n",
       "        vertical-align: middle;\n",
       "    }\n",
       "\n",
       "    .dataframe tbody tr th {\n",
       "        vertical-align: top;\n",
       "    }\n",
       "\n",
       "    .dataframe thead th {\n",
       "        text-align: right;\n",
       "    }\n",
       "</style>\n",
       "<table border=\"1\" class=\"dataframe\">\n",
       "  <thead>\n",
       "    <tr style=\"text-align: right;\">\n",
       "      <th></th>\n",
       "      <th>DB</th>\n",
       "      <th>DB Object ID</th>\n",
       "      <th>DB Object Symbol</th>\n",
       "      <th>Qualifier</th>\n",
       "      <th>GO ID</th>\n",
       "      <th>DB:Reference (|DB:Reference)</th>\n",
       "      <th>Evidence Code</th>\n",
       "      <th>With (or) From</th>\n",
       "      <th>Aspect</th>\n",
       "      <th>DB Object Name</th>\n",
       "      <th>DB Object Synonym (|Synonym)</th>\n",
       "      <th>DB Object Type</th>\n",
       "      <th>Taxon(|taxon)</th>\n",
       "      <th>Date</th>\n",
       "      <th>Assigned By</th>\n",
       "      <th>Annotation Extension</th>\n",
       "      <th>Gene Product Form ID</th>\n",
       "    </tr>\n",
       "  </thead>\n",
       "  <tbody>\n",
       "    <tr>\n",
       "      <th>0</th>\n",
       "      <td>UniProtKB</td>\n",
       "      <td>A0A024RBG1</td>\n",
       "      <td>NUDT4B</td>\n",
       "      <td>enables</td>\n",
       "      <td>GO:0003723</td>\n",
       "      <td>GO_REF:0000043</td>\n",
       "      <td>IEA</td>\n",
       "      <td>UniProtKB-KW:KW-0694</td>\n",
       "      <td>F</td>\n",
       "      <td>Diphosphoinositol polyphosphate phosphohydrola...</td>\n",
       "      <td>NUDT4B</td>\n",
       "      <td>protein</td>\n",
       "      <td>taxon:9606</td>\n",
       "      <td>20230507</td>\n",
       "      <td>UniProt</td>\n",
       "      <td>NaN</td>\n",
       "      <td>NaN</td>\n",
       "    </tr>\n",
       "    <tr>\n",
       "      <th>1</th>\n",
       "      <td>UniProtKB</td>\n",
       "      <td>A0A024RBG1</td>\n",
       "      <td>NUDT4B</td>\n",
       "      <td>enables</td>\n",
       "      <td>GO:0046872</td>\n",
       "      <td>GO_REF:0000043</td>\n",
       "      <td>IEA</td>\n",
       "      <td>UniProtKB-KW:KW-0479</td>\n",
       "      <td>F</td>\n",
       "      <td>Diphosphoinositol polyphosphate phosphohydrola...</td>\n",
       "      <td>NUDT4B</td>\n",
       "      <td>protein</td>\n",
       "      <td>taxon:9606</td>\n",
       "      <td>20230507</td>\n",
       "      <td>UniProt</td>\n",
       "      <td>NaN</td>\n",
       "      <td>NaN</td>\n",
       "    </tr>\n",
       "    <tr>\n",
       "      <th>2</th>\n",
       "      <td>UniProtKB</td>\n",
       "      <td>A0A024RBG1</td>\n",
       "      <td>NUDT4B</td>\n",
       "      <td>located_in</td>\n",
       "      <td>GO:0005829</td>\n",
       "      <td>GO_REF:0000052</td>\n",
       "      <td>IDA</td>\n",
       "      <td>NaN</td>\n",
       "      <td>C</td>\n",
       "      <td>Diphosphoinositol polyphosphate phosphohydrola...</td>\n",
       "      <td>NUDT4B</td>\n",
       "      <td>protein</td>\n",
       "      <td>taxon:9606</td>\n",
       "      <td>20161204</td>\n",
       "      <td>HPA</td>\n",
       "      <td>NaN</td>\n",
       "      <td>NaN</td>\n",
       "    </tr>\n",
       "    <tr>\n",
       "      <th>3</th>\n",
       "      <td>UniProtKB</td>\n",
       "      <td>A0A075B6H7</td>\n",
       "      <td>IGKV3-7</td>\n",
       "      <td>involved_in</td>\n",
       "      <td>GO:0002250</td>\n",
       "      <td>GO_REF:0000043</td>\n",
       "      <td>IEA</td>\n",
       "      <td>UniProtKB-KW:KW-1064</td>\n",
       "      <td>P</td>\n",
       "      <td>Probable non-functional immunoglobulin kappa v...</td>\n",
       "      <td>IGKV3-7</td>\n",
       "      <td>protein</td>\n",
       "      <td>taxon:9606</td>\n",
       "      <td>20230507</td>\n",
       "      <td>UniProt</td>\n",
       "      <td>NaN</td>\n",
       "      <td>NaN</td>\n",
       "    </tr>\n",
       "    <tr>\n",
       "      <th>4</th>\n",
       "      <td>UniProtKB</td>\n",
       "      <td>A0A075B6H7</td>\n",
       "      <td>IGKV3-7</td>\n",
       "      <td>located_in</td>\n",
       "      <td>GO:0005886</td>\n",
       "      <td>GO_REF:0000044</td>\n",
       "      <td>IEA</td>\n",
       "      <td>UniProtKB-SubCell:SL-0039</td>\n",
       "      <td>C</td>\n",
       "      <td>Probable non-functional immunoglobulin kappa v...</td>\n",
       "      <td>IGKV3-7</td>\n",
       "      <td>protein</td>\n",
       "      <td>taxon:9606</td>\n",
       "      <td>20230507</td>\n",
       "      <td>UniProt</td>\n",
       "      <td>NaN</td>\n",
       "      <td>NaN</td>\n",
       "    </tr>\n",
       "  </tbody>\n",
       "</table>\n",
       "</div>"
      ],
      "text/plain": [
       "          DB DB Object ID DB Object Symbol    Qualifier       GO ID  \\\n",
       "0  UniProtKB   A0A024RBG1           NUDT4B      enables  GO:0003723   \n",
       "1  UniProtKB   A0A024RBG1           NUDT4B      enables  GO:0046872   \n",
       "2  UniProtKB   A0A024RBG1           NUDT4B   located_in  GO:0005829   \n",
       "3  UniProtKB   A0A075B6H7          IGKV3-7  involved_in  GO:0002250   \n",
       "4  UniProtKB   A0A075B6H7          IGKV3-7   located_in  GO:0005886   \n",
       "\n",
       "  DB:Reference (|DB:Reference) Evidence Code             With (or) From  \\\n",
       "0               GO_REF:0000043           IEA       UniProtKB-KW:KW-0694   \n",
       "1               GO_REF:0000043           IEA       UniProtKB-KW:KW-0479   \n",
       "2               GO_REF:0000052           IDA                        NaN   \n",
       "3               GO_REF:0000043           IEA       UniProtKB-KW:KW-1064   \n",
       "4               GO_REF:0000044           IEA  UniProtKB-SubCell:SL-0039   \n",
       "\n",
       "  Aspect                                     DB Object Name  \\\n",
       "0      F  Diphosphoinositol polyphosphate phosphohydrola...   \n",
       "1      F  Diphosphoinositol polyphosphate phosphohydrola...   \n",
       "2      C  Diphosphoinositol polyphosphate phosphohydrola...   \n",
       "3      P  Probable non-functional immunoglobulin kappa v...   \n",
       "4      C  Probable non-functional immunoglobulin kappa v...   \n",
       "\n",
       "  DB Object Synonym (|Synonym) DB Object Type Taxon(|taxon)      Date  \\\n",
       "0                       NUDT4B        protein    taxon:9606  20230507   \n",
       "1                       NUDT4B        protein    taxon:9606  20230507   \n",
       "2                       NUDT4B        protein    taxon:9606  20161204   \n",
       "3                      IGKV3-7        protein    taxon:9606  20230507   \n",
       "4                      IGKV3-7        protein    taxon:9606  20230507   \n",
       "\n",
       "  Assigned By Annotation Extension  Gene Product Form ID  \n",
       "0     UniProt                  NaN                   NaN  \n",
       "1     UniProt                  NaN                   NaN  \n",
       "2         HPA                  NaN                   NaN  \n",
       "3     UniProt                  NaN                   NaN  \n",
       "4     UniProt                  NaN                   NaN  "
      ]
     },
     "execution_count": 17,
     "metadata": {},
     "output_type": "execute_result"
    }
   ],
   "source": [
    "df.head(5)"
   ]
  },
  {
   "cell_type": "code",
   "execution_count": 18,
   "id": "ff15486c",
   "metadata": {
    "ExecuteTime": {
     "end_time": "2023-08-11T12:35:56.615629Z",
     "start_time": "2023-08-11T12:35:56.600632Z"
    },
    "slideshow": {
     "slide_type": "fragment"
    }
   },
   "outputs": [
    {
     "data": {
      "text/plain": [
       "(632318, 17)"
      ]
     },
     "execution_count": 18,
     "metadata": {},
     "output_type": "execute_result"
    }
   ],
   "source": [
    "df.shape"
   ]
  },
  {
   "cell_type": "markdown",
   "id": "1520f3f7",
   "metadata": {
    "slideshow": {
     "slide_type": "slide"
    }
   },
   "source": [
    "### Filtering"
   ]
  },
  {
   "cell_type": "code",
   "execution_count": 19,
   "id": "fc8b7237",
   "metadata": {
    "ExecuteTime": {
     "end_time": "2023-08-11T12:35:56.914329Z",
     "start_time": "2023-08-11T12:35:56.616630Z"
    },
    "slideshow": {
     "slide_type": "fragment"
    }
   },
   "outputs": [],
   "source": [
    "# for each gene (column: DB Object ID), retrieve the gene ontology annotations, as follows:\n",
    "# (a) separately for P (biological process), F (molecular function) or C (cellular component)\n",
    "# (column: Aspect),\n",
    "# (b) end lists should not have duplicates, (forgot about that one)\n",
    "# (c) do not incluce \"NOT\" qualifiers\n",
    "\n",
    "# Filter for rows with qualifiers not containing \"NOT\"\n",
    "df_filtered = df[~df[\"Qualifier\"].str.contains(\"NOT\")]\n"
   ]
  },
  {
   "cell_type": "code",
   "execution_count": 20,
   "id": "2e89acdb",
   "metadata": {
    "ExecuteTime": {
     "end_time": "2023-08-11T12:35:56.930311Z",
     "start_time": "2023-08-11T12:35:56.915328Z"
    },
    "slideshow": {
     "slide_type": "fragment"
    }
   },
   "outputs": [
    {
     "data": {
      "text/plain": [
       "(631035, 17)"
      ]
     },
     "execution_count": 20,
     "metadata": {},
     "output_type": "execute_result"
    }
   ],
   "source": [
    "df_filtered.shape"
   ]
  },
  {
   "cell_type": "markdown",
   "id": "7da47c12",
   "metadata": {
    "slideshow": {
     "slide_type": "slide"
    }
   },
   "source": [
    "### Create the dictionaries and populate them"
   ]
  },
  {
   "cell_type": "code",
   "execution_count": 21,
   "id": "c820b121",
   "metadata": {
    "ExecuteTime": {
     "end_time": "2023-08-11T12:35:56.945315Z",
     "start_time": "2023-08-11T12:35:56.931312Z"
    },
    "slideshow": {
     "slide_type": "fragment"
    }
   },
   "outputs": [],
   "source": [
    "# Create dictionaries for each aspect (P, F, and C)\n",
    "aspect_P = {}\n",
    "aspect_F = {}\n",
    "aspect_C = {}"
   ]
  },
  {
   "cell_type": "code",
   "execution_count": 22,
   "id": "5a9f4129",
   "metadata": {
    "ExecuteTime": {
     "end_time": "2023-08-11T12:36:14.159389Z",
     "start_time": "2023-08-11T12:35:56.946315Z"
    },
    "slideshow": {
     "slide_type": "fragment"
    }
   },
   "outputs": [],
   "source": [
    "# Iterate through the filtered DataFrame and populate the dictionaries\n",
    "for index, row in df_filtered.iterrows():\n",
    "    aspect = row[\"Aspect\"]\n",
    "    gene_id = row[\"DB Object ID\"]\n",
    "    go_id = row[\"GO ID\"]\n",
    "\n",
    "    if aspect == \"P\":\n",
    "        aspect_P.setdefault(gene_id, []).append(go_id)\n",
    "    elif aspect == \"F\":\n",
    "        aspect_F.setdefault(gene_id, []).append(go_id)\n",
    "    elif aspect == \"C\":\n",
    "        aspect_C.setdefault(gene_id, []).append(go_id) "
   ]
  },
  {
   "cell_type": "code",
   "execution_count": 23,
   "id": "09c7a8e2",
   "metadata": {
    "ExecuteTime": {
     "end_time": "2023-08-11T12:36:14.175390Z",
     "start_time": "2023-08-11T12:36:14.162393Z"
    },
    "scrolled": true,
    "slideshow": {
     "slide_type": "slide"
    }
   },
   "outputs": [
    {
     "data": {
      "text/plain": [
       "['GO:0007060',\n",
       " 'GO:0010789',\n",
       " 'GO:0016321',\n",
       " 'GO:0045143',\n",
       " 'GO:0051754',\n",
       " 'GO:0010789',\n",
       " 'GO:0007060',\n",
       " 'GO:0045143',\n",
       " 'GO:0051754',\n",
       " 'GO:0016321']"
      ]
     },
     "execution_count": 23,
     "metadata": {},
     "output_type": "execute_result"
    }
   ],
   "source": [
    "# remove duplicates\n",
    "# in the case of key A0A087WXM9, we see that there are duplicates in the list of values\n",
    "aspect_P['A0A087WXM9']"
   ]
  },
  {
   "cell_type": "code",
   "execution_count": 24,
   "id": "2fb89e61",
   "metadata": {
    "ExecuteTime": {
     "end_time": "2023-08-11T12:36:14.205393Z",
     "start_time": "2023-08-11T12:36:14.176391Z"
    },
    "slideshow": {
     "slide_type": "slide"
    }
   },
   "outputs": [
    {
     "data": {
      "text/plain": [
       "['GO:0007060', 'GO:0010789', 'GO:0016321', 'GO:0045143', 'GO:0051754']"
      ]
     },
     "execution_count": 24,
     "metadata": {},
     "output_type": "execute_result"
    }
   ],
   "source": [
    "# lets delete the duplicates\n",
    "def remove_duplicates_from_list(aspect_P):\n",
    "    cleaned_data = {}\n",
    "\n",
    "    for key, value in aspect_P.items():\n",
    "        if isinstance(value, list):\n",
    "            cleaned_data[key] = list(dict.fromkeys(value))\n",
    "        else:\n",
    "            cleaned_data[key] = value\n",
    "\n",
    "    return cleaned_data\n",
    "\n",
    "# Remove duplicates from the dataset\n",
    "cleaned_data = remove_duplicates_from_list(aspect_P)\n",
    "\n",
    "# Print the list of values of key A0A087WXM9 to see results (it works)\n",
    "cleaned_data['A0A087WXM9']"
   ]
  },
  {
   "cell_type": "markdown",
   "id": "42aac0fe",
   "metadata": {
    "slideshow": {
     "slide_type": "slide"
    }
   },
   "source": [
    "### Useful stuff about the dictionaries"
   ]
  },
  {
   "cell_type": "code",
   "execution_count": 25,
   "id": "f066965e",
   "metadata": {
    "ExecuteTime": {
     "end_time": "2023-08-11T12:36:14.220906Z",
     "start_time": "2023-08-11T12:36:14.206394Z"
    },
    "scrolled": true,
    "slideshow": {
     "slide_type": "fragment"
    }
   },
   "outputs": [
    {
     "name": "stdout",
     "output_type": "stream",
     "text": [
      "The size of dictionary aspect_P is: 17818\n"
     ]
    }
   ],
   "source": [
    "# Get the size of each dict (genes in each dict)\n",
    "print(f\"The size of dictionary aspect_P is: {len(cleaned_data)}\")"
   ]
  },
  {
   "cell_type": "code",
   "execution_count": 26,
   "id": "b0f5f68a",
   "metadata": {
    "ExecuteTime": {
     "end_time": "2023-08-11T12:36:14.236908Z",
     "start_time": "2023-08-11T12:36:14.221905Z"
    },
    "slideshow": {
     "slide_type": "fragment"
    }
   },
   "outputs": [
    {
     "name": "stdout",
     "output_type": "stream",
     "text": [
      "The size of dictionary aspect_F is: 18188\n"
     ]
    }
   ],
   "source": [
    "print(f\"The size of dictionary aspect_F is: {len(aspect_F)}\")"
   ]
  },
  {
   "cell_type": "code",
   "execution_count": 27,
   "id": "08c5844f",
   "metadata": {
    "ExecuteTime": {
     "end_time": "2023-08-11T12:36:14.252908Z",
     "start_time": "2023-08-11T12:36:14.238906Z"
    },
    "slideshow": {
     "slide_type": "fragment"
    }
   },
   "outputs": [
    {
     "name": "stdout",
     "output_type": "stream",
     "text": [
      "The size of dictionary aspect_C is: 18890\n"
     ]
    }
   ],
   "source": [
    "print(f\"The size of dictionary aspect_C is: {len(aspect_C)}\")"
   ]
  },
  {
   "cell_type": "code",
   "execution_count": 28,
   "id": "c04ee4bb",
   "metadata": {
    "ExecuteTime": {
     "end_time": "2023-08-11T12:36:14.268920Z",
     "start_time": "2023-08-11T12:36:14.253906Z"
    },
    "slideshow": {
     "slide_type": "slide"
    }
   },
   "outputs": [
    {
     "name": "stdout",
     "output_type": "stream",
     "text": [
      "A0A075B6H7: ['GO:0002250', 'GO:0006955', 'GO:0002377']\n",
      "A0A075B6H8: ['GO:0002250', 'GO:0002377', 'GO:0006955']\n",
      "A0A075B6H9: ['GO:0002250', 'GO:0002377', 'GO:0006955']\n",
      "A0A075B6I0: ['GO:0002250', 'GO:0002377', 'GO:0006955']\n",
      "A0A075B6I1: ['GO:0002250', 'GO:0006955', 'GO:0002377']\n",
      "A0A075B6I3: ['GO:0002250', 'GO:0002377', 'GO:0006955']\n",
      "A0A075B6I4: ['GO:0002250', 'GO:0006955', 'GO:0002377']\n",
      "A0A075B6I6: ['GO:0002250', 'GO:0006955', 'GO:0002377']\n",
      "A0A075B6I7: ['GO:0002250', 'GO:0006955', 'GO:0002377']\n",
      "A0A075B6I9: ['GO:0002250', 'GO:0006955', 'GO:0002377']\n"
     ]
    }
   ],
   "source": [
    "# Print the first three key-value pairs of the P dictionary as an example\n",
    "for gene_id, go_ids in list(cleaned_data.items())[:10]:\n",
    "    print(f\"{gene_id}: {go_ids}\")"
   ]
  },
  {
   "cell_type": "code",
   "execution_count": 29,
   "id": "5231395c",
   "metadata": {
    "ExecuteTime": {
     "end_time": "2023-08-11T12:36:14.284907Z",
     "start_time": "2023-08-11T12:36:14.269906Z"
    },
    "slideshow": {
     "slide_type": "slide"
    }
   },
   "outputs": [
    {
     "name": "stdout",
     "output_type": "stream",
     "text": [
      "Key 'A0A024RBG1' exists in the dictionary.\n"
     ]
    }
   ],
   "source": [
    "# search if a key (a gene) exists in the P dictionary\n",
    "if \"A0A024RBG1\" in cleaned_data:\n",
    "    print(\"Key 'A0A024RBG1' exists in the dictionary.\")\n",
    "else:\n",
    "    print(\"Key 'A0A024RBG1' does not exist in the dictionary.\")"
   ]
  },
  {
   "cell_type": "code",
   "execution_count": 30,
   "id": "b8613fe5",
   "metadata": {
    "ExecuteTime": {
     "end_time": "2023-08-11T12:36:14.300911Z",
     "start_time": "2023-08-11T12:36:14.286907Z"
    },
    "slideshow": {
     "slide_type": "fragment"
    }
   },
   "outputs": [
    {
     "data": {
      "text/plain": [
       "['GO:1901907', 'GO:1901909', 'GO:0071543', 'GO:1901911']"
      ]
     },
     "execution_count": 30,
     "metadata": {},
     "output_type": "execute_result"
    }
   ],
   "source": [
    "# get the value of a specific key (the GO terms associated with a gene)\n",
    "cleaned_data[\"A0A024RBG1\"] "
   ]
  },
  {
   "cell_type": "code",
   "execution_count": 31,
   "id": "50322125",
   "metadata": {
    "ExecuteTime": {
     "end_time": "2023-08-11T12:36:14.316423Z",
     "start_time": "2023-08-11T12:36:14.301912Z"
    },
    "slideshow": {
     "slide_type": "fragment"
    }
   },
   "outputs": [
    {
     "name": "stdout",
     "output_type": "stream",
     "text": [
      "A0A024RBG1: ['GO:1901907', 'GO:1901909', 'GO:0071543', 'GO:1901911']\n",
      "A0A075B6H5: ['GO:0007166']\n",
      "A0A075B6H7: ['GO:0002250', 'GO:0006955', 'GO:0002377']\n"
     ]
    }
   ],
   "source": [
    "# sort the aspect_P dictionary based on keys (alphabetically)\n",
    "sorted_Pdict = dict(sorted(cleaned_data.items(), key=lambda item: item[0]))\n",
    "\n",
    "# print the first 3 rows of the sorted Pdict\n",
    "for gene_id, go_ids in list(sorted_Pdict.items())[:3]:\n",
    "    print(f\"{gene_id}: {go_ids}\")"
   ]
  },
  {
   "cell_type": "markdown",
   "id": "99b8f30a",
   "metadata": {
    "slideshow": {
     "slide_type": "slide"
    }
   },
   "source": [
    "### Semantic similarity correction"
   ]
  },
  {
   "cell_type": "code",
   "execution_count": 32,
   "id": "c68a50a6",
   "metadata": {
    "ExecuteTime": {
     "end_time": "2023-08-11T12:36:14.332423Z",
     "start_time": "2023-08-11T12:36:14.318424Z"
    },
    "slideshow": {
     "slide_type": "fragment"
    }
   },
   "outputs": [],
   "source": [
    "# now we will focus only on the \"P\" dictionary (biological process) and we will try to correct \n",
    "# by a semantic similarity measure the list of Gene Ontologies associated with each gene\n",
    "# !!!! I suppose we want to set a semantic similarity threshold, where:\n",
    "# !!!! if two terms are way too similar \n",
    "# !!!! (over the threshold, with 1 being identical and 0 being not similar)\n",
    "# !!!! we keep only one of the two terms \n",
    "# !!!! (which one do we keep though? the more general (lower level) or the more specific (higher level))\n",
    "# !!!! revigo example\n",
    "\n",
    "# To correct the list of GO IDs associated with each gene ID using a semantic similarity measure, \n",
    "# we can use various approaches based on the Gene Ontology structure, such as Resnik, Lin, \n",
    "# or Jiang-Conrath measures, among others.\n",
    "# Here we perform a basic example using the goatools library to calculate semantic \n",
    "# similarity with the Resnik measure and correct the list of GO IDs associated with each gene ID."
   ]
  },
  {
   "cell_type": "code",
   "execution_count": 33,
   "id": "29ba9fd1",
   "metadata": {
    "ExecuteTime": {
     "end_time": "2023-08-11T12:36:14.348424Z",
     "start_time": "2023-08-11T12:36:14.334425Z"
    },
    "slideshow": {
     "slide_type": "fragment"
    }
   },
   "outputs": [
    {
     "data": {
      "text/plain": [
       "'1.3.1'"
      ]
     },
     "execution_count": 33,
     "metadata": {},
     "output_type": "execute_result"
    }
   ],
   "source": [
    "# since we have already goatools installed, we just check the goatools version\n",
    "from importlib.metadata import version\n",
    "version('goatools')\n"
   ]
  },
  {
   "cell_type": "code",
   "execution_count": 34,
   "id": "3ec35135",
   "metadata": {
    "ExecuteTime": {
     "end_time": "2023-08-11T12:36:15.571592Z",
     "start_time": "2023-08-11T12:36:14.349424Z"
    },
    "slideshow": {
     "slide_type": "slide"
    }
   },
   "outputs": [
    {
     "name": "stdout",
     "output_type": "stream",
     "text": [
      "go-basic.obo: fmt(1.2) rel(2023-06-11) 46,420 Terms\n"
     ]
    }
   ],
   "source": [
    "# import specific tools\n",
    "from goatools.semantic import semantic_similarity\n",
    "from goatools import obo_parser\n",
    "from goatools.obo_parser import GODag\n",
    "\n",
    "godag = GODag(\"go-basic.obo\")"
   ]
  },
  {
   "cell_type": "code",
   "execution_count": 35,
   "id": "e932e5ea",
   "metadata": {
    "ExecuteTime": {
     "end_time": "2023-08-11T12:38:01.747500Z",
     "start_time": "2023-08-11T12:36:15.573593Z"
    },
    "slideshow": {
     "slide_type": "fragment"
    }
   },
   "outputs": [],
   "source": [
    "# Calculate semantic similarity using Resnik measure and update the lists \n",
    "# (add updated lists to new dict, do not alter the original dict)\n",
    "aspect_P_corrected = {}\n",
    "for gene_id, go_ids in cleaned_data.items():\n",
    "    new_go_ids = []\n",
    "    for go_id in go_ids:\n",
    "        max_sim = 0.0\n",
    "        for other_go_id in go_ids:\n",
    "            if go_id != other_go_id:\n",
    "               sim = semantic_similarity(go_id, other_go_id, godag)\n",
    "               max_sim = max(max_sim, sim)\n",
    "        if max_sim >= 0.5:  # Set the threshold as needed\n",
    "            new_go_ids.append(go_id)\n",
    "    aspect_P_corrected[gene_id] = new_go_ids\n"
   ]
  },
  {
   "cell_type": "code",
   "execution_count": 36,
   "id": "3717d739",
   "metadata": {
    "ExecuteTime": {
     "end_time": "2023-08-11T12:38:01.762520Z",
     "start_time": "2023-08-11T12:38:01.748504Z"
    },
    "slideshow": {
     "slide_type": "slide"
    }
   },
   "outputs": [
    {
     "name": "stdout",
     "output_type": "stream",
     "text": [
      "A0A075B6H7: ['GO:0002250', 'GO:0006955']\n",
      "A0A075B6H8: ['GO:0002250', 'GO:0006955']\n",
      "A0A075B6H9: ['GO:0002250', 'GO:0006955']\n",
      "A0A075B6I0: ['GO:0002250', 'GO:0006955']\n",
      "A0A075B6I1: ['GO:0002250', 'GO:0006955']\n",
      "A0A075B6I3: ['GO:0002250', 'GO:0006955']\n",
      "A0A075B6I4: ['GO:0002250', 'GO:0006955']\n",
      "A0A075B6I6: ['GO:0002250', 'GO:0006955']\n",
      "A0A075B6I7: ['GO:0002250', 'GO:0006955']\n",
      "A0A075B6I9: ['GO:0002250', 'GO:0006955']\n"
     ]
    }
   ],
   "source": [
    "# Print the first three key, value pairs of the corrected \"P\" dictionary as an example\n",
    "for gene_id, go_ids in list(aspect_P_corrected.items())[:10]:\n",
    "    print(f\"{gene_id}: {go_ids}\")"
   ]
  },
  {
   "cell_type": "markdown",
   "id": "e23f94d8",
   "metadata": {
    "slideshow": {
     "slide_type": "slide"
    }
   },
   "source": [
    "### Assessment of our method"
   ]
  },
  {
   "cell_type": "code",
   "execution_count": 37,
   "id": "a81844d0",
   "metadata": {
    "ExecuteTime": {
     "end_time": "2023-08-11T12:38:01.778569Z",
     "start_time": "2023-08-11T12:38:01.764523Z"
    },
    "slideshow": {
     "slide_type": "fragment"
    }
   },
   "outputs": [
    {
     "data": {
      "text/plain": [
       "['GO:1901907', 'GO:1901909']"
      ]
     },
     "execution_count": 37,
     "metadata": {},
     "output_type": "execute_result"
    }
   ],
   "source": [
    "# The gene codenamed A0A024RBG1 previously had 4 GO terms associated with it \n",
    "# ['GO:1901907', 'GO:1901909', 'GO:0071543', 'GO:1901911']\n",
    "# Let's see how many there are now (after semantic similarity correction using Resnik measure)\n",
    "aspect_P_corrected[\"A0A024RBG1\"] "
   ]
  },
  {
   "cell_type": "code",
   "execution_count": 38,
   "id": "a6998508",
   "metadata": {
    "ExecuteTime": {
     "end_time": "2023-08-11T12:38:01.794663Z",
     "start_time": "2023-08-11T12:38:01.780571Z"
    },
    "slideshow": {
     "slide_type": "fragment"
    }
   },
   "outputs": [
    {
     "data": {
      "text/plain": [
       "[]"
      ]
     },
     "execution_count": 38,
     "metadata": {},
     "output_type": "execute_result"
    }
   ],
   "source": [
    "# The gene codenamed A0A075B6H5 previously had only 1 GO term associated with it \n",
    "# ['GO:0007166']\n",
    "# Let's see how many there are now (after semantic similarity correction using Resnik measure)\n",
    "aspect_P_corrected[\"A0A075B6H5\"] "
   ]
  },
  {
   "cell_type": "code",
   "execution_count": 39,
   "id": "88897f25",
   "metadata": {
    "ExecuteTime": {
     "end_time": "2023-08-11T12:38:01.809667Z",
     "start_time": "2023-08-11T12:38:01.795666Z"
    },
    "slideshow": {
     "slide_type": "fragment"
    }
   },
   "outputs": [],
   "source": [
    "# So we notice another fault in our code: \n",
    "# Genes with only one term associated with them get that term deleted \n",
    "# during our similarity calculation (perhaps because there is no other term to compute similarity)"
   ]
  },
  {
   "cell_type": "code",
   "execution_count": 40,
   "id": "2360b607",
   "metadata": {
    "ExecuteTime": {
     "end_time": "2023-08-11T12:38:01.825181Z",
     "start_time": "2023-08-11T12:38:01.810669Z"
    },
    "slideshow": {
     "slide_type": "slide"
    }
   },
   "outputs": [],
   "source": [
    "# There are 4 things that we should investigate\n",
    "# 1) Why did a specific term get deleted and others not?\n",
    "# 2) Why in cases of only 1 term, this term gets deleted?\n",
    "# 3) Why in some cases of multiple terms, all terms get deleted?\n",
    "# 4) What value should the similarity threshold take?\n",
    "# Extra notes\n",
    "# While investigating the first 100 genes (before and after correction)\n",
    "# I notice that two terms 'GO:0002250', 'GO:0006955' always survive the correction \n",
    "# and seem to almost be the only ones to do so\n"
   ]
  },
  {
   "cell_type": "code",
   "execution_count": 41,
   "id": "f82d8881",
   "metadata": {
    "ExecuteTime": {
     "end_time": "2023-08-11T12:38:01.841200Z",
     "start_time": "2023-08-11T12:38:01.828181Z"
    },
    "slideshow": {
     "slide_type": "slide"
    }
   },
   "outputs": [
    {
     "name": "stdout",
     "output_type": "stream",
     "text": [
      "Number of keys with empty values: 9503\n"
     ]
    }
   ],
   "source": [
    "# count genes with empty values after correction\n",
    "\n",
    "# Initialize a counter for empty values\n",
    "empty_values_count = 0\n",
    "\n",
    "# Loop through the values in the dictionary and count the empty lists\n",
    "for value in aspect_P_corrected.values():\n",
    "    if not value:\n",
    "        empty_values_count += 1\n",
    "\n",
    "print(\"Number of keys with empty values:\", empty_values_count)"
   ]
  },
  {
   "cell_type": "code",
   "execution_count": 42,
   "id": "1f771463",
   "metadata": {
    "ExecuteTime": {
     "end_time": "2023-08-11T12:38:01.857276Z",
     "start_time": "2023-08-11T12:38:01.842204Z"
    },
    "slideshow": {
     "slide_type": "fragment"
    }
   },
   "outputs": [
    {
     "data": {
      "text/plain": [
       "17818"
      ]
     },
     "execution_count": 42,
     "metadata": {},
     "output_type": "execute_result"
    }
   ],
   "source": [
    "len(aspect_P_corrected)"
   ]
  },
  {
   "cell_type": "code",
   "execution_count": 43,
   "id": "1d91fd07",
   "metadata": {
    "ExecuteTime": {
     "end_time": "2023-08-11T12:38:01.873310Z",
     "start_time": "2023-08-11T12:38:01.858277Z"
    },
    "slideshow": {
     "slide_type": "fragment"
    }
   },
   "outputs": [],
   "source": [
    "# We see that most of the keys (genes) got all their values (GO terms) deleted after our \"correction\"."
   ]
  },
  {
   "cell_type": "code",
   "execution_count": 44,
   "id": "644ac0b3",
   "metadata": {
    "ExecuteTime": {
     "end_time": "2023-08-11T12:38:01.889333Z",
     "start_time": "2023-08-11T12:38:01.874311Z"
    },
    "slideshow": {
     "slide_type": "slide"
    }
   },
   "outputs": [
    {
     "name": "stdout",
     "output_type": "stream",
     "text": [
      "Number of keys with only one GO term: 2579\n"
     ]
    }
   ],
   "source": [
    "# Now let's check how many genes in the original dataset had only 1 go term associated with them\n",
    "\n",
    "# Initialize a counter for keys with one GO term in their value list\n",
    "keys_with_one_go_term_count = 0\n",
    "\n",
    "# Loop through the values in the dictionary and count the keys with only one GO term\n",
    "for value in cleaned_data.values():\n",
    "    if len(value) == 1:\n",
    "        keys_with_one_go_term_count += 1\n",
    "\n",
    "print(\"Number of keys with only one GO term:\", keys_with_one_go_term_count)"
   ]
  },
  {
   "cell_type": "code",
   "execution_count": 45,
   "id": "ccaae746",
   "metadata": {
    "ExecuteTime": {
     "end_time": "2023-08-11T12:38:01.905381Z",
     "start_time": "2023-08-11T12:38:01.890334Z"
    },
    "slideshow": {
     "slide_type": "slide"
    }
   },
   "outputs": [
    {
     "name": "stdout",
     "output_type": "stream",
     "text": [
      "Number of different GO terms: 12389\n"
     ]
    }
   ],
   "source": [
    "# Count how many different GO terms exist in the original dictionary\n",
    "\n",
    "# Create a set to store unique GO terms\n",
    "unique_go_terms = set()\n",
    "\n",
    "# Loop through the values in the dictionary and add GO terms to the set\n",
    "for value in cleaned_data.values():\n",
    "    unique_go_terms.update(value)\n",
    "\n",
    "# Get the count of different GO terms\n",
    "num_unique_go_terms = len(unique_go_terms)\n",
    "\n",
    "print(\"Number of different GO terms:\", num_unique_go_terms)"
   ]
  },
  {
   "cell_type": "code",
   "execution_count": 46,
   "id": "90406616",
   "metadata": {
    "ExecuteTime": {
     "end_time": "2023-08-11T12:38:01.921410Z",
     "start_time": "2023-08-11T12:38:01.906382Z"
    },
    "slideshow": {
     "slide_type": "slide"
    }
   },
   "outputs": [
    {
     "name": "stdout",
     "output_type": "stream",
     "text": [
      "Number of different GO terms: 7240\n"
     ]
    }
   ],
   "source": [
    "# Count how many different GO terms exist in the corrected dictionary\n",
    "\n",
    "# Create a set to store unique GO terms\n",
    "unique_go_terms = set()\n",
    "\n",
    "# Loop through the values in the dictionary and add GO terms to the set\n",
    "for value in aspect_P_corrected.values():\n",
    "    unique_go_terms.update(value)\n",
    "\n",
    "# Get the count of different GO terms\n",
    "num_unique_go_terms = len(unique_go_terms)\n",
    "\n",
    "print(\"Number of different GO terms:\", num_unique_go_terms)"
   ]
  },
  {
   "cell_type": "markdown",
   "id": "bf369566",
   "metadata": {
    "slideshow": {
     "slide_type": "slide"
    }
   },
   "source": [
    "### Other methods"
   ]
  },
  {
   "cell_type": "code",
   "execution_count": 47,
   "id": "b23f3c98",
   "metadata": {
    "ExecuteTime": {
     "end_time": "2023-08-11T12:38:30.591447Z",
     "start_time": "2023-08-11T12:38:01.922410Z"
    },
    "slideshow": {
     "slide_type": "fragment"
    }
   },
   "outputs": [
    {
     "name": "stdout",
     "output_type": "stream",
     "text": [
      "go-basic.obo: fmt(1.2) rel(2023-06-11) 46,420 Terms\n"
     ]
    }
   ],
   "source": [
    "# NEW METHOD (method_1)\n",
    "import random  # Import the random module\n",
    "\n",
    "def get_most_general(go_terms, godag):\n",
    "    most_general_term = None\n",
    "    max_similarity = 0.5  # Semantic similarity threshold\n",
    "    for term1 in go_terms:\n",
    "        for term2 in go_terms:\n",
    "            if term1 != term2:\n",
    "                similarity = semantic_similarity(term1, term2, godag)\n",
    "                if similarity > max_similarity:\n",
    "                    if godag[term1].level == godag[term2].level: # If terms are on the same level\n",
    "                        most_general_term = random.choice([term1, term2]) # Randomly select one of the two terms\n",
    "                    else:\n",
    "                        most_general_term = term1 if godag[term1].level < godag[term2].level else term2\n",
    "                    break\n",
    "        if most_general_term is not None:\n",
    "            break\n",
    "    return most_general_term\n",
    "\n",
    "# Load the GO DAG\n",
    "obo_file = \"go-basic.obo\"  \n",
    "go_dag = obo_parser.GODag(obo_file)\n",
    "\n",
    "# Create a new dictionary with the reduced GO terms\n",
    "method_1 = {}\n",
    "for key, go_terms in cleaned_data.items(): #2\n",
    "    if len(go_terms) == 1:\n",
    "        method_1[key] = go_terms[0] #if there is only 1 go term, keep it (avoid empty values)\n",
    "    else:\n",
    "        most_general_term = get_most_general(go_terms, go_dag)\n",
    "        if most_general_term is not None:\n",
    "            method_1[key] = most_general_term\n",
    "        else:\n",
    "            # If no term is more general (similarity threshold not met), keep all terms\n",
    "            method_1[key] = go_terms\n",
    "\n",
    "#2 i think this code keeps only the most general terms (terms on the highest lvl)"
   ]
  },
  {
   "cell_type": "code",
   "execution_count": 48,
   "id": "66d17415",
   "metadata": {
    "ExecuteTime": {
     "end_time": "2023-08-11T12:38:30.637454Z",
     "start_time": "2023-08-11T12:38:30.592447Z"
    },
    "slideshow": {
     "slide_type": "slide"
    }
   },
   "outputs": [
    {
     "name": "stdout",
     "output_type": "stream",
     "text": [
      "A0A075B6H7: GO:0006955\n",
      "A0A075B6H8: GO:0006955\n",
      "A0A075B6H9: GO:0006955\n",
      "A0A075B6I0: GO:0006955\n",
      "A0A075B6I1: GO:0006955\n",
      "A0A075B6I3: GO:0006955\n",
      "A0A075B6I4: GO:0006955\n",
      "A0A075B6I6: GO:0006955\n",
      "A0A075B6I7: GO:0006955\n",
      "A0A075B6I9: GO:0006955\n"
     ]
    }
   ],
   "source": [
    "for gene_id, go_ids in list(method_1.items())[:10]:\n",
    "    print(f\"{gene_id}: {go_ids}\")"
   ]
  },
  {
   "cell_type": "code",
   "execution_count": 49,
   "id": "6099d2c2",
   "metadata": {
    "ExecuteTime": {
     "end_time": "2023-08-11T12:38:30.652852Z",
     "start_time": "2023-08-11T12:38:30.638455Z"
    }
   },
   "outputs": [
    {
     "data": {
      "text/plain": [
       "7"
      ]
     },
     "execution_count": 49,
     "metadata": {},
     "output_type": "execute_result"
    }
   ],
   "source": [
    "# calculate the level of some terms (e.g. 'GO:1901907', 'GO:1901909', 'GO:0071543', 'GO:1901911')\n",
    "godag['GO:1901911'].level"
   ]
  },
  {
   "cell_type": "code",
   "execution_count": 50,
   "id": "36f0133d",
   "metadata": {
    "ExecuteTime": {
     "end_time": "2023-08-11T12:38:30.668896Z",
     "start_time": "2023-08-11T12:38:30.653853Z"
    },
    "slideshow": {
     "slide_type": "fragment"
    }
   },
   "outputs": [],
   "source": [
    "# check revigo for this example (key:A0A075B6H7)('GO:0002250', 'GO:0006955', 'GO:0002377') \n",
    "# (options in revigo: method = Resnik, resulting list 0.5)\n",
    "# our code works because (like revigo) its keeps only the term GO:0006955 which is the most general"
   ]
  },
  {
   "cell_type": "code",
   "execution_count": 51,
   "id": "54e4f409",
   "metadata": {
    "ExecuteTime": {
     "end_time": "2023-08-11T12:38:30.684424Z",
     "start_time": "2023-08-11T12:38:30.669896Z"
    },
    "slideshow": {
     "slide_type": "fragment"
    }
   },
   "outputs": [
    {
     "data": {
      "text/plain": [
       "['GO:1901907', 'GO:1901909', 'GO:0071543', 'GO:1901911']"
      ]
     },
     "execution_count": 51,
     "metadata": {},
     "output_type": "execute_result"
    }
   ],
   "source": [
    "method_1['A0A024RBG1']"
   ]
  },
  {
   "cell_type": "code",
   "execution_count": 52,
   "id": "2d81383d",
   "metadata": {
    "ExecuteTime": {
     "end_time": "2023-08-11T12:38:30.700448Z",
     "start_time": "2023-08-11T12:38:30.685425Z"
    },
    "slideshow": {
     "slide_type": "fragment"
    }
   },
   "outputs": [
    {
     "data": {
      "text/plain": [
       "['GO:1901907', 'GO:1901909', 'GO:0071543', 'GO:1901911']"
      ]
     },
     "execution_count": 52,
     "metadata": {},
     "output_type": "execute_result"
    }
   ],
   "source": [
    "cleaned_data['A0A024RBG1']"
   ]
  },
  {
   "cell_type": "code",
   "execution_count": 53,
   "id": "9a926b19",
   "metadata": {
    "ExecuteTime": {
     "end_time": "2023-08-11T12:38:30.716496Z",
     "start_time": "2023-08-11T12:38:30.701450Z"
    },
    "slideshow": {
     "slide_type": "fragment"
    }
   },
   "outputs": [],
   "source": [
    "# check revigo for this example ['GO:1901907', 'GO:1901909', 'GO:0071543', 'GO:1901911']\n",
    "# our code keeps all the terms but revigo keeps only GO:0071543 and GO:1901911"
   ]
  },
  {
   "cell_type": "code",
   "execution_count": 54,
   "id": "4bffb6a5",
   "metadata": {
    "ExecuteTime": {
     "end_time": "2023-08-11T12:40:13.175179Z",
     "start_time": "2023-08-11T12:38:30.717498Z"
    }
   },
   "outputs": [
    {
     "name": "stdout",
     "output_type": "stream",
     "text": [
      "go-basic.obo: fmt(1.2) rel(2023-06-11) 46,420 Terms\n"
     ]
    }
   ],
   "source": [
    "# OTHER METHOD (method_2)\n",
    "from goatools.semantic import semantic_similarity\n",
    "from goatools.obo_parser import GODag\n",
    "import random\n",
    "# Step 2: Load the GO DAG (Directed Acyclic Graph)\n",
    "godag = GODag(obo_file)\n",
    "\n",
    "# Step 4: Apply the filtering rules and create the new dictionary\n",
    "method_2 = {}\n",
    "\n",
    "def random_selection(terms):\n",
    "    return random.choice(terms)\n",
    "\n",
    "# Filter and keep the terms based on the conditions\n",
    "for gene, go_terms in cleaned_data.items():\n",
    "    filtered_terms = []\n",
    "    added_terms = set()\n",
    "\n",
    "    for go_id1 in go_terms:\n",
    "        if go_id1 in added_terms:\n",
    "            continue\n",
    "        similar_terms = [go_id2 for go_id2 in go_terms if semantic_similarity(go_id1, go_id2, go_dag) >= 0.5]\n",
    "        if len(similar_terms) == 1:\n",
    "            # If there's only one similar term, keep it\n",
    "            filtered_terms.append(go_id1)\n",
    "            added_terms.add(go_id1)\n",
    "        else:\n",
    "            # If there are multiple similar terms, choose one based on the level or randomly if levels are the same\n",
    "            similar_levels = [(go_id2, go_dag[go_id2].level) for go_id2 in similar_terms]\n",
    "            similar_levels.sort(key=lambda x: x[1])\n",
    "            same_level_terms = [term[0] for term in similar_levels if term[1] == similar_levels[0][1]]\n",
    "            selected_term = random_selection(same_level_terms)\n",
    "            filtered_terms.append(selected_term)\n",
    "            added_terms.add(selected_term)\n",
    "\n",
    "    method_2[gene] = filtered_terms"
   ]
  },
  {
   "cell_type": "code",
   "execution_count": 55,
   "id": "cc541ad7",
   "metadata": {
    "ExecuteTime": {
     "end_time": "2023-08-11T12:40:13.191178Z",
     "start_time": "2023-08-11T12:40:13.176178Z"
    }
   },
   "outputs": [
    {
     "data": {
      "text/plain": [
       "['GO:1901907', 'GO:1901909', 'GO:0071543', 'GO:1901911']"
      ]
     },
     "execution_count": 55,
     "metadata": {},
     "output_type": "execute_result"
    }
   ],
   "source": [
    "cleaned_data['A0A024RBG1']"
   ]
  },
  {
   "cell_type": "code",
   "execution_count": 56,
   "id": "c4066d83",
   "metadata": {
    "ExecuteTime": {
     "end_time": "2023-08-11T12:40:13.206179Z",
     "start_time": "2023-08-11T12:40:13.192179Z"
    }
   },
   "outputs": [
    {
     "data": {
      "text/plain": [
       "['GO:1901907', 'GO:1901907', 'GO:0071543', 'GO:1901911']"
      ]
     },
     "execution_count": 56,
     "metadata": {},
     "output_type": "execute_result"
    }
   ],
   "source": [
    "method_2['A0A024RBG1']"
   ]
  },
  {
   "cell_type": "code",
   "execution_count": 57,
   "id": "481c6013",
   "metadata": {
    "ExecuteTime": {
     "end_time": "2023-08-11T12:40:13.222187Z",
     "start_time": "2023-08-11T12:40:13.207181Z"
    }
   },
   "outputs": [
    {
     "name": "stdout",
     "output_type": "stream",
     "text": [
      "A0A075B6H7: ['GO:0002250', 'GO:0006955', 'GO:0002377']\n",
      "A0A075B6H8: ['GO:0002250', 'GO:0002377', 'GO:0006955']\n",
      "A0A075B6H9: ['GO:0002250', 'GO:0002377', 'GO:0006955']\n",
      "A0A075B6I0: ['GO:0002250', 'GO:0002377', 'GO:0006955']\n",
      "A0A075B6I1: ['GO:0002250', 'GO:0006955', 'GO:0002377']\n",
      "A0A075B6I3: ['GO:0002250', 'GO:0002377', 'GO:0006955']\n",
      "A0A075B6I4: ['GO:0002250', 'GO:0006955', 'GO:0002377']\n",
      "A0A075B6I6: ['GO:0002250', 'GO:0006955', 'GO:0002377']\n",
      "A0A075B6I7: ['GO:0002250', 'GO:0006955', 'GO:0002377']\n",
      "A0A075B6I9: ['GO:0002250', 'GO:0006955', 'GO:0002377']\n"
     ]
    }
   ],
   "source": [
    "for gene_id, go_ids in list(cleaned_data.items())[:10]:\n",
    "    print(f\"{gene_id}: {go_ids}\")"
   ]
  },
  {
   "cell_type": "code",
   "execution_count": 58,
   "id": "54f51577",
   "metadata": {
    "ExecuteTime": {
     "end_time": "2023-08-11T12:40:13.237700Z",
     "start_time": "2023-08-11T12:40:13.223187Z"
    }
   },
   "outputs": [
    {
     "name": "stdout",
     "output_type": "stream",
     "text": [
      "A0A075B6H7: ['GO:0006955', 'GO:0002377']\n",
      "A0A075B6H8: ['GO:0006955', 'GO:0002377']\n",
      "A0A075B6H9: ['GO:0006955', 'GO:0002377']\n",
      "A0A075B6I0: ['GO:0006955', 'GO:0002377']\n",
      "A0A075B6I1: ['GO:0006955', 'GO:0002377']\n",
      "A0A075B6I3: ['GO:0006955', 'GO:0002377']\n",
      "A0A075B6I4: ['GO:0006955', 'GO:0002377']\n",
      "A0A075B6I6: ['GO:0006955', 'GO:0002377']\n",
      "A0A075B6I7: ['GO:0006955', 'GO:0002377']\n",
      "A0A075B6I9: ['GO:0006955', 'GO:0002377']\n"
     ]
    }
   ],
   "source": [
    "for gene_id, go_ids in list(method_2.items())[:10]:\n",
    "    print(f\"{gene_id}: {go_ids}\")"
   ]
  },
  {
   "cell_type": "code",
   "execution_count": 59,
   "id": "96cca42f",
   "metadata": {
    "ExecuteTime": {
     "end_time": "2023-08-11T12:42:00.468452Z",
     "start_time": "2023-08-11T12:40:13.238698Z"
    }
   },
   "outputs": [
    {
     "name": "stdout",
     "output_type": "stream",
     "text": [
      "go-basic.obo: fmt(1.2) rel(2023-06-11) 46,420 Terms\n"
     ]
    }
   ],
   "source": [
    "#Method 3\n",
    "\n",
    "from goatools import obo_parser\n",
    "from goatools.semantic import semantic_similarity\n",
    "import random\n",
    "\n",
    "def filter_go_terms(go_terms, go2term):\n",
    "    filtered_go_terms = []\n",
    "\n",
    "    for go_term in go_terms:\n",
    "        keep_term = True\n",
    "\n",
    "        for other_term in go_terms:\n",
    "            if go_term == other_term:\n",
    "                continue\n",
    "\n",
    "            similarity = semantic_similarity(go_term, other_term, go2term)\n",
    "\n",
    "            if similarity >= 0.5:\n",
    "                level = go2term[go_term].level\n",
    "                other_level = go2term[other_term].level\n",
    "\n",
    "                if level == other_level:\n",
    "                    keep_term = False if random.choice([True, False]) else keep_term\n",
    "                else:\n",
    "                    keep_term = False if level > other_level else keep_term\n",
    "\n",
    "        if keep_term:\n",
    "            filtered_go_terms.append(go_term)\n",
    "\n",
    "    return filtered_go_terms\n",
    "\n",
    "def process_data(input_data):\n",
    "    go = obo_parser.GODag(\"go-basic.obo\")\n",
    "    method_3 = {}\n",
    "\n",
    "    for key, go_terms in cleaned_data.items():\n",
    "        if len(go_terms) == 1:\n",
    "            method_3[key] = go_terms\n",
    "        else:\n",
    "            filtered_terms = filter_go_terms(go_terms, go)\n",
    "            method_3[key] = filtered_terms\n",
    "\n",
    "    return method_3\n",
    "\n",
    "\n",
    "method_3 = process_data(cleaned_data)\n"
   ]
  },
  {
   "cell_type": "code",
   "execution_count": 60,
   "id": "82058518",
   "metadata": {
    "ExecuteTime": {
     "end_time": "2023-08-11T12:42:00.484462Z",
     "start_time": "2023-08-11T12:42:00.469470Z"
    }
   },
   "outputs": [
    {
     "name": "stdout",
     "output_type": "stream",
     "text": [
      "A0A075B6H7: ['GO:0006955', 'GO:0002377']\n",
      "A0A075B6H8: ['GO:0002377', 'GO:0006955']\n",
      "A0A075B6H9: ['GO:0002377', 'GO:0006955']\n",
      "A0A075B6I0: ['GO:0002377', 'GO:0006955']\n",
      "A0A075B6I1: ['GO:0006955', 'GO:0002377']\n",
      "A0A075B6I3: ['GO:0002377', 'GO:0006955']\n",
      "A0A075B6I4: ['GO:0006955', 'GO:0002377']\n",
      "A0A075B6I6: ['GO:0006955', 'GO:0002377']\n",
      "A0A075B6I7: ['GO:0006955', 'GO:0002377']\n",
      "A0A075B6I9: ['GO:0006955', 'GO:0002377']\n"
     ]
    }
   ],
   "source": [
    "for gene_id, go_ids in list(method_3.items())[:10]:\n",
    "    print(f\"{gene_id}: {go_ids}\")"
   ]
  },
  {
   "cell_type": "code",
   "execution_count": 61,
   "id": "9067cc88",
   "metadata": {
    "ExecuteTime": {
     "end_time": "2023-08-11T12:42:00.499463Z",
     "start_time": "2023-08-11T12:42:00.485459Z"
    }
   },
   "outputs": [
    {
     "data": {
      "text/plain": [
       "['GO:1901907', 'GO:1901909', 'GO:0071543', 'GO:1901911']"
      ]
     },
     "execution_count": 61,
     "metadata": {},
     "output_type": "execute_result"
    }
   ],
   "source": [
    "method_3['A0A024RBG1']"
   ]
  },
  {
   "cell_type": "code",
   "execution_count": 62,
   "id": "c2129012",
   "metadata": {
    "ExecuteTime": {
     "end_time": "2023-08-11T12:42:00.515459Z",
     "start_time": "2023-08-11T12:42:00.500460Z"
    }
   },
   "outputs": [
    {
     "data": {
      "text/plain": [
       "['GO:0002250', 'GO:0006955', 'GO:0002377']"
      ]
     },
     "execution_count": 62,
     "metadata": {},
     "output_type": "execute_result"
    }
   ],
   "source": [
    "cleaned_data['A0A075B6H7']"
   ]
  },
  {
   "cell_type": "code",
   "execution_count": 63,
   "id": "c26f2cf9",
   "metadata": {
    "ExecuteTime": {
     "end_time": "2023-08-11T12:42:00.530460Z",
     "start_time": "2023-08-11T12:42:00.516461Z"
    },
    "slideshow": {
     "slide_type": "slide"
    }
   },
   "outputs": [],
   "source": [
    "# All in all i believe I am close to the solution, just need to pinpoint a couple of things:\n",
    "\n",
    "# 1) What similarity threshold to use?\n",
    "# 2) If two terms surpass the similarity threshold (meaning they are too similar) which do we keep?\n",
    "# (the more general or the more specific and what if they are one the same \"level\")\n",
    "\n",
    "# I believe if we answer these questions and tweak a little bit the code in the new method, we will have\n",
    "# the desired result.\n"
   ]
  },
  {
   "cell_type": "code",
   "execution_count": 64,
   "id": "41c460bc",
   "metadata": {
    "ExecuteTime": {
     "end_time": "2023-08-11T12:42:00.562468Z",
     "start_time": "2023-08-11T12:42:00.531459Z"
    }
   },
   "outputs": [
    {
     "data": {
      "text/html": [
       "<details>\n",
       "<summary>Click to view session information</summary>\n",
       "<pre>\n",
       "-----\n",
       "goatools            1.3.1\n",
       "pandas              1.4.4\n",
       "session_info        1.0.0\n",
       "-----\n",
       "</pre>\n",
       "<details>\n",
       "<summary>Click to view modules imported as dependencies</summary>\n",
       "<pre>\n",
       "backcall                    0.2.0\n",
       "bottleneck                  1.3.5\n",
       "colorama                    0.4.5\n",
       "cython_runtime              NA\n",
       "dateutil                    2.8.2\n",
       "debugpy                     1.5.1\n",
       "decorator                   5.1.1\n",
       "entrypoints                 0.4\n",
       "google                      NA\n",
       "ipykernel                   6.15.2\n",
       "ipython_genutils            0.2.0\n",
       "jedi                        0.18.1\n",
       "jupyter_server              1.18.1\n",
       "mkl                         2.4.0\n",
       "mpl_toolkits                NA\n",
       "nt                          NA\n",
       "ntsecuritycon               NA\n",
       "numexpr                     2.8.4\n",
       "numpy                       1.21.5\n",
       "packaging                   21.3\n",
       "parso                       0.8.3\n",
       "pickleshare                 0.7.5\n",
       "pkg_resources               NA\n",
       "prompt_toolkit              3.0.20\n",
       "psutil                      5.9.0\n",
       "pydev_ipython               NA\n",
       "pydevconsole                NA\n",
       "pydevd                      2.6.0\n",
       "pydevd_concurrency_analyser NA\n",
       "pydevd_file_utils           NA\n",
       "pydevd_plugins              NA\n",
       "pydevd_tracing              NA\n",
       "pygments                    2.14.0\n",
       "pythoncom                   NA\n",
       "pytz                        2022.1\n",
       "pywintypes                  NA\n",
       "ruamel                      NA\n",
       "six                         1.16.0\n",
       "sphinxcontrib               NA\n",
       "storemagic                  NA\n",
       "tornado                     6.2\n",
       "traitlets                   5.1.1\n",
       "wcwidth                     0.2.5\n",
       "win32api                    NA\n",
       "win32com                    NA\n",
       "win32security               NA\n",
       "zmq                         23.2.0\n",
       "zope                        NA\n",
       "</pre>\n",
       "</details> <!-- seems like this ends pre, so might as well be explicit -->\n",
       "<pre>\n",
       "-----\n",
       "IPython             7.31.1\n",
       "jupyter_client      7.4.7\n",
       "jupyter_core        4.11.2\n",
       "jupyterlab          3.5.0\n",
       "notebook            6.5.2\n",
       "-----\n",
       "Python 3.9.15 (main, Nov 24 2022, 14:39:17) [MSC v.1916 64 bit (AMD64)]\n",
       "Windows-10-10.0.22621-SP0\n",
       "-----\n",
       "Session information updated at 2023-08-11 15:42\n",
       "</pre>\n",
       "</details>"
      ],
      "text/plain": [
       "<IPython.core.display.HTML object>"
      ]
     },
     "execution_count": 64,
     "metadata": {},
     "output_type": "execute_result"
    }
   ],
   "source": [
    "import session_info\n",
    "session_info.show()"
   ]
  }
 ],
 "metadata": {
  "celltoolbar": "Slideshow",
  "kernelspec": {
   "display_name": "Python 3 (ipykernel)",
   "language": "python",
   "name": "python3"
  },
  "language_info": {
   "codemirror_mode": {
    "name": "ipython",
    "version": 3
   },
   "file_extension": ".py",
   "mimetype": "text/x-python",
   "name": "python",
   "nbconvert_exporter": "python",
   "pygments_lexer": "ipython3",
   "version": "3.9.15"
  },
  "toc": {
   "base_numbering": 1,
   "nav_menu": {},
   "number_sections": true,
   "sideBar": true,
   "skip_h1_title": false,
   "title_cell": "Table of Contents",
   "title_sidebar": "Contents",
   "toc_cell": false,
   "toc_position": {
    "height": "calc(100% - 180px)",
    "left": "10px",
    "top": "150px",
    "width": "165px"
   },
   "toc_section_display": true,
   "toc_window_display": true
  },
  "varInspector": {
   "cols": {
    "lenName": 16,
    "lenType": 16,
    "lenVar": 40
   },
   "kernels_config": {
    "python": {
     "delete_cmd_postfix": "",
     "delete_cmd_prefix": "del ",
     "library": "var_list.py",
     "varRefreshCmd": "print(var_dic_list())"
    },
    "r": {
     "delete_cmd_postfix": ") ",
     "delete_cmd_prefix": "rm(",
     "library": "var_list.r",
     "varRefreshCmd": "cat(var_dic_list()) "
    }
   },
   "oldHeight": 127.696142,
   "position": {
    "height": "171.679px",
    "left": "530.286px",
    "right": "20px",
    "top": "80px",
    "width": "394.67px"
   },
   "types_to_exclude": [
    "module",
    "function",
    "builtin_function_or_method",
    "instance",
    "_Feature"
   ],
   "varInspector_section_display": "block",
   "window_display": false
  }
 },
 "nbformat": 4,
 "nbformat_minor": 5
}
